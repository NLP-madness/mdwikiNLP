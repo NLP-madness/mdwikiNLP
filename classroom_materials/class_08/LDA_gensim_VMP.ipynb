{
 "cells": [
  {
   "cell_type": "markdown",
   "metadata": {},
   "source": [
    "https://www.machinelearningplus.com/nlp/topic-modeling-gensim-python/"
   ]
  },
  {
   "cell_type": "code",
   "execution_count": 2,
   "metadata": {},
   "outputs": [
    {
     "name": "stderr",
     "output_type": "stream",
     "text": [
      "[nltk_data] Downloading package stopwords to\n",
      "[nltk_data]     /home/victormp/nltk_data...\n",
      "[nltk_data]   Package stopwords is already up-to-date!\n"
     ]
    },
    {
     "data": {
      "text/plain": [
       "True"
      ]
     },
     "execution_count": 2,
     "metadata": {},
     "output_type": "execute_result"
    }
   ],
   "source": [
    "import nltk; nltk.download('stopwords')"
   ]
  },
  {
   "cell_type": "code",
   "execution_count": 4,
   "metadata": {},
   "outputs": [],
   "source": [
    "#basics \n",
    "import re\n",
    "import numpy as np\n",
    "import pandas as pd\n",
    "from pprint import pprint"
   ]
  },
  {
   "cell_type": "code",
   "execution_count": 8,
   "metadata": {},
   "outputs": [
    {
     "ename": "ImportError",
     "evalue": "cannot import name 'CoherenceModelimport' from 'gensim.models' (/home/victormp/anaconda3/envs/nlp/lib/python3.8/site-packages/gensim/models/__init__.py)",
     "output_type": "error",
     "traceback": [
      "\u001b[0;31m----------------------------------------\u001b[0m",
      "\u001b[0;31mImportError\u001b[0mTraceback (most recent call last)",
      "\u001b[0;32m<ipython-input-8-dd6b74f2374e>\u001b[0m in \u001b[0;36m<module>\u001b[0;34m\u001b[0m\n\u001b[1;32m      2\u001b[0m \u001b[0;32mimport\u001b[0m \u001b[0mgensim\u001b[0m\u001b[0;34m.\u001b[0m\u001b[0mcorpora\u001b[0m \u001b[0;32mas\u001b[0m \u001b[0mcorpora\u001b[0m\u001b[0;34m\u001b[0m\u001b[0;34m\u001b[0m\u001b[0m\n\u001b[1;32m      3\u001b[0m \u001b[0;32mfrom\u001b[0m \u001b[0mgensim\u001b[0m\u001b[0;34m.\u001b[0m\u001b[0mutils\u001b[0m \u001b[0;32mimport\u001b[0m \u001b[0msimple_preprocess\u001b[0m\u001b[0;34m\u001b[0m\u001b[0;34m\u001b[0m\u001b[0m\n\u001b[0;32m----> 4\u001b[0;31m \u001b[0;32mfrom\u001b[0m \u001b[0mgensim\u001b[0m\u001b[0;34m.\u001b[0m\u001b[0mmodels\u001b[0m \u001b[0;32mimport\u001b[0m \u001b[0mCoherenceModelimport\u001b[0m\u001b[0;34m\u001b[0m\u001b[0;34m\u001b[0m\u001b[0m\n\u001b[0m",
      "\u001b[0;31mImportError\u001b[0m: cannot import name 'CoherenceModelimport' from 'gensim.models' (/home/victormp/anaconda3/envs/nlp/lib/python3.8/site-packages/gensim/models/__init__.py)"
     ]
    }
   ],
   "source": [
    "#gensim\n",
    "import gensim\n",
    "import gensim.corpora as corpora\n",
    "from gensim.utils import simple_preprocess\n",
    "from gensim.models import CoherenceModelimport #throws error. \n"
   ]
  },
  {
   "cell_type": "code",
   "execution_count": 9,
   "metadata": {},
   "outputs": [],
   "source": [
    "# spacy for lemmatization\n",
    "import spacy"
   ]
  },
  {
   "cell_type": "code",
   "execution_count": 10,
   "metadata": {},
   "outputs": [],
   "source": [
    "# Plotting tools\n",
    "import pyLDAvis\n",
    "import pyLDAvis.gensim  # don't skip this\n",
    "import matplotlib.pyplot as plt\n",
    "%matplotlib inline"
   ]
  },
  {
   "cell_type": "code",
   "execution_count": 11,
   "metadata": {},
   "outputs": [
    {
     "name": "stderr",
     "output_type": "stream",
     "text": [
      "/home/victormp/anaconda3/envs/nlp/lib/python3.8/site-packages/ipykernel/ipkernel.py:287: DeprecationWarning: `should_run_async` will not call `transform_cell` automatically in the future. Please pass the result to `transformed_cell` argument and any exception that happen during thetransform in `preprocessing_exc_tuple` in IPython 7.17 and above.\n",
      "  and should_run_async(code)\n"
     ]
    }
   ],
   "source": [
    "# Enable logging for gensim - optional\n",
    "import logging\n",
    "logging.basicConfig(format='%(asctime)s : %(levelname)s : %(message)s', level=logging.ERROR)\n",
    "\n",
    "import warnings\n",
    "warnings.filterwarnings(\"ignore\",category=DeprecationWarning)"
   ]
  },
  {
   "cell_type": "markdown",
   "metadata": {},
   "source": [
    "5. Prepare stopwords: "
   ]
  },
  {
   "cell_type": "code",
   "execution_count": 13,
   "metadata": {},
   "outputs": [],
   "source": [
    "# NLTK Stop words\n",
    "from nltk.corpus import stopwords\n",
    "stop_words = stopwords.words('english')\n",
    "stop_words.extend(['from', 'subject', 're', 'edu', 'use'])"
   ]
  },
  {
   "cell_type": "markdown",
   "metadata": {},
   "source": [
    "6. Import newsgroup data-set:\n"
   ]
  },
  {
   "cell_type": "code",
   "execution_count": 15,
   "metadata": {},
   "outputs": [
    {
     "name": "stdout",
     "output_type": "stream",
     "text": [
      "['rec.autos' 'comp.sys.mac.hardware' 'comp.graphics' 'sci.space'\n",
      " 'talk.politics.guns' 'sci.med' 'comp.sys.ibm.pc.hardware'\n",
      " 'comp.os.ms-windows.misc' 'rec.motorcycles' 'talk.religion.misc'\n",
      " 'misc.forsale' 'alt.atheism' 'sci.electronics' 'comp.windows.x'\n",
      " 'rec.sport.hockey' 'rec.sport.baseball' 'soc.religion.christian'\n",
      " 'talk.politics.mideast' 'talk.politics.misc' 'sci.crypt']\n"
     ]
    },
    {
     "data": {
      "text/html": [
       "<div>\n",
       "<style scoped>\n",
       "    .dataframe tbody tr th:only-of-type {\n",
       "        vertical-align: middle;\n",
       "    }\n",
       "\n",
       "    .dataframe tbody tr th {\n",
       "        vertical-align: top;\n",
       "    }\n",
       "\n",
       "    .dataframe thead th {\n",
       "        text-align: right;\n",
       "    }\n",
       "</style>\n",
       "<table border=\"1\" class=\"dataframe\">\n",
       "  <thead>\n",
       "    <tr style=\"text-align: right;\">\n",
       "      <th></th>\n",
       "      <th>content</th>\n",
       "      <th>target</th>\n",
       "      <th>target_names</th>\n",
       "    </tr>\n",
       "  </thead>\n",
       "  <tbody>\n",
       "    <tr>\n",
       "      <th>0</th>\n",
       "      <td>From: lerxst@wam.umd.edu (where's my thing)\\nS...</td>\n",
       "      <td>7</td>\n",
       "      <td>rec.autos</td>\n",
       "    </tr>\n",
       "    <tr>\n",
       "      <th>1</th>\n",
       "      <td>From: guykuo@carson.u.washington.edu (Guy Kuo)...</td>\n",
       "      <td>4</td>\n",
       "      <td>comp.sys.mac.hardware</td>\n",
       "    </tr>\n",
       "    <tr>\n",
       "      <th>2</th>\n",
       "      <td>From: twillis@ec.ecn.purdue.edu (Thomas E Will...</td>\n",
       "      <td>4</td>\n",
       "      <td>comp.sys.mac.hardware</td>\n",
       "    </tr>\n",
       "    <tr>\n",
       "      <th>3</th>\n",
       "      <td>From: jgreen@amber (Joe Green)\\nSubject: Re: W...</td>\n",
       "      <td>1</td>\n",
       "      <td>comp.graphics</td>\n",
       "    </tr>\n",
       "    <tr>\n",
       "      <th>4</th>\n",
       "      <td>From: jcm@head-cfa.harvard.edu (Jonathan McDow...</td>\n",
       "      <td>14</td>\n",
       "      <td>sci.space</td>\n",
       "    </tr>\n",
       "  </tbody>\n",
       "</table>\n",
       "</div>"
      ],
      "text/plain": [
       "                                             content  target  \\\n",
       "0  From: lerxst@wam.umd.edu (where's my thing)\\nS...       7   \n",
       "1  From: guykuo@carson.u.washington.edu (Guy Kuo)...       4   \n",
       "2  From: twillis@ec.ecn.purdue.edu (Thomas E Will...       4   \n",
       "3  From: jgreen@amber (Joe Green)\\nSubject: Re: W...       1   \n",
       "4  From: jcm@head-cfa.harvard.edu (Jonathan McDow...      14   \n",
       "\n",
       "            target_names  \n",
       "0              rec.autos  \n",
       "1  comp.sys.mac.hardware  \n",
       "2  comp.sys.mac.hardware  \n",
       "3          comp.graphics  \n",
       "4              sci.space  "
      ]
     },
     "execution_count": 15,
     "metadata": {},
     "output_type": "execute_result"
    }
   ],
   "source": [
    "# Import Dataset\n",
    "df = pd.read_json('https://raw.githubusercontent.com/selva86/datasets/master/newsgroups.json')\n",
    "print(df.target_names.unique())\n",
    "df.head()"
   ]
  },
  {
   "cell_type": "markdown",
   "metadata": {},
   "source": [
    "7. Remove emal and newline characters. "
   ]
  },
  {
   "cell_type": "code",
   "execution_count": 17,
   "metadata": {},
   "outputs": [
    {
     "name": "stdout",
     "output_type": "stream",
     "text": [
      "['From: (wheres my thing) Subject: WHAT car is this!? Nntp-Posting-Host: '\n",
      " 'rac3.wam.umd.edu Organization: University of Maryland, College Park Lines: '\n",
      " '15 I was wondering if anyone out there could enlighten me on this car I saw '\n",
      " 'the other day. It was a 2-door sports car, looked to be from the late 60s/ '\n",
      " 'early 70s. It was called a Bricklin. The doors were really small. In '\n",
      " 'addition, the front bumper was separate from the rest of the body. This is '\n",
      " 'all I know. If anyone can tellme a model name, engine specs, years of '\n",
      " 'production, where this car is made, history, or whatever info you have on '\n",
      " 'this funky looking car, please e-mail. Thanks, - IL ---- brought to you by '\n",
      " 'your neighborhood Lerxst ---- ']\n"
     ]
    }
   ],
   "source": [
    "# Convert to list\n",
    "data = df.content.values.tolist()\n",
    "\n",
    "# Remove Emails\n",
    "data = [re.sub('\\S*@\\S*\\s?', '', sent) for sent in data]\n",
    "\n",
    "# Remove new line characters\n",
    "data = [re.sub('\\s+', ' ', sent) for sent in data]\n",
    "\n",
    "# Remove distracting single quotes\n",
    "data = [re.sub(\"\\'\", \"\", sent) for sent in data]\n",
    "\n",
    "pprint(data[:1])"
   ]
  },
  {
   "cell_type": "markdown",
   "metadata": {},
   "source": [
    "8. Tokenize and clean up"
   ]
  },
  {
   "cell_type": "code",
   "execution_count": 18,
   "metadata": {},
   "outputs": [
    {
     "name": "stdout",
     "output_type": "stream",
     "text": [
      "[['from', 'wheres', 'my', 'thing', 'subject', 'what', 'car', 'is', 'this', 'nntp', 'posting', 'host', 'rac', 'wam', 'umd', 'edu', 'organization', 'university', 'of', 'maryland', 'college', 'park', 'lines', 'was', 'wondering', 'if', 'anyone', 'out', 'there', 'could', 'enlighten', 'me', 'on', 'this', 'car', 'saw', 'the', 'other', 'day', 'it', 'was', 'door', 'sports', 'car', 'looked', 'to', 'be', 'from', 'the', 'late', 'early', 'it', 'was', 'called', 'bricklin', 'the', 'doors', 'were', 'really', 'small', 'in', 'addition', 'the', 'front', 'bumper', 'was', 'separate', 'from', 'the', 'rest', 'of', 'the', 'body', 'this', 'is', 'all', 'know', 'if', 'anyone', 'can', 'tellme', 'model', 'name', 'engine', 'specs', 'years', 'of', 'production', 'where', 'this', 'car', 'is', 'made', 'history', 'or', 'whatever', 'info', 'you', 'have', 'on', 'this', 'funky', 'looking', 'car', 'please', 'mail', 'thanks', 'il', 'brought', 'to', 'you', 'by', 'your', 'neighborhood', 'lerxst']]\n"
     ]
    }
   ],
   "source": [
    "def sent_to_words(sentences):\n",
    "    for sentence in sentences:\n",
    "        yield(gensim.utils.simple_preprocess(str(sentence), deacc=True))  # deacc=True removes punctuations\n",
    "\n",
    "data_words = list(sent_to_words(data))\n",
    "\n",
    "print(data_words[:1])"
   ]
  },
  {
   "cell_type": "markdown",
   "metadata": {},
   "source": [
    "9. Bi-gram and tri-gram based on frequent occurence.\n",
    "(takes some time to run). "
   ]
  },
  {
   "cell_type": "code",
   "execution_count": 19,
   "metadata": {},
   "outputs": [
    {
     "name": "stdout",
     "output_type": "stream",
     "text": [
      "['from', 'wheres', 'my', 'thing', 'subject', 'what', 'car', 'is', 'this', 'nntp_posting_host', 'rac_wam_umd_edu', 'organization', 'university', 'of', 'maryland_college_park', 'lines', 'was', 'wondering', 'if', 'anyone', 'out', 'there', 'could', 'enlighten', 'me', 'on', 'this', 'car', 'saw', 'the', 'other', 'day', 'it', 'was', 'door', 'sports', 'car', 'looked', 'to', 'be', 'from', 'the', 'late', 'early', 'it', 'was', 'called', 'bricklin', 'the', 'doors', 'were', 'really', 'small', 'in', 'addition', 'the', 'front_bumper', 'was', 'separate', 'from', 'the', 'rest', 'of', 'the', 'body', 'this', 'is', 'all', 'know', 'if', 'anyone', 'can', 'tellme', 'model', 'name', 'engine', 'specs', 'years', 'of', 'production', 'where', 'this', 'car', 'is', 'made', 'history', 'or', 'whatever', 'info', 'you', 'have', 'on', 'this', 'funky', 'looking', 'car', 'please', 'mail', 'thanks', 'il', 'brought', 'to', 'you', 'by', 'your', 'neighborhood', 'lerxst']\n"
     ]
    }
   ],
   "source": [
    "# Build the bigram and trigram models\n",
    "bigram = gensim.models.Phrases(data_words, min_count=5, threshold=100) # higher threshold fewer phrases.\n",
    "trigram = gensim.models.Phrases(bigram[data_words], threshold=100)  \n",
    "\n",
    "# Faster way to get a sentence clubbed as a trigram/bigram\n",
    "bigram_mod = gensim.models.phrases.Phraser(bigram)\n",
    "trigram_mod = gensim.models.phrases.Phraser(trigram)\n",
    "\n",
    "# See trigram example\n",
    "print(trigram_mod[bigram_mod[data_words[0]]])"
   ]
  },
  {
   "cell_type": "markdown",
   "metadata": {},
   "source": [
    "10. Remove stopwords, make bigrams and lemmatize. "
   ]
  },
  {
   "cell_type": "code",
   "execution_count": 20,
   "metadata": {},
   "outputs": [],
   "source": [
    "# Define functions for stopwords, bigrams, trigrams and lemmatization\n",
    "def remove_stopwords(texts):\n",
    "    return [[word for word in simple_preprocess(str(doc)) if word not in stop_words] for doc in texts]\n",
    "\n",
    "def make_bigrams(texts):\n",
    "    return [bigram_mod[doc] for doc in texts]\n",
    "\n",
    "def make_trigrams(texts):\n",
    "    return [trigram_mod[bigram_mod[doc]] for doc in texts]\n",
    "\n",
    "def lemmatization(texts, allowed_postags=['NOUN', 'ADJ', 'VERB', 'ADV']):\n",
    "    \"\"\"https://spacy.io/api/annotation\"\"\"\n",
    "    texts_out = []\n",
    "    for sent in texts:\n",
    "        doc = nlp(\" \".join(sent)) \n",
    "        texts_out.append([token.lemma_ for token in doc if token.pos_ in allowed_postags])\n",
    "    return texts_out"
   ]
  },
  {
   "cell_type": "markdown",
   "metadata": {},
   "source": [
    "Using the functions.\n",
    "(takes some time to run). "
   ]
  },
  {
   "cell_type": "code",
   "execution_count": 21,
   "metadata": {},
   "outputs": [
    {
     "name": "stdout",
     "output_type": "stream",
     "text": [
      "[['where', 'thing', 'car', 'nntp_poste', 'host', 'park', 'line', 'wonder', 'could', 'enlighten', 'car', 'see', 'day', 'door', 'sport', 'car', 'look', 'late', 'early', 'call', 'door', 'really', 'small', 'addition', 'separate', 'rest', 'body', 'know', 'model', 'name', 'engine', 'spec', 'year', 'production', 'car', 'make', 'history', 'info', 'funky', 'look', 'car', 'mail', 'thank', 'bring', 'neighborhood', 'lerxst']]\n"
     ]
    }
   ],
   "source": [
    "# Remove Stop Words\n",
    "data_words_nostops = remove_stopwords(data_words)\n",
    "\n",
    "# Form Bigrams\n",
    "data_words_bigrams = make_bigrams(data_words_nostops)\n",
    "\n",
    "# Initialize spacy 'en' model, keeping only tagger component (for efficiency)\n",
    "# python3 -m spacy download en\n",
    "nlp = spacy.load('en', disable=['parser', 'ner'])\n",
    "\n",
    "# Do lemmatization keeping only noun, adj, vb, adv\n",
    "data_lemmatized = lemmatization(data_words_bigrams, allowed_postags=['NOUN', 'ADJ', 'VERB', 'ADV'])\n",
    "\n",
    "print(data_lemmatized[:1])"
   ]
  },
  {
   "cell_type": "markdown",
   "metadata": {},
   "source": [
    "11. Create dictionary and corpus for topic modelling."
   ]
  },
  {
   "cell_type": "code",
   "execution_count": 22,
   "metadata": {},
   "outputs": [
    {
     "name": "stdout",
     "output_type": "stream",
     "text": [
      "[[(0, 1), (1, 1), (2, 1), (3, 1), (4, 5), (5, 1), (6, 1), (7, 2), (8, 1), (9, 1), (10, 1), (11, 1), (12, 1), (13, 1), (14, 1), (15, 1), (16, 1), (17, 1), (18, 1), (19, 2), (20, 1), (21, 1), (22, 1), (23, 1), (24, 1), (25, 1), (26, 1), (27, 1), (28, 1), (29, 1), (30, 1), (31, 1), (32, 1), (33, 1), (34, 1), (35, 1), (36, 1), (37, 1), (38, 1), (39, 1)]]\n"
     ]
    }
   ],
   "source": [
    "# Create Dictionary\n",
    "id2word = corpora.Dictionary(data_lemmatized)\n",
    "\n",
    "# Create Corpus\n",
    "texts = data_lemmatized\n",
    "\n",
    "# Term Document Frequency\n",
    "corpus = [id2word.doc2bow(text) for text in texts]\n",
    "\n",
    "# View\n",
    "print(corpus[:1])"
   ]
  },
  {
   "cell_type": "code",
   "execution_count": 24,
   "metadata": {},
   "outputs": [
    {
     "data": {
      "text/plain": [
       "[[('addition', 1),\n",
       "  ('body', 1),\n",
       "  ('bring', 1),\n",
       "  ('call', 1),\n",
       "  ('car', 5),\n",
       "  ('could', 1),\n",
       "  ('day', 1),\n",
       "  ('door', 2),\n",
       "  ('early', 1),\n",
       "  ('engine', 1),\n",
       "  ('enlighten', 1),\n",
       "  ('funky', 1),\n",
       "  ('history', 1),\n",
       "  ('host', 1),\n",
       "  ('info', 1),\n",
       "  ('know', 1),\n",
       "  ('late', 1),\n",
       "  ('lerxst', 1),\n",
       "  ('line', 1),\n",
       "  ('look', 2),\n",
       "  ('mail', 1),\n",
       "  ('make', 1),\n",
       "  ('model', 1),\n",
       "  ('name', 1),\n",
       "  ('neighborhood', 1),\n",
       "  ('nntp_poste', 1),\n",
       "  ('park', 1),\n",
       "  ('production', 1),\n",
       "  ('really', 1),\n",
       "  ('rest', 1),\n",
       "  ('see', 1),\n",
       "  ('separate', 1),\n",
       "  ('small', 1),\n",
       "  ('spec', 1),\n",
       "  ('sport', 1),\n",
       "  ('thank', 1),\n",
       "  ('thing', 1),\n",
       "  ('where', 1),\n",
       "  ('wonder', 1),\n",
       "  ('year', 1)]]"
      ]
     },
     "execution_count": 24,
     "metadata": {},
     "output_type": "execute_result"
    }
   ],
   "source": [
    "### frequency plot of words? ### \n",
    "# Human readable format of corpus (term-frequency)\n",
    "[[(id2word[id], freq) for id, freq in cp] for cp in corpus[:1]]"
   ]
  },
  {
   "cell_type": "markdown",
   "metadata": {},
   "source": [
    "12. Building the topic model (takes a long time to run).  "
   ]
  },
  {
   "cell_type": "code",
   "execution_count": 25,
   "metadata": {},
   "outputs": [],
   "source": [
    "# Build LDA model\n",
    "lda_model = gensim.models.ldamodel.LdaModel(corpus=corpus,\n",
    "                                           id2word=id2word,\n",
    "                                           num_topics=20, #20 topics\n",
    "                                           random_state=100, #seed\n",
    "                                           update_every=1, #\n",
    "                                           chunksize=100, #\n",
    "                                           passes=10, #\n",
    "                                           alpha='auto', #hyper-parameter. \n",
    "                                           per_word_topics=True)"
   ]
  },
  {
   "cell_type": "code",
   "execution_count": 26,
   "metadata": {},
   "outputs": [],
   "source": [
    "?gensim.models.ldamodel.LdaModel"
   ]
  },
  {
   "cell_type": "markdown",
   "metadata": {},
   "source": [
    "13. view topics in LDA model. "
   ]
  },
  {
   "cell_type": "code",
   "execution_count": 32,
   "metadata": {},
   "outputs": [
    {
     "name": "stdout",
     "output_type": "stream",
     "text": [
      "[(0,\n",
      "  '0.175*\"file\" + 0.073*\"entry\" + 0.057*\"error\" + 0.053*\"display\" + '\n",
      "  '0.040*\"program\" + 0.030*\"sun\" + 0.025*\"version\" + 0.024*\"cool\" + '\n",
      "  '0.020*\"output\" + 0.020*\"crash\"'),\n",
      " (1,\n",
      "  '0.032*\"would\" + 0.026*\"say\" + 0.022*\"think\" + 0.022*\"people\" + 0.020*\"go\" + '\n",
      "  '0.018*\"know\" + 0.016*\"make\" + 0.016*\"see\" + 0.014*\"come\" + 0.013*\"thing\"'),\n",
      " (2,\n",
      "  '0.091*\"evidence\" + 0.048*\"book\" + 0.041*\"faith\" + 0.037*\"reason\" + '\n",
      "  '0.033*\"exist\" + 0.032*\"claim\" + 0.031*\"religion\" + 0.029*\"believe\" + '\n",
      "  '0.027*\"christian\" + 0.023*\"church\"'),\n",
      " (3,\n",
      "  '0.541*\"ax\" + 0.054*\"car\" + 0.028*\"player\" + 0.014*\"engine\" + 0.009*\"dealer\" '\n",
      "  '+ 0.009*\"mile\" + 0.009*\"expensive\" + 0.009*\"here\" + 0.008*\"extra\" + '\n",
      "  '0.008*\"specify\"'),\n",
      " (4,\n",
      "  '0.087*\"belief\" + 0.084*\"internet\" + 0.079*\"atheist\" + 0.061*\"distribution\" '\n",
      "  '+ 0.053*\"wing\" + 0.041*\"atheism\" + 0.038*\"printer\" + 0.034*\"interface\" + '\n",
      "  '0.026*\"multiple\" + 0.020*\"thinking\"'),\n",
      " (5,\n",
      "  '0.088*\"normal\" + 0.072*\"port\" + 0.071*\"mouse\" + 0.053*\"hole\" + 0.036*\"cap\" '\n",
      "  '+ 0.034*\"expansion\" + 0.033*\"default\" + 0.026*\"compute\" + 0.026*\"noise\" + '\n",
      "  '0.013*\"characteristic\"'),\n",
      " (6,\n",
      "  '0.034*\"include\" + 0.023*\"provide\" + 0.023*\"report\" + 0.021*\"receive\" + '\n",
      "  '0.021*\"follow\" + 0.021*\"name\" + 0.018*\"build\" + 0.017*\"return\" + '\n",
      "  '0.015*\"open\" + 0.014*\"suggest\"'),\n",
      " (7,\n",
      "  '0.123*\"chip\" + 0.074*\"bit\" + 0.072*\"speed\" + 0.060*\"device\" + 0.058*\"tape\" '\n",
      "  '+ 0.052*\"slow\" + 0.040*\"bus\" + 0.038*\"scsi\" + 0.037*\"direct\" + '\n",
      "  '0.036*\"mode\"'),\n",
      " (8,\n",
      "  '0.152*\"team\" + 0.103*\"play\" + 0.059*\"year\" + 0.053*\"season\" + 0.045*\"fan\" + '\n",
      "  '0.036*\"trade\" + 0.026*\"pen\" + 0.023*\"lose\" + 0.021*\"last\" + 0.016*\"next\"'),\n",
      " (9,\n",
      "  '0.021*\"year\" + 0.016*\"also\" + 0.014*\"may\" + 0.014*\"first\" + 0.011*\"work\" + '\n",
      "  '0.010*\"high\" + 0.010*\"talk\" + 0.009*\"make\" + 0.009*\"case\" + 0.009*\"power\"'),\n",
      " (10,\n",
      "  '0.052*\"system\" + 0.050*\"drive\" + 0.041*\"use\" + 0.038*\"run\" + '\n",
      "  '0.034*\"problem\" + 0.028*\"window\" + 0.027*\"card\" + 0.024*\"program\" + '\n",
      "  '0.021*\"driver\" + 0.021*\"software\"'),\n",
      " (11,\n",
      "  '0.085*\"space\" + 0.053*\"science\" + 0.024*\"scientific\" + 0.024*\"review\" + '\n",
      "  '0.023*\"orbit\" + 0.023*\"launch\" + 0.022*\"earth\" + 0.021*\"mission\" + '\n",
      "  '0.020*\"development\" + 0.019*\"vehicle\"'),\n",
      " (12,\n",
      "  '0.140*\"game\" + 0.116*\"gun\" + 0.070*\"win\" + 0.048*\"fire\" + 0.047*\"hit\" + '\n",
      "  '0.036*\"weapon\" + 0.035*\"shoot\" + 0.024*\"cop\" + 0.019*\"run\" + 0.017*\"carry\"'),\n",
      " (13,\n",
      "  '0.124*\"god\" + 0.110*\"patient\" + 0.054*\"license\" + 0.050*\"univ\" + '\n",
      "  '0.048*\"treatment\" + 0.042*\"disease\" + 0.035*\"medical\" + 0.033*\"health\" + '\n",
      "  '0.027*\"ticket\" + 0.020*\"deliver\"'),\n",
      " (14,\n",
      "  '0.040*\"kill\" + 0.030*\"israeli\" + 0.028*\"war\" + 0.027*\"soldier\" + '\n",
      "  '0.024*\"attack\" + 0.024*\"village\" + 0.023*\"child\" + 0.021*\"murder\" + '\n",
      "  '0.016*\"turkish\" + 0.016*\"force\"'),\n",
      " (15,\n",
      "  '0.098*\"goal\" + 0.077*\"moral\" + 0.059*\"animal\" + 0.046*\"link\" + '\n",
      "  '0.034*\"morality\" + 0.029*\"warrant\" + 0.028*\"scale\" + 0.027*\"relationship\" + '\n",
      "  '0.026*\"depth\" + 0.024*\"percentage\"'),\n",
      " (16,\n",
      "  '0.049*\"image\" + 0.046*\"color\" + 0.040*\"code\" + 0.038*\"source\" + 0.038*\"com\" '\n",
      "  '+ 0.031*\"available\" + 0.030*\"server\" + 0.028*\"format\" + 0.026*\"function\" + '\n",
      "  '0.024*\"information\"'),\n",
      " (17,\n",
      "  '0.111*\"motif\" + 0.067*\"session\" + 0.048*\"unknown\" + 0.028*\"moslem\" + '\n",
      "  '0.021*\"ruin\" + 0.020*\"testing\" + 0.019*\"ratio\" + 0.017*\"okay\" + '\n",
      "  '0.005*\"verification\" + 0.005*\"automate\"'),\n",
      " (18,\n",
      "  '0.074*\"line\" + 0.047*\"write\" + 0.030*\"article\" + 0.024*\"host\" + '\n",
      "  '0.022*\"nntp_poste\" + 0.022*\"organization\" + 0.021*\"get\" + 0.019*\"be\" + '\n",
      "  '0.016*\"need\" + 0.014*\"thank\"'),\n",
      " (19,\n",
      "  '0.030*\"key\" + 0.027*\"state\" + 0.021*\"law\" + 0.020*\"government\" + '\n",
      "  '0.018*\"issue\" + 0.017*\"public\" + 0.014*\"right\" + 0.013*\"use\" + '\n",
      "  '0.011*\"system\" + 0.010*\"case\"')]\n"
     ]
    },
    {
     "data": {
      "text/plain": [
       "<gensim.interfaces.TransformedCorpus at 0x7fb592ae92b0>"
      ]
     },
     "execution_count": 32,
     "metadata": {},
     "output_type": "execute_result"
    }
   ],
   "source": [
    "# Print the Keyword in the 10 topics\n",
    "pprint(lda_model.print_topics())\n",
    "doc_lda = lda_model[corpus]"
   ]
  },
  {
   "cell_type": "markdown",
   "metadata": {},
   "source": [
    "This is what StatQuest refers to as the \"recipe\" for each of the Principal Components. They are linear combinations of different dimensions/topics. Leading to new dimensions (sort of transformation). "
   ]
  },
  {
   "cell_type": "markdown",
   "metadata": {},
   "source": [
    "14. Computer model perplexity and coherence score"
   ]
  },
  {
   "cell_type": "code",
   "execution_count": 33,
   "metadata": {},
   "outputs": [
    {
     "name": "stdout",
     "output_type": "stream",
     "text": [
      "\n",
      "Perplexity:  -12.486503413641383\n",
      "\n",
      "Coherence Score:  0.49288861569721343\n"
     ]
    }
   ],
   "source": [
    "# Compute Perplexity\n",
    "print('\\nPerplexity: ', lda_model.log_perplexity(corpus))  # a measure of how good the model is. lower the better.\n",
    "\n",
    "# Compute Coherence Score\n",
    "coherence_model_lda = CoherenceModel(model=lda_model, \n",
    "                                     texts=data_lemmatized, \n",
    "                                     dictionary=id2word, \n",
    "                                     coherence='c_v') # 'u_mass' is faster computationally.\n",
    "coherence_lda = coherence_model_lda.get_coherence()\n",
    "print('\\nCoherence Score: ', coherence_lda)"
   ]
  },
  {
   "cell_type": "markdown",
   "metadata": {},
   "source": [
    "15. Visualize the topics-keywords: "
   ]
  },
  {
   "cell_type": "code",
   "execution_count": 35,
   "metadata": {},
   "outputs": [
    {
     "data": {
      "text/html": [
       "\n",
       "<link rel=\"stylesheet\" type=\"text/css\" href=\"https://cdn.rawgit.com/bmabey/pyLDAvis/files/ldavis.v1.0.0.css\">\n",
       "\n",
       "\n",
       "<div id=\"ldavis_el146561404175445607043384183435\"></div>\n",
       "<script type=\"text/javascript\">\n",
       "\n",
       "var ldavis_el146561404175445607043384183435_data = {\"mdsDat\": {\"x\": [-0.33562733301261105, -0.3020927094081138, -0.27187028118270823, -0.21391600827201648, 0.014729176217774188, -0.1448637810250906, -0.12965965749032057, -0.061842269836943395, -0.018007621696141722, 0.00021184335717532133, 0.06965753558449439, 0.11914386471740346, 0.10909527977640991, 0.08548064725938886, 0.1311445661039627, 0.16073805440324734, 0.17228527502479363, 0.1984022774403295, 0.20033723602266798, 0.21665390601629878], \"y\": [-0.21774531386965196, -0.1450625327851713, -0.0045365487865091855, 0.10154454370489813, 0.12168826911487231, 0.26843750897440566, 0.18564382086826328, -0.07650191060197645, -0.09322048396948514, 0.05931945447436239, 0.07444430717026808, 0.020977732540993218, -0.008046229844536085, -0.0552289405755137, -0.01004716809683236, -0.03730408371256816, -0.04279204469701254, -0.04423009410795623, -0.04856117786333163, -0.048779107937515484], \"topics\": [1, 2, 3, 4, 5, 6, 7, 8, 9, 10, 11, 12, 13, 14, 15, 16, 17, 18, 19, 20], \"cluster\": [1, 1, 1, 1, 1, 1, 1, 1, 1, 1, 1, 1, 1, 1, 1, 1, 1, 1, 1, 1], \"Freq\": [28.085216522216797, 18.153989791870117, 15.58685302734375, 8.162781715393066, 5.748532295227051, 5.679879188537598, 5.134195327758789, 2.1297667026519775, 1.930819034576416, 1.9221007823944092, 1.423859715461731, 1.1523873805999756, 1.0394082069396973, 0.9719313383102417, 0.884550929069519, 0.6972910165786743, 0.4497555196285248, 0.37534722685813904, 0.33444496989250183, 0.13688720762729645]}, \"tinfo\": {\"Term\": [\"ax\", \"line\", \"write\", \"year\", \"people\", \"say\", \"file\", \"car\", \"system\", \"article\", \"reason\", \"drive\", \"use\", \"would\", \"think\", \"believe\", \"evidence\", \"host\", \"problem\", \"team\", \"nntp_poste\", \"organization\", \"game\", \"run\", \"bit\", \"go\", \"key\", \"program\", \"get\", \"be\", \"say\", \"think\", \"never\", \"sense\", \"happen\", \"wrong\", \"agree\", \"feel\", \"death\", \"explain\", \"accept\", \"love\", \"die\", \"truth\", \"thing\", \"certainly\", \"human\", \"story\", \"young\", \"conclusion\", \"spend\", \"reality\", \"guy\", \"doubt\", \"nature\", \"obviously\", \"realize\", \"revelation\", \"knowledge\", \"respect\", \"come\", \"even\", \"tell\", \"s\", \"remember\", \"life\", \"bad\", \"see\", \"go\", \"people\", \"mind\", \"let\", \"would\", \"seem\", \"can\", \"world\", \"way\", \"take\", \"know\", \"could\", \"man\", \"make\", \"well\", \"mean\", \"give\", \"many\", \"time\", \"point\", \"believe\", \"good\", \"may\", \"be\", \"reason\", \"write\", \"line\", \"host\", \"nntp_poste\", \"organization\", \"thank\", \"buy\", \"price\", \"sell\", \"net\", \"sale\", \"phone\", \"interested\", \"distribution_usa\", \"advance\", \"light\", \"cheap\", \"disk\", \"pass\", \"wonder\", \"news\", \"stuff\", \"soon\", \"bike\", \"network\", \"summary\", \"nice\", \"office\", \"ride\", \"anyway\", \"eat\", \"reply\", \"mail\", \"article\", \"write\", \"post\", \"help\", \"need\", \"get\", \"look\", \"d\", \"new\", \"be\", \"send\", \"want\", \"good\", \"have\", \"find\", \"question\", \"know\", \"call\", \"try\", \"would\", \"work\", \"use\", \"pay\", \"money\", \"whole\", \"speak\", \"face\", \"purpose\", \"level\", \"increase\", \"effect\", \"usually\", \"head\", \"stand\", \"risk\", \"save\", \"job\", \"publish\", \"university\", \"condition\", \"grant\", \"serious\", \"division\", \"major\", \"forget\", \"shall\", \"necessary\", \"replace\", \"family\", \"advice\", \"ground\", \"reduce\", \"cost\", \"large\", \"result\", \"small\", \"talk\", \"couple\", \"compare\", \"less\", \"cover\", \"low\", \"study\", \"difference\", \"power\", \"year\", \"high\", \"lead\", \"first\", \"close\", \"often\", \"base\", \"also\", \"cause\", \"area\", \"case\", \"work\", \"may\", \"end\", \"other\", \"number\", \"part\", \"make\", \"time\", \"much\", \"well\", \"key\", \"law\", \"public\", \"encryption\", \"protect\", \"security\", \"private\", \"block\", \"secure\", \"legal\", \"willing\", \"operate\", \"tap\", \"trial\", \"clipper\", \"criminal\", \"agency\", \"prevent\", \"master\", \"secret\", \"firearm\", \"room\", \"national\", \"false\", \"teach\", \"court\", \"processor\", \"worry\", \"house\", \"industry\", \"state\", \"crime\", \"citizen\", \"issue\", \"drug\", \"government\", \"religious\", \"individual\", \"rate\", \"right\", \"case\", \"allow\", \"use\", \"information\", \"person\", \"system\", \"group\", \"standard\", \"technology\", \"message\", \"country\", \"provide\", \"ax\", \"car\", \"player\", \"engine\", \"dealer\", \"mile\", \"expensive\", \"here\", \"extra\", \"specify\", \"clean\", \"insurance\", \"gift\", \"door\", \"saturn\", \"dual\", \"oil\", \"fuel\", \"production\", \"export\", \"floor\", \"gas\", \"auto\", \"coverage\", \"own\", \"combine\", \"heat\", \"finger\", \"huge\", \"reflect\", \"drive\", \"window\", \"card\", \"driver\", \"software\", \"machine\", \"test\", \"memory\", \"application\", \"appreciate\", \"screen\", \"instal\", \"graphic\", \"package\", \"score\", \"monitor\", \"hardware\", \"pc\", \"performance\", \"feature\", \"board\", \"apple\", \"library\", \"manager\", \"convert\", \"load\", \"though\", \"laboratory\", \"resolution\", \"running\", \"run\", \"system\", \"user\", \"computer\", \"problem\", \"program\", \"set\", \"use\", \"support\", \"datum\", \"fast\", \"work\", \"also\", \"receive\", \"suggest\", \"section\", \"wire\", \"input\", \"video\", \"main\", \"community\", \"notice\", \"special\", \"meet\", \"avoid\", \"internal\", \"ignore\", \"cpu\", \"proper\", \"addition\", \"future\", \"weight\", \"external\", \"count\", \"hot\", \"significant\", \"cable\", \"official\", \"particularly\", \"communication\", \"hide\", \"blank\", \"cycle\", \"report\", \"return\", \"include\", \"open\", \"provide\", \"build\", \"name\", \"follow\", \"date\", \"press\", \"member\", \"address\", \"several\", \"must\", \"number\", \"create\", \"evidence\", \"book\", \"faith\", \"religion\", \"christian\", \"church\", \"character\", \"logic\", \"clearly\", \"christianity\", \"context\", \"reject\", \"scripture\", \"excuse\", \"thread\", \"german\", \"biblical\", \"enjoy\", \"writing\", \"left\", \"corner\", \"careful\", \"trivial\", \"elsewhere\", \"classic\", \"leadership\", \"applicable\", \"superior\", \"gentile\", \"largely\", \"language\", \"bother\", \"exist\", \"argument\", \"claim\", \"deny\", \"reason\", \"prove\", \"believe\", \"indeed\", \"word\", \"question\", \"quote\", \"true\", \"jewish\", \"follow\", \"answer\", \"israeli\", \"war\", \"soldier\", \"village\", \"turkish\", \"bomb\", \"greek\", \"withdraw\", \"occupy\", \"armenian\", \"turk\", \"civilian\", \"town\", \"northern\", \"rocket\", \"girl\", \"inhabitant\", \"russian\", \"invasion\", \"arab\", \"troop\", \"escape\", \"genocide\", \"muslim\", \"disarm\", \"stone\", \"slaughter\", \"massacre\", \"tear\", \"rape\", \"murder\", \"peace\", \"kill\", \"terrorism\", \"attack\", \"military\", \"land\", \"child\", \"jewish\", \"force\", \"woman\", \"people\", \"government\", \"man\", \"image\", \"color\", \"com\", \"server\", \"format\", \"object\", \"update\", \"faq\", \"trust\", \"font\", \"compile\", \"map\", \"utility\", \"pointer\", \"mercy\", \"duo\", \"scare\", \"label\", \"generic\", \"postscript\", \"leather\", \"stroke\", \"retrieve\", \"fuzzy\", \"stuck\", \"roman\", \"fate\", \"compiler\", \"winter\", \"observer\", \"code\", \"function\", \"vendor\", \"author\", \"contain\", \"source\", \"text\", \"available\", \"expire\", \"information\", \"send\", \"list\", \"draw\", \"info\", \"include\", \"email\", \"program\", \"mail\", \"space\", \"science\", \"scientific\", \"review\", \"orbit\", \"launch\", \"mission\", \"development\", \"vehicle\", \"boy\", \"digital\", \"air\", \"satellite\", \"plane\", \"moon\", \"flight\", \"requirement\", \"facility\", \"schedule\", \"shuttle\", \"factory\", \"conference\", \"confirm\", \"role\", \"experiment\", \"lunar\", \"publication\", \"radiation\", \"sky\", \"investigation\", \"earth\", \"project\", \"research\", \"technical\", \"field\", \"program\", \"file\", \"entry\", \"error\", \"display\", \"sun\", \"cool\", \"output\", \"crash\", \"water\", \"solid\", \"nuclear\", \"configuration\", \"icon\", \"cylinder\", \"implementation\", \"stream\", \"electrical\", \"terminal\", \"entity\", \"dump\", \"thermal\", \"edit\", \"creator\", \"download\", \"parameter\", \"angel\", \"allocate\", \"openwindow\", \"grip\", \"reactor\", \"version\", \"size\", \"program\", \"game\", \"gun\", \"hit\", \"weapon\", \"cop\", \"pitch\", \"yesterday\", \"trip\", \"knock\", \"revolver\", \"trigger\", \"glass\", \"weeks_ago\", \"colt\", \"annoy\", \"turning\", \"prescription\", \"tank\", \"ok\", \"cock\", \"shoot\", \"fire\", \"along\", \"pistol\", \"confrontation\", \"tie\", \"win\", \"defense\", \"arm\", \"victory\", \"steal\", \"carry\", \"pull\", \"watch\", \"home\", \"run\", \"police\", \"spot\", \"throw\", \"kill\", \"team\", \"season\", \"fan\", \"trade\", \"pen\", \"finish\", \"decent\", \"devil\", \"cross\", \"blue\", \"penalty\", \"penguin\", \"leafs\", \"captain\", \"suitable\", \"volt\", \"cage\", \"flyer\", \"mid\", \"leak\", \"retire\", \"oiler\", \"thumb\", \"play\", \"lemieux\", \"sabre\", \"voting\", \"scorer\", \"philly\", \"tighten\", \"year\", \"final\", \"lose\", \"period\", \"last\", \"pick\", \"next\", \"opportunity\", \"second\", \"top\", \"first\", \"chip\", \"speed\", \"device\", \"tape\", \"slow\", \"bus\", \"scsi\", \"direct\", \"ide\", \"meaning\", \"daughter\", \"backup\", \"spacecraft\", \"restore\", \"meter\", \"installation\", \"maximum\", \"quadra\", \"tip\", \"dry\", \"sgi\", \"sister\", \"synchronous\", \"consent\", \"acceptance\", \"stall\", \"esdi\", \"mode\", \"bit\", \"fasst\", \"fast\", \"wide\", \"vendor\", \"version\", \"belief\", \"internet\", \"atheist\", \"distribution\", \"wing\", \"atheism\", \"printer\", \"interface\", \"multiple\", \"thinking\", \"routine\", \"widget\", \"greatly_appreciate\", \"guilty\", \"modem\", \"extension\", \"fish\", \"hi\", \"phase\", \"exposure\", \"quit\", \"partially\", \"ease\", \"redesign\", \"boundary\", \"dialog\", \"inappropriate\", \"module\", \"integration\", \"cubic\", \"core\", \"god\", \"patient\", \"license\", \"univ\", \"treatment\", \"disease\", \"medical\", \"health\", \"ticket\", \"deliver\", \"preach\", \"medicine\", \"physician\", \"traditional\", \"conviction\", \"glad\", \"subjective\", \"creature\", \"emphasis\", \"glory\", \"strictly\", \"publicly\", \"adequately\", \"accidentally\", \"treat\", \"tumor\", \"brain\", \"dn\", \"eeg\", \"diagnosis\", \"goal\", \"moral\", \"animal\", \"link\", \"morality\", \"warrant\", \"scale\", \"relationship\", \"depth\", \"percentage\", \"imho\", \"translate\", \"arbitrary\", \"scene\", \"thick\", \"worthwhile\", \"swear\", \"incidentally\", \"cart\", \"jubilees_re\", \"nec_zx\", \"wild_corn\", \"thesis\", \"rude\", \"pack\", \"specie\", \"omniscient\", \"immoral\", \"premise\", \"schneider\", \"self\", \"slave\", \"normal\", \"port\", \"mouse\", \"hole\", \"cap\", \"expansion\", \"default\", \"compute\", \"noise\", \"characteristic\", \"compress\", \"adjust\", \"disable\", \"licensing\", \"curve\", \"worse\", \"complexity\", \"incline\", \"vitamin\", \"everytime\", \"escalate\", \"switch\", \"ok\", \"slave\", \"irq\", \"keyboard\", \"marker\", \"loading\", \"edge\", \"connector\", \"ripem\", \"pin\", \"choose\", \"motif\", \"session\", \"unknown\", \"moslem\", \"ruin\", \"testing\", \"ratio\", \"okay\", \"verification\", \"automate\", \"birthday\", \"elderly\", \"sharing\", \"defenseless\", \"accelerator\", \"commercial\", \"telnet\", \"slip\", \"localtalk\", \"mac\", \"translation\", \"modifier\", \"os\", \"kjg\", \"willow\", \"xpm\", \"ff\", \"prophet\", \"route\", \"redistribute\", \"judgement\", \"tomorrow\", \"announcement\", \"baby\"], \"Freq\": [36366.0, 15682.0, 13139.0, 4567.0, 7716.0, 8663.0, 2358.0, 3608.0, 4536.0, 7665.0, 3205.0, 3297.0, 5852.0, 12699.0, 7239.0, 3143.0, 2274.0, 5023.0, 3794.0, 1727.0, 4742.0, 4666.0, 1701.0, 2777.0, 1773.0, 7157.0, 2814.0, 2541.0, 6401.0, 7371.0, 8662.5693359375, 7238.7470703125, 2397.538330078125, 1772.70166015625, 1770.0081787109375, 1443.9007568359375, 1335.6114501953125, 1201.3734130859375, 1155.6346435546875, 1049.0655517578125, 1036.7705078125, 1026.4073486328125, 1002.5265502929688, 842.6444091796875, 4367.52099609375, 782.245361328125, 760.1681518554688, 708.7276000976562, 695.9063110351562, 693.3290405273438, 667.6847534179688, 608.0817260742188, 665.1591796875, 517.169921875, 502.0540466308594, 500.951171875, 493.6153259277344, 491.4925842285156, 489.9187316894531, 459.28973388671875, 4472.93701171875, 3887.22119140625, 3137.257568359375, 3218.06494140625, 1201.1217041015625, 1455.518798828125, 1995.441162109375, 5300.6064453125, 6724.7119140625, 7089.38427734375, 902.88037109375, 1905.81201171875, 10465.619140625, 2699.521728515625, 3134.094482421875, 1412.2572021484375, 3372.62548828125, 3632.0673828125, 5806.7939453125, 3752.4482421875, 1855.351806640625, 5339.515625, 3755.689208984375, 2245.7734375, 3074.94677734375, 2985.125732421875, 4040.193603515625, 2714.810302734375, 2429.376953125, 3351.794677734375, 3405.685302734375, 3354.732421875, 2279.34423828125, 3086.889892578125, 15681.1455078125, 5022.39892578125, 4741.28271484375, 4664.99169921875, 2963.157470703125, 1614.8602294921875, 1352.7255859375, 1260.6768798828125, 1065.976318359375, 1028.150390625, 1001.1589965820312, 982.7176513671875, 977.1795043945312, 848.1063232421875, 825.847900390625, 793.3692626953125, 788.913818359375, 786.849609375, 769.6609497070312, 765.4033813476562, 739.5562744140625, 705.5634155273438, 688.6839599609375, 636.9904174804688, 615.0877685546875, 613.8223876953125, 524.0186767578125, 517.2576293945312, 492.1728515625, 488.3036804199219, 2370.1220703125, 1992.281494140625, 6271.255859375, 10051.4140625, 2132.620849609375, 2284.005126953125, 3477.309326171875, 4457.09765625, 2827.554443359375, 1953.8883056640625, 2294.5546875, 4015.951416015625, 1536.360595703125, 2445.329345703125, 2514.829345703125, 1567.5113525390625, 1847.6368408203125, 1578.968505859375, 2242.7607421875, 1508.7362060546875, 1550.6329345703125, 2103.866943359375, 1466.3634033203125, 1400.046630859375, 1293.7574462890625, 1251.9305419921875, 1094.982177734375, 1013.764404296875, 983.4938354492188, 896.2457885742188, 885.3134155273438, 882.996337890625, 826.7710571289062, 795.4059448242188, 751.98291015625, 672.8524169921875, 663.3670654296875, 655.3757934570312, 653.176025390625, 629.9609375, 626.8179931640625, 600.4474487304688, 599.581787109375, 589.5652465820312, 587.2611083984375, 574.844970703125, 574.8049926757812, 574.0712280273438, 573.14111328125, 572.8948364257812, 540.8578491210938, 526.3935546875, 508.9541931152344, 504.91571044921875, 1224.2559814453125, 1441.80517578125, 1099.807373046875, 1224.4698486328125, 1747.8975830078125, 880.790283203125, 802.7916870117188, 1514.01123046875, 790.0800170898438, 1118.258056640625, 797.8700561523438, 906.4842529296875, 1559.764404296875, 3765.135009765625, 1845.5711669921875, 1099.15234375, 2511.54248046875, 1061.767822265625, 1010.1901245117188, 1277.790283203125, 2951.6015625, 1104.99951171875, 996.8975219726562, 1666.7940673828125, 2014.024169921875, 2582.78125, 1324.33154296875, 1037.2100830078125, 1277.946044921875, 1180.2889404296875, 1670.955322265625, 1114.529296875, 1059.9287109375, 1058.9832763671875, 2813.797119140625, 1961.8773193359375, 1620.261962890625, 814.9772338867188, 735.7839965820312, 712.177978515625, 664.4828491210938, 574.5632934570312, 486.8963623046875, 457.7913513183594, 447.97064208984375, 444.4158935546875, 441.3907470703125, 436.6521911621094, 417.05487060546875, 398.68865966796875, 388.86846923828125, 379.6581115722656, 378.8952941894531, 377.4469909667969, 370.1634521484375, 363.26043701171875, 363.03118896484375, 359.857666015625, 354.9714050292969, 350.447021484375, 346.595947265625, 339.0667419433594, 337.7015075683594, 330.0361633300781, 2567.62744140625, 595.8612670898438, 530.606201171875, 1750.7149658203125, 688.6674194335938, 1861.4710693359375, 637.87060546875, 548.2027587890625, 698.6073608398438, 1310.5604248046875, 943.4901733398438, 694.314453125, 1232.6224365234375, 764.6773071289062, 700.899169921875, 1027.5899658203125, 805.44775390625, 556.66015625, 583.382080078125, 600.4337768554688, 512.6749267578125, 550.781982421875, 36365.65234375, 3607.645263671875, 1882.144775390625, 949.4497680664062, 630.3641967773438, 589.1718139648438, 579.4329833984375, 576.0677490234375, 569.120361328125, 552.01123046875, 520.7184448242188, 519.47802734375, 512.823486328125, 474.8421325683594, 449.93499755859375, 434.08514404296875, 382.62335205078125, 376.903076171875, 352.1376037597656, 350.8131103515625, 327.4027404785156, 321.9282531738281, 317.9948425292969, 292.67401123046875, 273.50872802734375, 273.3660583496094, 264.5823669433594, 264.0590515136719, 261.69903564453125, 253.35350036621094, 3296.77783203125, 1884.619873046875, 1793.560302734375, 1417.3228759765625, 1380.3072509765625, 1239.089599609375, 1032.7515869140625, 964.734375, 863.727294921875, 781.3421630859375, 776.692138671875, 732.341796875, 703.4190063476562, 670.8849487304688, 639.8204345703125, 639.4265747070312, 600.1903076171875, 530.1477661132812, 499.4555358886719, 443.68902587890625, 394.354736328125, 371.0798034667969, 358.10107421875, 355.5867919921875, 338.95892333984375, 302.1692810058594, 293.0738525390625, 292.6206970214844, 266.0023498535156, 257.5211181640625, 2534.716552734375, 3440.40283203125, 793.3573608398438, 1203.9327392578125, 2267.007080078125, 1595.0135498046875, 1216.8094482421875, 2725.031982421875, 980.1451416015625, 646.1273803710938, 576.2741088867188, 937.6434326171875, 712.4998168945312, 1262.3988037109375, 862.3671264648438, 744.4434204101562, 719.9027709960938, 660.0830078125, 629.8527221679688, 540.4256591796875, 528.3055419921875, 512.4646606445312, 512.4486083984375, 460.34503173828125, 454.672607421875, 443.2607421875, 440.35931396484375, 416.4852294921875, 412.9747619628906, 409.59112548828125, 383.3817138671875, 382.8414611816406, 382.01202392578125, 370.84515380859375, 369.27728271484375, 367.4166259765625, 358.89630126953125, 358.7413024902344, 355.2843933105469, 355.0381774902344, 335.9100646972656, 311.2870178222656, 305.6011962890625, 1355.72509765625, 1045.94189453125, 2049.165283203125, 918.6580200195312, 1404.0482177734375, 1082.422119140625, 1232.4566650390625, 1248.4185791015625, 462.674560546875, 457.6241760253906, 566.8273315429688, 711.9801635742188, 580.1852416992188, 737.2061767578125, 778.355224609375, 542.1156005859375, 2272.978515625, 1200.01220703125, 1026.81591796875, 781.4591674804688, 661.5508422851562, 571.7890014648438, 445.92578125, 377.264892578125, 348.97039794921875, 308.8970947265625, 246.50399780273438, 242.45321655273438, 239.66285705566406, 226.0560302734375, 210.59779357910156, 152.40052795410156, 141.6871337890625, 129.71949768066406, 128.7261199951172, 126.10335540771484, 113.91930389404297, 103.90178680419922, 97.77251434326172, 88.9912338256836, 86.87480163574219, 72.95157623291016, 64.57756042480469, 61.591957092285156, 59.493309020996094, 55.228939056396484, 193.62442016601562, 187.31912231445312, 828.2853393554688, 498.8919677734375, 807.1846313476562, 289.15899658203125, 924.9036254882812, 387.42822265625, 712.727294921875, 252.98422241210938, 386.384765625, 472.5750732421875, 207.17601013183594, 331.9997253417969, 211.02305603027344, 273.6622314453125, 225.29550170898438, 670.5494995117188, 637.1607666015625, 598.07568359375, 531.3062133789062, 372.1140441894531, 350.44256591796875, 340.9518737792969, 333.5496826171875, 330.58782958984375, 299.11822509765625, 298.79071044921875, 261.16986083984375, 250.02040100097656, 224.33612060546875, 210.53114318847656, 206.486572265625, 184.8214111328125, 174.97052001953125, 169.5718994140625, 167.7681427001953, 159.5401153564453, 157.5908660888672, 127.60513305664062, 125.49047088623047, 119.36029815673828, 105.9783706665039, 97.18231964111328, 94.40158081054688, 93.34232330322266, 92.96238708496094, 482.5929870605469, 275.73358154296875, 897.6461181640625, 208.43763732910156, 538.751708984375, 328.7615051269531, 286.4091491699219, 515.1144409179688, 261.0497131347656, 358.6070251464844, 225.3656768798828, 343.3672790527344, 248.14044189453125, 247.14723205566406, 1101.595703125, 1039.3858642578125, 843.3010864257812, 684.4038696289062, 632.2020263671875, 525.7540283203125, 413.83282470703125, 410.9045104980469, 394.95355224609375, 317.9380798339844, 277.2850646972656, 219.8377227783203, 196.4341583251953, 180.38575744628906, 179.8774871826172, 135.1399383544922, 119.50751495361328, 115.13938903808594, 90.24359893798828, 84.7366943359375, 78.79342651367188, 77.92261505126953, 69.90428161621094, 66.92119598388672, 64.8514633178711, 59.668766021728516, 56.773136138916016, 54.149349212646484, 50.992916107177734, 48.7147102355957, 887.5940551757812, 587.3732299804688, 120.93058776855469, 368.7237548828125, 488.41943359375, 847.87841796875, 312.7626037597656, 701.4859008789062, 104.4421157836914, 545.7119750976562, 514.7849731445312, 380.7801208496094, 244.9704132080078, 246.77615356445312, 283.21966552734375, 217.51129150390625, 256.47369384765625, 218.72235107421875, 1411.3321533203125, 883.1280517578125, 404.1449279785156, 391.2139587402344, 379.9165954589844, 375.57696533203125, 353.77471923828125, 339.09661865234375, 311.4699401855469, 302.3472595214844, 301.8194274902344, 300.9277038574219, 277.64599609375, 276.7006530761719, 245.1154327392578, 237.0992889404297, 227.8861846923828, 219.929443359375, 206.9744415283203, 185.22726440429688, 169.96937561035156, 161.4425048828125, 158.9835968017578, 158.65121459960938, 146.165283203125, 140.8570556640625, 137.77760314941406, 134.59628295898438, 125.2824935913086, 123.42340087890625, 367.0712890625, 215.7347869873047, 278.0527038574219, 178.5089569091797, 162.87364196777344, 148.42642211914062, 2356.86083984375, 986.622314453125, 767.9519653320312, 707.0348510742188, 409.8330078125, 329.50982666015625, 271.58172607421875, 266.7702941894531, 233.00833129882812, 202.71897888183594, 189.09091186523438, 184.0206298828125, 177.26600646972656, 175.4132080078125, 169.7057647705078, 166.26043701171875, 152.72567749023438, 144.36326599121094, 127.81928253173828, 125.12155151367188, 119.23994445800781, 107.08058166503906, 106.97978210449219, 93.33717346191406, 86.3525161743164, 85.0223617553711, 66.04895782470703, 54.81993865966797, 46.40990447998047, 43.56549835205078, 339.5328369140625, 247.3111114501953, 540.47216796875, 1700.391845703125, 1408.716064453125, 566.5452270507812, 433.261962890625, 294.1519775390625, 198.09503173828125, 189.3116912841797, 139.61715698242188, 90.26593780517578, 86.86774444580078, 85.35875701904297, 50.87668228149414, 47.060386657714844, 41.1433219909668, 36.18673324584961, 28.322473526000977, 26.51346778869629, 179.63180541992188, 138.69097900390625, 10.487247467041016, 420.2576599121094, 579.41064453125, 9.040448188781738, 7.344761371612549, 6.88340950012207, 140.16497802734375, 853.249267578125, 171.63699340820312, 160.893798828125, 17.482820510864258, 138.19264221191406, 200.47784423828125, 107.24934387207031, 117.67827606201172, 147.7405242919922, 234.9901123046875, 93.2151107788086, 50.388916015625, 59.10057830810547, 68.97293090820312, 1726.1724853515625, 596.8175048828125, 509.0111999511719, 406.1318664550781, 298.3666076660156, 176.0384979248047, 174.2290802001953, 165.5066375732422, 163.433349609375, 157.65907287597656, 136.07440185546875, 135.87234497070312, 98.1463851928711, 94.14669036865234, 90.26771545410156, 84.25812530517578, 78.75651550292969, 77.1593017578125, 61.15117263793945, 50.832542419433594, 50.37937927246094, 41.01243209838867, 39.016605377197266, 1172.2188720703125, 34.12702178955078, 33.058048248291016, 29.604551315307617, 28.299800872802734, 23.140499114990234, 21.975759506225586, 672.6884155273438, 133.85232543945312, 256.8721618652344, 118.97763061523438, 237.8598175048828, 129.3143768310547, 184.06353759765625, 61.02266311645508, 81.07625579833984, 64.05718994140625, 70.2078857421875, 1269.0440673828125, 743.0745849609375, 623.221435546875, 602.47314453125, 536.74072265625, 418.4220886230469, 390.3609619140625, 382.4224853515625, 264.6813049316406, 184.8358612060547, 157.4485321044922, 117.69847106933594, 101.88784790039062, 86.8481216430664, 86.12596893310547, 84.82994842529297, 68.61967468261719, 66.00525665283203, 64.439697265625, 63.480777740478516, 61.871131896972656, 48.919979095458984, 30.326276779174805, 27.981794357299805, 15.217894554138184, 12.513347625732422, 7.322510719299316, 375.2428894042969, 762.7684936523438, 0.6848097443580627, 260.876220703125, 78.17887115478516, 22.18971824645996, 23.478891372680664, 712.15673828125, 680.6558227539062, 643.3978881835938, 499.9676208496094, 430.28765869140625, 332.1241149902344, 307.3374328613281, 276.5713195800781, 213.22787475585938, 162.05702209472656, 148.4252166748047, 147.25648498535156, 142.6353759765625, 136.5408935546875, 134.41131591796875, 105.6537094116211, 102.80215454101562, 98.56908416748047, 93.21540832519531, 82.1529312133789, 81.17290496826172, 47.078025817871094, 39.45566177368164, 35.26766586303711, 33.142677307128906, 30.58713722229004, 26.99608612060547, 21.904760360717773, 18.794246673583984, 17.519481658935547, 44.957489013671875, 649.50927734375, 579.5592041015625, 284.8031311035156, 263.0978088378906, 250.91043090820312, 220.98037719726562, 182.48216247558594, 171.1240997314453, 139.5980682373047, 106.34413146972656, 89.959716796875, 80.10261535644531, 77.5267105102539, 77.021240234375, 72.89529418945312, 53.79465103149414, 45.64171600341797, 42.50914764404297, 38.300819396972656, 32.37702560424805, 29.2706356048584, 25.742929458618164, 24.05080795288086, 17.872724533081055, 50.36146926879883, 0.04143422096967697, 0.04143305495381355, 0.041430965065956116, 0.0414309948682785, 0.04142637550830841, 429.8659362792969, 336.5404357910156, 259.6803894042969, 202.80332946777344, 147.60061645507812, 125.20780944824219, 122.1591567993164, 116.28777313232422, 112.2502670288086, 107.23575592041016, 91.49774169921875, 62.17698287963867, 52.36777877807617, 35.76302719116211, 32.64511489868164, 32.33491516113281, 30.325477600097656, 23.291706085205078, 13.65514850616455, 13.456610679626465, 13.453581809997559, 13.108148574829102, 10.610330581665039, 10.049548149108887, 13.923931121826172, 0.04966270551085472, 0.049659546464681625, 0.04965918883681297, 0.04965901002287865, 0.049658339470624924, 0.049659017473459244, 0.04965923726558685, 342.02923583984375, 280.9120788574219, 278.3210754394531, 207.0071563720703, 140.3856964111328, 132.1365966796875, 127.24185180664062, 102.37268829345703, 101.89930725097656, 52.391605377197266, 49.21916580200195, 29.486530303955078, 27.03598976135254, 25.997709274291992, 25.556493759155273, 24.765289306640625, 21.471590042114258, 20.31698226928711, 13.795461654663086, 10.582444190979004, 7.549126148223877, 50.53617858886719, 7.827244758605957, 0.04593536630272865, 0.04592987149953842, 0.04593035951256752, 0.04592860862612724, 0.04592723026871681, 0.04592890664935112, 0.04592745378613472, 0.04592961445450783, 0.04592914134263992, 0.045929111540317535, 177.3556365966797, 107.01891326904297, 76.43444061279297, 45.021141052246094, 33.48395538330078, 32.312896728515625, 31.012468338012695, 26.395917892456055, 8.659843444824219, 7.833329677581787, 6.06624698638916, 5.347221851348877, 5.197999000549316, 1.4258922338485718, 0.02601216547191143, 0.026012491434812546, 0.02601027674973011, 0.02600906789302826, 0.026008950546383858, 0.026008959859609604, 0.02600909024477005, 0.026008106768131256, 0.026008298620581627, 0.02600812166929245, 0.02600812166929245, 0.02600812166929245, 0.02600790373980999, 0.026008233428001404, 0.026009026914834976, 0.026007801294326782, 0.02600809559226036, 0.02600817196071148, 0.026008285582065582, 0.026008140295743942], \"Total\": [36366.0, 15682.0, 13139.0, 4567.0, 7716.0, 8663.0, 2358.0, 3608.0, 4536.0, 7665.0, 3205.0, 3297.0, 5852.0, 12699.0, 7239.0, 3143.0, 2274.0, 5023.0, 3794.0, 1727.0, 4742.0, 4666.0, 1701.0, 2777.0, 1773.0, 7157.0, 2814.0, 2541.0, 6401.0, 7371.0, 8663.7509765625, 7239.93017578125, 2398.720458984375, 1773.8839111328125, 1771.1904296875, 1445.0830078125, 1336.793701171875, 1202.5556640625, 1156.81689453125, 1050.247802734375, 1037.9527587890625, 1027.589599609375, 1003.7089233398438, 843.8267822265625, 4373.95458984375, 783.427734375, 761.3505249023438, 709.9099731445312, 697.0886840820312, 694.5114135742188, 668.8671264648438, 609.2640991210938, 666.5171508789062, 518.352294921875, 503.236328125, 502.1334533691406, 494.797607421875, 492.67486572265625, 491.10101318359375, 460.4720153808594, 4535.24560546875, 3937.03125, 3185.55908203125, 3333.32568359375, 1220.1309814453125, 1486.8494873046875, 2052.639892578125, 5584.8642578125, 7157.96435546875, 7716.6201171875, 914.5538330078125, 2029.26171875, 12699.498046875, 2964.83349609375, 3517.056396484375, 1492.6519775390625, 4034.68408203125, 4510.73388671875, 8050.669921875, 4926.60009765625, 2103.6181640625, 7811.32861328125, 5061.24951171875, 2664.20947265625, 4012.002685546875, 3930.374755859375, 6087.88427734375, 3633.4990234375, 3143.234619140625, 5927.44970703125, 7289.2744140625, 7371.798828125, 3205.378173828125, 13139.4169921875, 15682.326171875, 5023.58203125, 4742.4658203125, 4666.1748046875, 2964.339599609375, 1616.0423583984375, 1353.90771484375, 1261.8590087890625, 1067.158447265625, 1029.33251953125, 1002.3412475585938, 983.89990234375, 978.3617553710938, 849.28857421875, 827.0301513671875, 794.551513671875, 790.0960693359375, 788.0318603515625, 770.8432006835938, 766.5856323242188, 740.738525390625, 706.7456665039062, 689.8662109375, 638.1726684570312, 616.27001953125, 615.004638671875, 525.200927734375, 518.4398803710938, 493.35504150390625, 489.4858703613281, 2451.4912109375, 2212.109375, 7665.4091796875, 13139.4169921875, 2421.406005859375, 2647.11962890625, 4233.0224609375, 6401.208984375, 3855.234619140625, 2497.099609375, 3112.32373046875, 7371.798828125, 2052.251220703125, 4399.11328125, 5927.44970703125, 2740.60205078125, 3805.31396484375, 2951.568603515625, 8050.669921875, 3002.609130859375, 3967.787353515625, 12699.498046875, 4419.0966796875, 5852.7490234375, 1294.9364013671875, 1253.1094970703125, 1096.1611328125, 1014.9434204101562, 984.6728515625, 897.4248046875, 886.492431640625, 884.1753540039062, 827.9500732421875, 796.5849609375, 753.1619262695312, 674.0314331054688, 664.5460815429688, 656.5548095703125, 654.3550415039062, 631.1399536132812, 627.9970092773438, 601.62646484375, 600.7608032226562, 590.7442626953125, 588.4401245117188, 576.0239868164062, 575.9840087890625, 575.250244140625, 574.3201293945312, 574.0738525390625, 542.036865234375, 527.5725708007812, 510.1332092285156, 506.0947265625, 1232.7021484375, 1466.2381591796875, 1112.861572265625, 1243.28662109375, 1793.4569091796875, 892.3768310546875, 811.9000244140625, 1573.274169921875, 799.83544921875, 1150.1273193359375, 810.0064697265625, 931.243408203125, 1693.402587890625, 4567.40673828125, 2095.51708984375, 1202.6629638671875, 3440.7353515625, 1190.4588623046875, 1122.712158203125, 1624.3167724609375, 5787.2431640625, 1400.9630126953125, 1177.6015625, 3019.45166015625, 4419.0966796875, 7289.2744140625, 2101.362548828125, 1282.2734375, 2890.222900390625, 2253.134521484375, 7811.32861328125, 6087.88427734375, 3589.919921875, 5061.24951171875, 2814.9765625, 1963.056640625, 1621.4412841796875, 816.1566162109375, 736.96337890625, 713.3573608398438, 665.6622314453125, 575.74267578125, 488.0757141113281, 458.970703125, 449.1499938964844, 445.5952453613281, 442.5700988769531, 437.83154296875, 418.2342224121094, 399.8680114746094, 390.0478210449219, 380.83746337890625, 380.07464599609375, 378.6263427734375, 371.3428039550781, 364.4397888183594, 364.2105407714844, 361.0370178222656, 356.1507568359375, 351.6263732910156, 347.7752990722656, 340.24609375, 338.880859375, 331.21551513671875, 2578.72265625, 613.5064086914062, 545.3505249023438, 1959.0958251953125, 721.9951171875, 2110.727783203125, 679.4071655273438, 610.0444946289062, 974.0059814453125, 3565.698486328125, 3019.45166015625, 1536.6644287109375, 5852.7490234375, 2080.530029296875, 1679.95654296875, 4536.2314453125, 2477.550048828125, 957.017578125, 1165.4254150390625, 1754.6806640625, 892.0587158203125, 1955.9384765625, 36366.79296875, 3608.77880859375, 1883.2783203125, 950.5833129882812, 631.4977416992188, 590.3053588867188, 580.5665283203125, 577.2012939453125, 570.25390625, 553.144775390625, 521.8519897460938, 520.611572265625, 513.95703125, 475.9756774902344, 451.06854248046875, 435.21868896484375, 383.75689697265625, 378.03662109375, 353.2711486816406, 351.9466552734375, 328.5362854003906, 323.0617980957031, 319.1283874511719, 293.80755615234375, 274.64227294921875, 274.4996032714844, 265.7159118652344, 265.1925964355469, 262.83258056640625, 254.4870147705078, 3297.95751953125, 1885.7996826171875, 1794.7401123046875, 1418.502685546875, 1381.4876708984375, 1240.2694091796875, 1033.931396484375, 965.914306640625, 864.9072265625, 782.5220947265625, 777.8720703125, 733.521728515625, 704.5989379882812, 672.0648803710938, 641.0003662109375, 640.6065063476562, 601.3702392578125, 531.3276977539062, 500.6354064941406, 444.868896484375, 395.5465393066406, 372.2596740722656, 359.28094482421875, 356.76666259765625, 340.1387939453125, 303.3491516113281, 294.25372314453125, 293.8005676269531, 267.1822204589844, 258.70098876953125, 2777.78076171875, 4536.2314453125, 920.6275024414062, 1583.28271484375, 3794.595947265625, 2541.359375, 1919.9564208984375, 5852.7490234375, 1775.5196533203125, 924.2713012695312, 974.3270874023438, 4419.0966796875, 5787.2431640625, 1263.5775146484375, 863.5459594726562, 745.6222534179688, 721.0816040039062, 661.2618408203125, 631.0315551757812, 541.6044921875, 529.484375, 513.6434936523438, 513.62744140625, 461.5238037109375, 455.85137939453125, 444.43951416015625, 441.5380859375, 417.66400146484375, 414.1535339355469, 410.7698974609375, 384.56048583984375, 384.0202331542969, 383.1907958984375, 372.02392578125, 370.4560546875, 368.59539794921875, 360.0750732421875, 359.9200744628906, 356.4631652832031, 356.2169494628906, 337.0888366699219, 312.4657897949219, 306.77996826171875, 1400.2113037109375, 1080.2489013671875, 2368.607177734375, 1042.5645751953125, 1955.9384765625, 1456.6455078125, 1736.744140625, 2209.089599609375, 526.6184692382812, 533.8706665039062, 822.2639770507812, 1343.17236328125, 1081.1773681640625, 2315.88232421875, 2890.222900390625, 1045.09033203125, 2274.177001953125, 1201.21044921875, 1028.01416015625, 782.6575317382812, 662.7492065429688, 572.9873657226562, 447.1241455078125, 378.4632568359375, 350.16876220703125, 310.095458984375, 247.70233154296875, 243.65155029296875, 240.86119079589844, 227.25436401367188, 211.79612731933594, 153.59886169433594, 142.88546752929688, 130.91783142089844, 129.92445373535156, 127.30171203613281, 115.11766052246094, 105.10014343261719, 98.97087097167969, 90.18959045410156, 88.07315826416016, 74.14993286132812, 65.77591705322266, 62.79030990600586, 60.6916618347168, 56.42729187011719, 205.89097595214844, 203.79579162597656, 1533.958740234375, 854.1323852539062, 1803.7906494140625, 486.3410949707031, 3205.378173828125, 886.7076416015625, 3143.234619140625, 514.727294921875, 1264.1915283203125, 2951.568603515625, 420.3500671386719, 1578.8193359375, 473.20782470703125, 2209.089599609375, 1073.5723876953125, 671.7363891601562, 638.34765625, 599.2625732421875, 532.4931030273438, 373.3009033203125, 351.6294250488281, 342.13873291015625, 334.7365417480469, 331.7746887207031, 300.3050842285156, 299.9775695800781, 262.3567199707031, 251.20724487304688, 225.52296447753906, 211.71798706054688, 207.6734161376953, 186.0082550048828, 176.15736389160156, 170.7587432861328, 168.95498657226562, 160.72695922851562, 158.7777099609375, 128.79197692871094, 126.67733001708984, 120.54717254638672, 107.16522979736328, 98.36917877197266, 95.58843994140625, 94.52918243408203, 94.14924621582031, 549.396484375, 325.36431884765625, 1331.6748046875, 251.2281494140625, 884.082763671875, 511.1946716308594, 488.8936462402344, 1447.2041015625, 473.20782470703125, 984.2713012695312, 679.0325927734375, 7716.6201171875, 2110.727783203125, 2103.6181640625, 1102.769287109375, 1040.5594482421875, 844.4746704101562, 685.5774536132812, 633.3756103515625, 526.9276123046875, 415.0063781738281, 412.07806396484375, 396.1271057128906, 319.11163330078125, 278.4586181640625, 221.0112762451172, 197.6077117919922, 181.55931091308594, 181.05104064941406, 136.31349182128906, 120.68107604980469, 116.31295013427734, 91.41716003417969, 85.9102554321289, 79.96698760986328, 79.09617614746094, 71.07784271240234, 68.09475708007812, 66.0250244140625, 60.84232711791992, 57.94669723510742, 55.32291030883789, 52.16647720336914, 49.88827133178711, 974.6170654296875, 751.1885986328125, 144.2368927001953, 568.897216796875, 859.6514892578125, 1730.315673828125, 515.0361938476562, 1534.0091552734375, 123.46715545654297, 2080.530029296875, 2052.251220703125, 1523.4407958984375, 717.240966796875, 1086.7406005859375, 2368.607177734375, 1153.3173828125, 2541.359375, 2212.109375, 1412.521728515625, 884.317626953125, 405.33453369140625, 392.403564453125, 381.106201171875, 376.7665710449219, 354.9643249511719, 340.2862243652344, 312.6595458984375, 303.536865234375, 303.009033203125, 302.1173095703125, 278.8356018066406, 277.8902587890625, 246.3050079345703, 238.2888641357422, 229.0757598876953, 221.1190185546875, 208.1640167236328, 186.41683959960938, 171.15895080566406, 162.632080078125, 160.1731719970703, 159.84078979492188, 147.3548583984375, 142.046630859375, 138.96717834472656, 135.78585815429688, 126.47208404541016, 124.61299133300781, 685.4157104492188, 415.4548645019531, 839.4329833984375, 377.976806640625, 620.0430297851562, 2541.359375, 2358.041748046875, 987.80322265625, 769.1328735351562, 708.2157592773438, 411.013916015625, 330.69073486328125, 272.76263427734375, 267.9512023925781, 234.18923950195312, 203.89988708496094, 190.27182006835938, 185.2015380859375, 178.44691467285156, 176.5941162109375, 170.8866729736328, 167.44134521484375, 153.90658569335938, 145.54417419433594, 129.00018310546875, 126.3024673461914, 120.42086029052734, 108.2614974975586, 108.16069793701172, 94.5180892944336, 87.53343200683594, 86.20327758789062, 67.22987365722656, 56.000850677490234, 47.590816497802734, 44.74641036987305, 887.6189575195312, 653.2034912109375, 2541.359375, 1701.580078125, 1409.904296875, 567.7334594726562, 434.4501647949219, 295.3401794433594, 199.2832489013672, 190.49990844726562, 140.8053741455078, 91.45415496826172, 88.05596160888672, 86.5469741821289, 52.06489562988281, 48.248600006103516, 42.33153533935547, 37.37494659423828, 29.51068687438965, 27.70168113708496, 189.87937927246094, 147.66050720214844, 11.675463676452637, 470.6353759765625, 651.9462280273438, 10.22866439819336, 8.532977104187012, 8.071625709533691, 169.97158813476562, 1057.23681640625, 282.17120361328125, 313.31536865234375, 42.402042388916016, 479.8521728515625, 760.1900634765625, 416.17559814453125, 535.8504028320312, 872.3598022460938, 2777.78076171875, 511.1944885253906, 152.755126953125, 443.85546875, 1331.6748046875, 1727.367919921875, 598.0128173828125, 510.2065734863281, 407.3272399902344, 299.5619812011719, 177.23385620117188, 175.4244384765625, 166.70199584960938, 164.6287078857422, 158.85443115234375, 137.26976013183594, 137.0677032470703, 99.34175109863281, 95.34205627441406, 91.46308135986328, 85.4534912109375, 79.9518814086914, 78.35466766357422, 62.346527099609375, 52.027896881103516, 51.57473373413086, 42.207786560058594, 40.21195983886719, 1209.9879150390625, 35.3223762512207, 34.25340270996094, 30.799909591674805, 29.495161056518555, 24.335859298706055, 23.171117782592773, 4567.40673828125, 398.7570495605469, 1162.9534912109375, 423.2877197265625, 2141.418701171875, 596.4971313476562, 1355.5599365234375, 180.25497436523438, 1264.091796875, 568.0040893554688, 3440.7353515625, 1270.2371826171875, 744.2677612304688, 624.4146118164062, 603.6663208007812, 537.9338989257812, 419.6152648925781, 391.55413818359375, 383.61566162109375, 265.8744812011719, 186.02903747558594, 158.64170837402344, 118.89164733886719, 103.08102416992188, 88.04129791259766, 87.31914520263672, 86.02312469482422, 69.81285095214844, 67.19843292236328, 65.63287353515625, 64.67395782470703, 63.064300537109375, 50.1131477355957, 31.519447326660156, 29.174964904785156, 16.41106605529785, 13.706520080566406, 8.5156831741333, 477.8985595703125, 1773.919189453125, 1.8779817819595337, 974.3270874023438, 288.5925598144531, 144.2368927001953, 887.6189575195312, 713.350830078125, 681.8499145507812, 644.5919799804688, 501.1617736816406, 431.4818115234375, 333.3182678222656, 308.5315856933594, 277.7654724121094, 214.42201232910156, 163.25115966796875, 149.61935424804688, 148.45062255859375, 143.8295135498047, 137.7350311279297, 135.60545349121094, 106.84784698486328, 103.99629211425781, 99.76322174072266, 94.4095458984375, 83.3470687866211, 82.3670425415039, 48.272159576416016, 40.64979553222656, 36.46179962158203, 34.33681106567383, 31.781274795532227, 28.190223693847656, 23.09889793395996, 19.988384246826172, 18.713619232177734, 83.626708984375, 650.718017578125, 580.7679443359375, 286.0118713378906, 264.3065490722656, 252.11915588378906, 222.18910217285156, 183.69088745117188, 172.33282470703125, 140.80679321289062, 107.55286407470703, 91.16844940185547, 81.31134796142578, 78.73544311523438, 78.22997283935547, 74.1040267944336, 55.00338363647461, 46.85044860839844, 43.71788024902344, 39.509552001953125, 33.585758209228516, 30.479368209838867, 26.951662063598633, 25.259540557861328, 19.081457138061523, 365.3606262207031, 1.2501920461654663, 1.2502171993255615, 1.250185251235962, 1.2501860857009888, 1.250182032585144, 431.0664367675781, 337.7409362792969, 260.8808898925781, 204.00381469726562, 148.8011016845703, 126.40829467773438, 123.3596420288086, 117.4882583618164, 113.45075225830078, 108.43624114990234, 92.69822692871094, 63.377471923828125, 53.568267822265625, 36.96351623535156, 33.845603942871094, 33.535404205322266, 31.525964736938477, 24.4921932220459, 14.855637550354004, 14.657099723815918, 14.654070854187012, 14.308637619018555, 11.810819625854492, 11.25003719329834, 319.62884521484375, 1.2501600980758667, 1.2501519918441772, 1.2501637935638428, 1.2501614093780518, 1.2501534223556519, 1.250238060951233, 1.2503058910369873, 343.23345947265625, 282.1163024902344, 279.5252990722656, 208.21136474609375, 141.58990478515625, 133.34080505371094, 128.44606018066406, 103.57691192626953, 103.10353088378906, 53.595821380615234, 50.42338180541992, 30.69074821472168, 28.24020767211914, 27.201927185058594, 26.760711669921875, 25.969507217407227, 22.67580795288086, 21.52120018005371, 14.999679565429688, 11.786662101745605, 8.753344535827637, 393.81573486328125, 147.66050720214844, 1.2503058910369873, 1.2501623630523682, 1.2501932382583618, 1.250169277191162, 1.2501540184020996, 1.2502001523971558, 1.2501782178878784, 1.2502524852752686, 1.2502617835998535, 1.2502788305282593, 178.57977294921875, 108.24304962158203, 77.65857696533203, 46.245277404785156, 34.708091735839844, 33.53703308105469, 32.236602783203125, 27.620052337646484, 9.883978843688965, 9.057464599609375, 7.290382385253906, 6.571357250213623, 6.4221343994140625, 2.6500275135040283, 1.2501803636550903, 1.250205397605896, 1.250182032585144, 1.2501716613769531, 1.2501674890518188, 1.250177025794983, 1.2501882314682007, 1.25015127658844, 1.2501616477966309, 1.2501555681228638, 1.2501555681228638, 1.2501555681228638, 1.2501481771469116, 1.2501641511917114, 1.2502044439315796, 1.2501461505889893, 1.2501640319824219, 1.2501693964004517, 1.2501972913742065, 1.2501742839813232], \"Category\": [\"Default\", \"Default\", \"Default\", \"Default\", \"Default\", \"Default\", \"Default\", \"Default\", \"Default\", \"Default\", \"Default\", \"Default\", \"Default\", \"Default\", \"Default\", \"Default\", \"Default\", \"Default\", \"Default\", \"Default\", \"Default\", \"Default\", \"Default\", \"Default\", \"Default\", \"Default\", \"Default\", \"Default\", \"Default\", \"Default\", \"Topic1\", \"Topic1\", \"Topic1\", \"Topic1\", \"Topic1\", \"Topic1\", \"Topic1\", \"Topic1\", \"Topic1\", \"Topic1\", \"Topic1\", \"Topic1\", \"Topic1\", \"Topic1\", \"Topic1\", \"Topic1\", \"Topic1\", \"Topic1\", \"Topic1\", \"Topic1\", \"Topic1\", \"Topic1\", \"Topic1\", \"Topic1\", \"Topic1\", \"Topic1\", \"Topic1\", \"Topic1\", \"Topic1\", \"Topic1\", \"Topic1\", \"Topic1\", \"Topic1\", \"Topic1\", \"Topic1\", \"Topic1\", \"Topic1\", \"Topic1\", \"Topic1\", \"Topic1\", \"Topic1\", \"Topic1\", \"Topic1\", \"Topic1\", \"Topic1\", \"Topic1\", \"Topic1\", \"Topic1\", \"Topic1\", \"Topic1\", \"Topic1\", \"Topic1\", \"Topic1\", \"Topic1\", \"Topic1\", \"Topic1\", \"Topic1\", \"Topic1\", \"Topic1\", \"Topic1\", \"Topic1\", \"Topic1\", \"Topic1\", \"Topic1\", \"Topic2\", \"Topic2\", \"Topic2\", \"Topic2\", \"Topic2\", \"Topic2\", \"Topic2\", \"Topic2\", \"Topic2\", \"Topic2\", \"Topic2\", \"Topic2\", \"Topic2\", \"Topic2\", \"Topic2\", \"Topic2\", \"Topic2\", \"Topic2\", \"Topic2\", \"Topic2\", \"Topic2\", \"Topic2\", \"Topic2\", \"Topic2\", \"Topic2\", \"Topic2\", \"Topic2\", \"Topic2\", \"Topic2\", \"Topic2\", \"Topic2\", \"Topic2\", \"Topic2\", \"Topic2\", \"Topic2\", \"Topic2\", \"Topic2\", \"Topic2\", \"Topic2\", \"Topic2\", \"Topic2\", \"Topic2\", \"Topic2\", \"Topic2\", \"Topic2\", \"Topic2\", \"Topic2\", \"Topic2\", \"Topic2\", \"Topic2\", \"Topic2\", \"Topic2\", \"Topic2\", \"Topic2\", \"Topic3\", \"Topic3\", \"Topic3\", \"Topic3\", \"Topic3\", \"Topic3\", \"Topic3\", \"Topic3\", \"Topic3\", \"Topic3\", \"Topic3\", \"Topic3\", \"Topic3\", \"Topic3\", \"Topic3\", \"Topic3\", \"Topic3\", \"Topic3\", \"Topic3\", \"Topic3\", \"Topic3\", \"Topic3\", \"Topic3\", \"Topic3\", \"Topic3\", \"Topic3\", \"Topic3\", \"Topic3\", \"Topic3\", \"Topic3\", \"Topic3\", \"Topic3\", \"Topic3\", \"Topic3\", \"Topic3\", \"Topic3\", \"Topic3\", \"Topic3\", \"Topic3\", \"Topic3\", \"Topic3\", \"Topic3\", \"Topic3\", \"Topic3\", \"Topic3\", \"Topic3\", \"Topic3\", \"Topic3\", \"Topic3\", \"Topic3\", \"Topic3\", \"Topic3\", \"Topic3\", \"Topic3\", \"Topic3\", \"Topic3\", \"Topic3\", \"Topic3\", \"Topic3\", \"Topic3\", \"Topic3\", \"Topic3\", \"Topic3\", \"Topic3\", \"Topic4\", \"Topic4\", \"Topic4\", \"Topic4\", \"Topic4\", \"Topic4\", \"Topic4\", \"Topic4\", \"Topic4\", \"Topic4\", \"Topic4\", \"Topic4\", \"Topic4\", \"Topic4\", \"Topic4\", \"Topic4\", \"Topic4\", \"Topic4\", \"Topic4\", \"Topic4\", \"Topic4\", \"Topic4\", \"Topic4\", \"Topic4\", \"Topic4\", \"Topic4\", \"Topic4\", \"Topic4\", \"Topic4\", \"Topic4\", \"Topic4\", \"Topic4\", \"Topic4\", \"Topic4\", \"Topic4\", \"Topic4\", \"Topic4\", \"Topic4\", \"Topic4\", \"Topic4\", \"Topic4\", \"Topic4\", \"Topic4\", \"Topic4\", \"Topic4\", \"Topic4\", \"Topic4\", \"Topic4\", \"Topic4\", \"Topic4\", \"Topic4\", \"Topic4\", \"Topic5\", \"Topic5\", \"Topic5\", \"Topic5\", \"Topic5\", \"Topic5\", \"Topic5\", \"Topic5\", \"Topic5\", \"Topic5\", \"Topic5\", \"Topic5\", \"Topic5\", \"Topic5\", \"Topic5\", \"Topic5\", \"Topic5\", \"Topic5\", \"Topic5\", \"Topic5\", \"Topic5\", \"Topic5\", \"Topic5\", \"Topic5\", \"Topic5\", \"Topic5\", \"Topic5\", \"Topic5\", \"Topic5\", \"Topic5\", \"Topic6\", \"Topic6\", \"Topic6\", \"Topic6\", \"Topic6\", \"Topic6\", \"Topic6\", \"Topic6\", \"Topic6\", \"Topic6\", \"Topic6\", \"Topic6\", \"Topic6\", \"Topic6\", \"Topic6\", \"Topic6\", \"Topic6\", \"Topic6\", \"Topic6\", \"Topic6\", \"Topic6\", \"Topic6\", \"Topic6\", \"Topic6\", \"Topic6\", \"Topic6\", \"Topic6\", \"Topic6\", \"Topic6\", \"Topic6\", \"Topic6\", \"Topic6\", \"Topic6\", \"Topic6\", \"Topic6\", \"Topic6\", \"Topic6\", \"Topic6\", \"Topic6\", \"Topic6\", \"Topic6\", \"Topic6\", \"Topic6\", \"Topic7\", \"Topic7\", \"Topic7\", \"Topic7\", \"Topic7\", \"Topic7\", \"Topic7\", \"Topic7\", \"Topic7\", \"Topic7\", \"Topic7\", \"Topic7\", \"Topic7\", \"Topic7\", \"Topic7\", \"Topic7\", \"Topic7\", \"Topic7\", \"Topic7\", \"Topic7\", \"Topic7\", \"Topic7\", \"Topic7\", \"Topic7\", \"Topic7\", \"Topic7\", \"Topic7\", \"Topic7\", \"Topic7\", \"Topic7\", \"Topic7\", \"Topic7\", \"Topic7\", \"Topic7\", \"Topic7\", \"Topic7\", \"Topic7\", \"Topic7\", \"Topic7\", \"Topic7\", \"Topic7\", \"Topic7\", \"Topic7\", \"Topic7\", \"Topic7\", \"Topic7\", \"Topic8\", \"Topic8\", \"Topic8\", \"Topic8\", \"Topic8\", \"Topic8\", \"Topic8\", \"Topic8\", \"Topic8\", \"Topic8\", \"Topic8\", \"Topic8\", \"Topic8\", \"Topic8\", \"Topic8\", \"Topic8\", \"Topic8\", \"Topic8\", \"Topic8\", \"Topic8\", \"Topic8\", \"Topic8\", \"Topic8\", \"Topic8\", \"Topic8\", \"Topic8\", \"Topic8\", \"Topic8\", \"Topic8\", \"Topic8\", \"Topic8\", \"Topic8\", \"Topic8\", \"Topic8\", \"Topic8\", \"Topic8\", \"Topic8\", \"Topic8\", \"Topic8\", \"Topic8\", \"Topic8\", \"Topic8\", \"Topic8\", \"Topic8\", \"Topic8\", \"Topic8\", \"Topic8\", \"Topic9\", \"Topic9\", \"Topic9\", \"Topic9\", \"Topic9\", \"Topic9\", \"Topic9\", \"Topic9\", \"Topic9\", \"Topic9\", \"Topic9\", \"Topic9\", \"Topic9\", \"Topic9\", \"Topic9\", \"Topic9\", \"Topic9\", \"Topic9\", \"Topic9\", \"Topic9\", \"Topic9\", \"Topic9\", \"Topic9\", \"Topic9\", \"Topic9\", \"Topic9\", \"Topic9\", \"Topic9\", \"Topic9\", \"Topic9\", \"Topic9\", \"Topic9\", \"Topic9\", \"Topic9\", \"Topic9\", \"Topic9\", \"Topic9\", \"Topic9\", \"Topic9\", \"Topic9\", \"Topic9\", \"Topic9\", \"Topic9\", \"Topic9\", \"Topic10\", \"Topic10\", \"Topic10\", \"Topic10\", \"Topic10\", \"Topic10\", \"Topic10\", \"Topic10\", \"Topic10\", \"Topic10\", \"Topic10\", \"Topic10\", \"Topic10\", \"Topic10\", \"Topic10\", \"Topic10\", \"Topic10\", \"Topic10\", \"Topic10\", \"Topic10\", \"Topic10\", \"Topic10\", \"Topic10\", \"Topic10\", \"Topic10\", \"Topic10\", \"Topic10\", \"Topic10\", \"Topic10\", \"Topic10\", \"Topic10\", \"Topic10\", \"Topic10\", \"Topic10\", \"Topic10\", \"Topic10\", \"Topic10\", \"Topic10\", \"Topic10\", \"Topic10\", \"Topic10\", \"Topic10\", \"Topic10\", \"Topic10\", \"Topic10\", \"Topic10\", \"Topic10\", \"Topic10\", \"Topic11\", \"Topic11\", \"Topic11\", \"Topic11\", \"Topic11\", \"Topic11\", \"Topic11\", \"Topic11\", \"Topic11\", \"Topic11\", \"Topic11\", \"Topic11\", \"Topic11\", \"Topic11\", \"Topic11\", \"Topic11\", \"Topic11\", \"Topic11\", \"Topic11\", \"Topic11\", \"Topic11\", \"Topic11\", \"Topic11\", \"Topic11\", \"Topic11\", \"Topic11\", \"Topic11\", \"Topic11\", \"Topic11\", \"Topic11\", \"Topic11\", \"Topic11\", \"Topic11\", \"Topic11\", \"Topic11\", \"Topic11\", \"Topic12\", \"Topic12\", \"Topic12\", \"Topic12\", \"Topic12\", \"Topic12\", \"Topic12\", \"Topic12\", \"Topic12\", \"Topic12\", \"Topic12\", \"Topic12\", \"Topic12\", \"Topic12\", \"Topic12\", \"Topic12\", \"Topic12\", \"Topic12\", \"Topic12\", \"Topic12\", \"Topic12\", \"Topic12\", \"Topic12\", \"Topic12\", \"Topic12\", \"Topic12\", \"Topic12\", \"Topic12\", \"Topic12\", \"Topic12\", \"Topic12\", \"Topic12\", \"Topic12\", \"Topic13\", \"Topic13\", \"Topic13\", \"Topic13\", \"Topic13\", \"Topic13\", \"Topic13\", \"Topic13\", \"Topic13\", \"Topic13\", \"Topic13\", \"Topic13\", \"Topic13\", \"Topic13\", \"Topic13\", \"Topic13\", \"Topic13\", \"Topic13\", \"Topic13\", \"Topic13\", \"Topic13\", \"Topic13\", \"Topic13\", \"Topic13\", \"Topic13\", \"Topic13\", \"Topic13\", \"Topic13\", \"Topic13\", \"Topic13\", \"Topic13\", \"Topic13\", \"Topic13\", \"Topic13\", \"Topic13\", \"Topic13\", \"Topic13\", \"Topic13\", \"Topic13\", \"Topic13\", \"Topic14\", \"Topic14\", \"Topic14\", \"Topic14\", \"Topic14\", \"Topic14\", \"Topic14\", \"Topic14\", \"Topic14\", \"Topic14\", \"Topic14\", \"Topic14\", \"Topic14\", \"Topic14\", \"Topic14\", \"Topic14\", \"Topic14\", \"Topic14\", \"Topic14\", \"Topic14\", \"Topic14\", \"Topic14\", \"Topic14\", \"Topic14\", \"Topic14\", \"Topic14\", \"Topic14\", \"Topic14\", \"Topic14\", \"Topic14\", \"Topic14\", \"Topic14\", \"Topic14\", \"Topic14\", \"Topic14\", \"Topic14\", \"Topic14\", \"Topic14\", \"Topic14\", \"Topic14\", \"Topic14\", \"Topic15\", \"Topic15\", \"Topic15\", \"Topic15\", \"Topic15\", \"Topic15\", \"Topic15\", \"Topic15\", \"Topic15\", \"Topic15\", \"Topic15\", \"Topic15\", \"Topic15\", \"Topic15\", \"Topic15\", \"Topic15\", \"Topic15\", \"Topic15\", \"Topic15\", \"Topic15\", \"Topic15\", \"Topic15\", \"Topic15\", \"Topic15\", \"Topic15\", \"Topic15\", \"Topic15\", \"Topic15\", \"Topic15\", \"Topic15\", \"Topic15\", \"Topic15\", \"Topic15\", \"Topic15\", \"Topic16\", \"Topic16\", \"Topic16\", \"Topic16\", \"Topic16\", \"Topic16\", \"Topic16\", \"Topic16\", \"Topic16\", \"Topic16\", \"Topic16\", \"Topic16\", \"Topic16\", \"Topic16\", \"Topic16\", \"Topic16\", \"Topic16\", \"Topic16\", \"Topic16\", \"Topic16\", \"Topic16\", \"Topic16\", \"Topic16\", \"Topic16\", \"Topic16\", \"Topic16\", \"Topic16\", \"Topic16\", \"Topic16\", \"Topic16\", \"Topic16\", \"Topic17\", \"Topic17\", \"Topic17\", \"Topic17\", \"Topic17\", \"Topic17\", \"Topic17\", \"Topic17\", \"Topic17\", \"Topic17\", \"Topic17\", \"Topic17\", \"Topic17\", \"Topic17\", \"Topic17\", \"Topic17\", \"Topic17\", \"Topic17\", \"Topic17\", \"Topic17\", \"Topic17\", \"Topic17\", \"Topic17\", \"Topic17\", \"Topic17\", \"Topic17\", \"Topic17\", \"Topic17\", \"Topic17\", \"Topic17\", \"Topic18\", \"Topic18\", \"Topic18\", \"Topic18\", \"Topic18\", \"Topic18\", \"Topic18\", \"Topic18\", \"Topic18\", \"Topic18\", \"Topic18\", \"Topic18\", \"Topic18\", \"Topic18\", \"Topic18\", \"Topic18\", \"Topic18\", \"Topic18\", \"Topic18\", \"Topic18\", \"Topic18\", \"Topic18\", \"Topic18\", \"Topic18\", \"Topic18\", \"Topic18\", \"Topic18\", \"Topic18\", \"Topic18\", \"Topic18\", \"Topic18\", \"Topic18\", \"Topic19\", \"Topic19\", \"Topic19\", \"Topic19\", \"Topic19\", \"Topic19\", \"Topic19\", \"Topic19\", \"Topic19\", \"Topic19\", \"Topic19\", \"Topic19\", \"Topic19\", \"Topic19\", \"Topic19\", \"Topic19\", \"Topic19\", \"Topic19\", \"Topic19\", \"Topic19\", \"Topic19\", \"Topic19\", \"Topic19\", \"Topic19\", \"Topic19\", \"Topic19\", \"Topic19\", \"Topic19\", \"Topic19\", \"Topic19\", \"Topic19\", \"Topic19\", \"Topic19\", \"Topic20\", \"Topic20\", \"Topic20\", \"Topic20\", \"Topic20\", \"Topic20\", \"Topic20\", \"Topic20\", \"Topic20\", \"Topic20\", \"Topic20\", \"Topic20\", \"Topic20\", \"Topic20\", \"Topic20\", \"Topic20\", \"Topic20\", \"Topic20\", \"Topic20\", \"Topic20\", \"Topic20\", \"Topic20\", \"Topic20\", \"Topic20\", \"Topic20\", \"Topic20\", \"Topic20\", \"Topic20\", \"Topic20\", \"Topic20\", \"Topic20\", \"Topic20\", \"Topic20\", \"Topic20\"], \"logprob\": [30.0, 29.0, 28.0, 27.0, 26.0, 25.0, 24.0, 23.0, 22.0, 21.0, 20.0, 19.0, 18.0, 17.0, 16.0, 15.0, 14.0, 13.0, 12.0, 11.0, 10.0, 9.0, 8.0, 7.0, 6.0, 5.0, 4.0, 3.0, 2.0, 1.0, -3.634399890899658, -3.8138999938964844, -4.918900012969971, -5.220900058746338, -5.222400188446045, -5.426000118255615, -5.504000186920166, -5.609899997711182, -5.64870023727417, -5.745500087738037, -5.757299900054932, -5.767300128936768, -5.790800094604492, -5.964600086212158, -4.319200038909912, -6.039000034332275, -6.067599773406982, -6.137700080871582, -6.155900001525879, -6.159599781036377, -6.197299957275391, -6.290800094604492, -6.201099872589111, -6.4527997970581055, -6.482399940490723, -6.484600067138672, -6.4994001388549805, -6.503699779510498, -6.506899833679199, -6.571400165557861, -4.295300006866455, -4.435699939727783, -4.650000095367432, -4.624599933624268, -5.610099792480469, -5.418000221252441, -5.102499961853027, -4.125500202178955, -3.8875999450683594, -3.8348000049591064, -5.895500183105469, -5.148499965667725, -3.4453001022338867, -4.800300121307373, -4.651000022888184, -5.448200225830078, -4.577700138092041, -4.503600120544434, -4.034299850463867, -4.4710001945495605, -5.175300121307373, -4.118199825286865, -4.470099925994873, -4.984300136566162, -4.670100212097168, -4.699699878692627, -4.39709997177124, -4.794600009918213, -4.905700206756592, -4.583899974822998, -4.56790018081665, -4.583000183105469, -4.9695000648498535, -4.666200160980225, -2.604599952697754, -3.7430999279022217, -3.8006999492645264, -3.8169000148773193, -4.2708001136779785, -4.877799987792969, -5.054900169372559, -5.125400066375732, -5.293099880218506, -5.3292999267578125, -5.355899810791016, -5.374499797821045, -5.380099773406982, -5.5218000411987305, -5.548399925231934, -5.588500022888184, -5.594099998474121, -5.596700191497803, -5.618800163269043, -5.6244001388549805, -5.658699989318848, -5.7058000564575195, -5.730000019073486, -5.808000087738037, -5.8429999351501465, -5.845099925994873, -6.003200054168701, -6.016200065612793, -6.065899848937988, -6.073800086975098, -4.494100093841553, -4.667699813842773, -3.5209999084472656, -3.049299955368042, -4.599699974060059, -4.531099796295166, -4.110799789428711, -3.862499952316284, -4.317599773406982, -4.68720006942749, -4.526500225067139, -3.9667000770568848, -4.927599906921387, -4.462800025939941, -4.434800148010254, -4.90749979019165, -4.743100166320801, -4.900199890136719, -4.549300193786621, -4.945700168609619, -4.918399810791016, -4.6132001876831055, -4.9741997718811035, -5.020500183105469, -4.947000026702881, -4.979899883270264, -5.113800048828125, -5.190899848937988, -5.221199989318848, -5.3140997886657715, -5.326399803161621, -5.328999996185303, -5.394800186157227, -5.433499813079834, -5.48960018157959, -5.600800037384033, -5.614999771118164, -5.627099990844727, -5.630499839782715, -5.6666998863220215, -5.6717000007629395, -5.714600086212158, -5.716100215911865, -5.732900142669678, -5.736800193786621, -5.758200168609619, -5.758299827575684, -5.7596001625061035, -5.761199951171875, -5.761600017547607, -5.819200038909912, -5.84630012512207, -5.880000114440918, -5.887899875640869, -5.002200126647949, -4.838699817657471, -5.109399795532227, -5.001999855041504, -4.646100044250488, -5.331500053405762, -5.424200057983398, -4.78980016708374, -5.440199851989746, -5.092800140380859, -5.4303998947143555, -5.302700042724609, -4.760000228881836, -3.8787999153137207, -4.591800212860107, -5.110000133514404, -4.283699989318848, -5.144599914550781, -5.194399833679199, -4.959400177001953, -4.122200012207031, -5.104700088500977, -5.207699775695801, -4.693699836730957, -4.50439977645874, -4.25570011138916, -4.923600196838379, -5.168000221252441, -4.9593000411987305, -5.03879976272583, -4.691199779510498, -5.096099853515625, -5.146399974822998, -5.147200107574463, -3.523200035095215, -3.8838000297546387, -4.075099945068359, -4.76230001449585, -4.864500045776367, -4.89709997177124, -4.9664998054504395, -5.1118998527526855, -5.277400016784668, -5.339099884033203, -5.3607001304626465, -5.36870002746582, -5.375500202178955, -5.386300086975098, -5.432199954986572, -5.47730016708374, -5.502200126647949, -5.526199817657471, -5.528200149536133, -5.5320000648498535, -5.551499843597412, -5.570300102233887, -5.571000099182129, -5.579800128936768, -5.593400001525879, -5.606299877166748, -5.617300033569336, -5.6392998695373535, -5.6433000564575195, -5.666299819946289, -3.6147000789642334, -5.075500011444092, -5.191400051116943, -3.9976999759674072, -4.930699825286865, -3.936300039291382, -5.007299900054932, -5.15880012512207, -4.916399955749512, -4.287300109863281, -4.615900039672852, -4.922500133514404, -4.348599910736084, -4.826000213623047, -4.913099765777588, -4.5304999351501465, -4.774099826812744, -5.143499851226807, -5.09660005569458, -5.067800045013428, -5.225800037384033, -5.154099941253662, -0.6133999824523926, -2.9240000247955322, -3.574700117111206, -4.258900165557861, -4.668499946594238, -4.736100196838379, -4.752799987792969, -4.758600234985352, -4.770699977874756, -4.801300048828125, -4.859600067138672, -4.861999988555908, -4.874899864196777, -4.9517998695373535, -5.00570011138916, -5.041600227355957, -5.167799949645996, -5.182799816131592, -5.250800132751465, -5.2546000480651855, -5.323599815368652, -5.3404998779296875, -5.352799892425537, -5.435800075531006, -5.503499984741211, -5.504000186920166, -5.5366997718811035, -5.538700103759766, -5.547599792480469, -5.579999923706055, -3.0020999908447266, -3.561300039291382, -3.6108999252319336, -3.846299886703491, -3.87280011177063, -3.9807000160217285, -4.162799835205078, -4.230999946594238, -4.341599941253662, -4.441800117492676, -4.447800159454346, -4.5065999031066895, -4.546899795532227, -4.594200134277344, -4.641600131988525, -4.642199993133545, -4.705599784851074, -4.829699993133545, -4.8892998695373535, -5.007699966430664, -5.1255998611450195, -5.186399936676025, -5.2220001220703125, -5.229000091552734, -5.276899814605713, -5.3917999267578125, -5.422399997711182, -5.423900127410889, -5.5192999839782715, -5.551700115203857, -3.265000104904175, -2.9595000743865967, -4.426499843597412, -4.009500026702881, -3.3766000270843506, -3.7281999588012695, -3.998800039291382, -3.1926000118255615, -4.215099811553955, -4.631800174713135, -4.746200084686279, -4.259399890899658, -4.533999919891357, -3.8610000610351562, -4.242099761962891, -4.389200210571289, -4.422699928283691, -4.509399890899658, -4.556300163269043, -4.709400177001953, -4.732100009918213, -4.762599945068359, -4.762599945068359, -4.869800090789795, -4.882199764251709, -4.907599925994873, -4.9141998291015625, -4.96999979019165, -4.978400230407715, -4.986599922180176, -5.052800178527832, -5.054200172424316, -5.056399822235107, -5.085999965667725, -5.0903000831604, -5.095300197601318, -5.118800163269043, -5.119200229644775, -5.128900051116943, -5.1296000480651855, -5.184999942779541, -5.261099815368652, -5.2795000076293945, -3.7897000312805176, -4.049099922180176, -3.3766000270843506, -4.178899765014648, -3.754699945449829, -4.014800071716309, -3.884999990463257, -3.8722000122070312, -4.864799976348877, -4.875800132751465, -4.661799907684326, -4.433800220489502, -4.638500213623047, -4.398900032043457, -4.344600200653076, -4.706299781799316, -2.3929998874664307, -3.0318000316619873, -3.187700033187866, -3.460700035095215, -3.6273000240325928, -3.773099899291992, -4.021699905395508, -4.188899993896484, -4.266900062561035, -4.388899803161621, -4.614500045776367, -4.631100177764893, -4.6427001953125, -4.701099872589111, -4.771900177001953, -5.095399856567383, -5.168300151824951, -5.256499767303467, -5.264200210571289, -5.284800052642822, -5.38640022277832, -5.478400230407715, -5.539299964904785, -5.633399963378906, -5.657400131225586, -5.832099914550781, -5.953999996185303, -6.001399993896484, -6.035999774932861, -6.110400199890137, -4.855999946594238, -4.889100074768066, -3.4024999141693115, -3.9094998836517334, -3.428299903869629, -4.454899787902832, -3.2922000885009766, -4.162399768829346, -3.552799940109253, -4.588600158691406, -4.16510009765625, -3.96370005607605, -4.788300037384033, -4.316800117492676, -4.769899845123291, -4.510000228881836, -4.704500198364258, -3.515700101852417, -3.566800117492676, -3.6301000118255615, -3.748500108718872, -4.104599952697754, -4.164599895477295, -4.1921000480651855, -4.214000225067139, -4.2230000495910645, -4.322999954223633, -4.324100017547607, -4.458700180053711, -4.502299785614014, -4.6107001304626465, -4.674200057983398, -4.693600177764893, -4.8043999671936035, -4.8592000007629395, -4.890600204467773, -4.901199817657471, -4.951499938964844, -4.963799953460693, -5.174900054931641, -5.1915998458862305, -5.241700172424316, -5.360599994659424, -5.447199821472168, -5.47629976272583, -5.487599849700928, -5.491600036621094, -3.8447000980377197, -4.404399871826172, -3.224100112915039, -4.684199810028076, -3.734600067138672, -4.228499889373779, -4.366399765014648, -3.779400110244751, -4.459099769592285, -4.141600131988525, -4.606100082397461, -4.184999942779541, -4.509799957275391, -4.513800144195557, -3.0148000717163086, -3.0729000568389893, -3.2820000648498535, -3.490799903869629, -3.5701000690460205, -3.754499912261963, -3.993799924850464, -4.000899791717529, -4.040500164031982, -4.257400035858154, -4.3942999839782715, -4.626399993896484, -4.738999843597412, -4.82420015335083, -4.827000141143799, -5.11299991607666, -5.235899925231934, -5.273200035095215, -5.5167999267578125, -5.579800128936768, -5.652500152587891, -5.663599967956543, -5.772200107574463, -5.815800189971924, -5.8471999168396, -5.930500030517578, -5.980199813842773, -6.027599811553955, -6.087600231170654, -6.133299827575684, -3.230799913406372, -3.6435999870300293, -5.224100112915039, -4.109300136566162, -3.8280999660491943, -3.276599884033203, -4.273900032043457, -3.466099977493286, -5.370699882507324, -3.7172000408172607, -3.775599956512451, -4.077099800109863, -4.518199920654297, -4.510799884796143, -4.3730998039245605, -4.6371002197265625, -4.472300052642822, -4.631499767303467, -2.4670000076293945, -2.935800075531006, -3.7174999713897705, -3.75, -3.7792999744415283, -3.790800094604492, -3.850600004196167, -3.8929998874664307, -3.9779999256134033, -4.007699966430664, -4.009399890899658, -4.012400150299072, -4.092899799346924, -4.09630012512207, -4.21750020980835, -4.250800132751465, -4.29040002822876, -4.325900077819824, -4.38670015335083, -4.497700214385986, -4.583600044250488, -4.6350998878479, -4.6504998207092285, -4.652500152587891, -4.734499931335449, -4.771500110626221, -4.793600082397461, -4.816999912261963, -4.888700008392334, -4.903600215911865, -3.813699960708618, -4.345200061798096, -4.091400146484375, -4.534599781036377, -4.626299858093262, -4.719200134277344, -1.7425999641418457, -2.6133999824523926, -2.864000082015991, -2.9465999603271484, -3.492000102996826, -3.710099935531616, -3.9035000801086426, -3.921299934387207, -4.056600093841553, -4.195899963378906, -4.265500068664551, -4.292699813842773, -4.330100059509277, -4.34060001373291, -4.373700141906738, -4.394199848175049, -4.479100227355957, -4.535399913787842, -4.657100200653076, -4.678400039672852, -4.726600170135498, -4.834099769592285, -4.835100173950195, -4.971499919891357, -5.049300193786621, -5.064799785614014, -5.317299842834473, -5.503699779510498, -5.670199871063232, -5.733500003814697, -3.6800999641418457, -3.9971001148223877, -3.2153000831604004, -1.96589994430542, -2.154099941253662, -3.065000057220459, -3.333199977874756, -3.720400094985962, -4.115799903869629, -4.161099910736084, -4.46560001373291, -4.901800155639648, -4.940100193023682, -4.957699775695801, -5.475100040435791, -5.553100109100342, -5.6875, -5.815800189971924, -6.0609002113342285, -6.1269001960754395, -4.213600158691406, -4.472300052642822, -7.0543999671936035, -3.3636999130249023, -3.0425000190734863, -7.2027997970581055, -7.4105000495910645, -7.475399971008301, -4.461699962615967, -2.6554999351501465, -4.259200096130371, -4.323800086975098, -6.543300151824951, -4.475900173187256, -4.103799819946289, -4.729400157928467, -4.636600017547607, -4.40910005569458, -3.944999933242798, -4.86959981918335, -5.484799861907959, -5.325300216674805, -5.17080020904541, -1.8838000297546387, -2.9458000659942627, -3.1048998832702637, -3.330699920654297, -3.6391000747680664, -4.1666998863220215, -4.177000045776367, -4.228400230407715, -4.241000175476074, -4.2769999504089355, -4.424200057983398, -4.4257001876831055, -4.750999927520752, -4.792600154876709, -4.83459997177124, -4.903500080108643, -4.971099853515625, -4.991499900817871, -5.224100112915039, -5.408899784088135, -5.417799949645996, -5.623499870300293, -5.673399925231934, -2.2708001136779785, -5.807300090789795, -5.839099884033203, -5.94950008392334, -5.99459981918335, -6.195799827575684, -6.247499942779541, -2.8261001110076904, -4.440700054168701, -3.788800001144409, -4.558499813079834, -3.8657000064849854, -4.475200176239014, -4.122099876403809, -5.226200103759766, -4.941999912261963, -5.177599906921387, -5.085999965667725, -2.0971999168395996, -2.6324000358581543, -2.808300018310547, -2.8422000408172607, -2.95770001411438, -3.206700086593628, -3.276099920272827, -3.2967000007629395, -3.6647000312805176, -4.02370023727417, -4.184100151062012, -4.475100040435791, -4.61929988861084, -4.7789998054504395, -4.787399768829346, -4.802599906921387, -5.014599800109863, -5.053500175476074, -5.077499866485596, -5.09250020980835, -5.118199825286865, -5.353000164031982, -5.831200122833252, -5.9116997718811035, -6.520699977874756, -6.716400146484375, -7.252299785614014, -3.3155999183654785, -2.606300115585327, -9.621800422668457, -3.6791999340057373, -4.884200096130371, -6.143599987030029, -6.087100028991699, -2.437000036239624, -2.482300043106079, -2.538599967956543, -2.790800094604492, -2.9409000873565674, -3.1998000144958496, -3.277400016784668, -3.3828999996185303, -3.6429998874664307, -3.9173998832702637, -4.005199909210205, -4.013199806213379, -4.045000076293945, -4.088699817657471, -4.104400157928467, -4.345200061798096, -4.372499942779541, -4.414599895477295, -4.470399856567383, -4.596700191497803, -4.608699798583984, -5.153500080108643, -5.3302001953125, -5.442399978637695, -5.504499912261963, -5.584799766540527, -5.70959997177124, -5.918600082397461, -6.071800231933594, -6.142000198364258, -5.1996002197265625, -2.09060001373291, -2.2046000957489014, -2.9149999618530273, -2.99429988861084, -3.0416998863220215, -3.168800115585327, -3.3601999282836914, -3.4244000911712646, -3.6280999183654785, -3.9001998901367188, -4.067500114440918, -4.183499813079834, -4.21619987487793, -4.222799777984619, -4.2778000831604, -4.581699848175049, -4.745999813079834, -4.8171000480651855, -4.92140007019043, -5.089399814605713, -5.190199851989746, -5.318699836730957, -5.38670015335083, -5.683599948883057, -4.647600173950195, -11.750499725341797, -11.750499725341797, -11.75059986114502, -11.75059986114502, -11.750699996948242, -2.322499990463257, -2.5673000812530518, -2.8264999389648438, -3.073699951171875, -3.3914999961853027, -3.555999994277954, -3.580699920654297, -3.6298999786376953, -3.6651999950408936, -3.710900068283081, -3.8696999549865723, -4.25600004196167, -4.427700042724609, -4.809100151062012, -4.900300025939941, -4.909800052642822, -4.973999977111816, -5.2378997802734375, -5.771900177001953, -5.786499977111816, -5.7866997718811035, -5.812699794769287, -6.024199962615967, -6.078499794006348, -5.752399921417236, -11.388500213623047, -11.388500213623047, -11.38860034942627, -11.38860034942627, -11.38860034942627, -11.38860034942627, -11.38860034942627, -2.435699939727783, -2.6326000690460205, -2.6417999267578125, -2.9377999305725098, -3.326200008392334, -3.3868000507354736, -3.424499988555908, -3.6419999599456787, -3.6466000080108643, -4.3119001388549805, -4.374300003051758, -4.88670015335083, -4.973400115966797, -5.012599945068359, -5.029699802398682, -5.061200141906738, -5.20389986038208, -5.259099960327148, -5.646299839019775, -5.911399841308594, -6.249199867248535, -4.347899913787842, -6.2129998207092285, -11.351099967956543, -11.351200103759766, -11.351200103759766, -11.351300239562988, -11.351300239562988, -11.351300239562988, -11.351300239562988, -11.351200103759766, -11.351300239562988, -11.351300239562988, -2.1991000175476074, -2.7042999267578125, -3.0408999919891357, -3.570199966430664, -3.8661999702453613, -3.9017999172210693, -3.9428999423980713, -4.104100227355957, -5.218599796295166, -5.318900108337402, -5.57450008392334, -5.700699806213379, -5.729000091552734, -7.022500038146973, -11.02649974822998, -11.02649974822998, -11.02649974822998, -11.026599884033203, -11.026599884033203, -11.026599884033203, -11.026599884033203, -11.026599884033203, -11.026599884033203, -11.026599884033203, -11.026599884033203, -11.026599884033203, -11.026599884033203, -11.026599884033203, -11.026599884033203, -11.026599884033203, -11.026599884033203, -11.026599884033203, -11.026599884033203, -11.026599884033203], \"loglift\": [30.0, 29.0, 28.0, 27.0, 26.0, 25.0, 24.0, 23.0, 22.0, 21.0, 20.0, 19.0, 18.0, 17.0, 16.0, 15.0, 14.0, 13.0, 12.0, 11.0, 10.0, 9.0, 8.0, 7.0, 6.0, 5.0, 4.0, 3.0, 2.0, 1.0, 1.2697999477386475, 1.2697999477386475, 1.2694000005722046, 1.2692999839782715, 1.2692999839782715, 1.2690999507904053, 1.2690000534057617, 1.2689000368118286, 1.2689000368118286, 1.2688000202178955, 1.2688000202178955, 1.2688000202178955, 1.2687000036239624, 1.2684999704360962, 1.2684999704360962, 1.268399953842163, 1.268399953842163, 1.2683000564575195, 1.2682000398635864, 1.2682000398635864, 1.2682000398635864, 1.2680000066757202, 1.267899990081787, 1.2676000595092773, 1.2676000595092773, 1.2676000595092773, 1.2675000429153442, 1.2675000429153442, 1.2675000429153442, 1.2674000263214111, 1.256100058555603, 1.257200002670288, 1.2546000480651855, 1.2346999645233154, 1.2541999816894531, 1.2486000061035156, 1.2417000532150269, 1.2177000045776367, 1.2074999809265137, 1.1850999593734741, 1.257099986076355, 1.207200050354004, 1.0765000581741333, 1.176200032234192, 1.1546000242233276, 1.2145999670028687, 1.0907000303268433, 1.0533000230789185, 0.9431999921798706, 0.9976999759674072, 1.1442999839782715, 0.8895000219345093, 0.9715999960899353, 1.0990999937057495, 1.0039000511169434, 0.9947999715805054, 0.8598999977111816, 0.9785000085830688, 1.0123000144958496, 0.6998000144958496, 0.5090000033378601, 0.48260000348091125, 0.9290000200271606, -0.1784999966621399, 1.7062000036239624, 1.7059999704360962, 1.7059999704360962, 1.7059999704360962, 1.705899953842163, 1.7055000066757202, 1.705399990081787, 1.705299973487854, 1.705199956893921, 1.7051000595092773, 1.7051000595092773, 1.7051000595092773, 1.7051000595092773, 1.7049000263214111, 1.704800009727478, 1.704800009727478, 1.704800009727478, 1.704800009727478, 1.704699993133545, 1.704699993133545, 1.704699993133545, 1.7045999765396118, 1.7045999765396118, 1.7043999433517456, 1.7043999433517456, 1.7043999433517456, 1.7039999961853027, 1.7039999961853027, 1.7038999795913696, 1.7038999795913696, 1.6725000143051147, 1.6016000509262085, 1.5054999589920044, 1.4384000301361084, 1.579300045967102, 1.5586999654769897, 1.509600043296814, 1.3443000316619873, 1.396299958229065, 1.4609999656677246, 1.4013999700546265, 1.0988999605178833, 1.4168000221252441, 1.1190999746322632, 0.8489000201225281, 1.1476000547409058, 0.9837999939918518, 1.0807000398635864, 0.42820000648498535, 1.0181000232696533, 0.766700029373169, -0.09149999916553497, 0.6031000018119812, 0.2759000062942505, 1.857800006866455, 1.857800006866455, 1.857699990272522, 1.8575999736785889, 1.8574999570846558, 1.8573999404907227, 1.8573999404907227, 1.8573999404907227, 1.857300043106079, 1.857300043106079, 1.857200026512146, 1.8569999933242798, 1.8569999933242798, 1.8568999767303467, 1.8568999767303467, 1.8568999767303467, 1.8568999767303467, 1.8567999601364136, 1.8567999601364136, 1.8566999435424805, 1.8566999435424805, 1.8566999435424805, 1.8566999435424805, 1.8566999435424805, 1.8566999435424805, 1.8566999435424805, 1.856600046157837, 1.8565000295639038, 1.8564000129699707, 1.8564000129699707, 1.8518999814987183, 1.8418999910354614, 1.8468999862670898, 1.843500018119812, 1.8329999446868896, 1.8457000255584717, 1.847499966621399, 1.8202999830245972, 1.846500039100647, 1.8306000232696533, 1.8436000347137451, 1.8317999839782715, 1.7764999866485596, 1.6655999422073364, 1.7316999435424805, 1.7687000036239624, 1.5440000295639038, 1.7443000078201294, 1.753100037574768, 1.6188000440597534, 1.1854000091552734, 1.621399998664856, 1.692199945449829, 1.2646000385284424, 1.0729000568389893, 0.8212000131607056, 1.3970999717712402, 1.6466000080108643, 1.0427000522613525, 1.2122000455856323, 0.3165999948978424, 0.16089999675750732, 0.6388000249862671, 0.29440000653266907, 2.505199909210205, 2.505000114440918, 2.5048999786376953, 2.5041000843048096, 2.503999948501587, 2.5039000511169434, 2.5037999153137207, 2.503499984741211, 2.503200054168701, 2.503000020980835, 2.503000020980835, 2.5028998851776123, 2.5028998851776123, 2.5028998851776123, 2.5027999877929688, 2.5025999546051025, 2.5025999546051025, 2.502500057220459, 2.502500057220459, 2.502500057220459, 2.5023999214172363, 2.5023000240325928, 2.5023000240325928, 2.5023000240325928, 2.5023000240325928, 2.50219988822937, 2.50219988822937, 2.5020999908447266, 2.5020999908447266, 2.502000093460083, 2.501300096511841, 2.4763998985290527, 2.4781999588012695, 2.3931000232696533, 2.4583001136779785, 2.3798999786376953, 2.442500114440918, 2.398699998855591, 2.17330002784729, 1.504699945449829, 1.3423000574111938, 1.7110999822616577, 0.9477999806404114, 1.504699945449829, 1.6313999891281128, 1.0206999778747559, 1.3819999694824219, 1.9637000560760498, 1.813599944114685, 1.4332000017166138, 1.95169997215271, 1.2382999658584595, 2.8561999797821045, 2.8559000492095947, 2.855600118637085, 2.8550000190734863, 2.8543999195098877, 2.854300022125244, 2.854300022125244, 2.854300022125244, 2.8541998863220215, 2.8541998863220215, 2.854099988937378, 2.8540000915527344, 2.8540000915527344, 2.853800058364868, 2.8536999225616455, 2.853600025177002, 2.853300094604492, 2.8531999588012695, 2.8529999256134033, 2.8529999256134033, 2.852799892425537, 2.8526999950408936, 2.8526999950408936, 2.852400064468384, 2.852099895477295, 2.852099895477295, 2.8519999980926514, 2.851900100708008, 2.851900100708008, 2.851799964904785, 2.8678998947143555, 2.8675999641418457, 2.8675999641418457, 2.8673999309539795, 2.8673999309539795, 2.867300033569336, 2.8671000003814697, 2.867000102996826, 2.8668999671936035, 2.8666999340057373, 2.8666999340057373, 2.8666000366210938, 2.8666000366210938, 2.866499900817871, 2.8664000034332275, 2.8664000034332275, 2.866300106048584, 2.865999937057495, 2.8659000396728516, 2.865600109100342, 2.8652000427246094, 2.8650999069213867, 2.865000009536743, 2.8649001121520996, 2.864799976348877, 2.864300012588501, 2.8642001152038574, 2.8642001152038574, 2.863800048828125, 2.8636999130249023, 2.776700019836426, 2.5917000770568848, 2.7195000648498535, 2.5943000316619873, 2.353100061416626, 2.402400016784668, 2.4121999740600586, 2.103800058364868, 2.2741000652313232, 2.510200023651123, 2.343100070953369, 1.3178999423980713, 0.7735999822616577, 2.9683001041412354, 2.967900037765503, 2.9677000045776367, 2.967600107192993, 2.9674999713897705, 2.967400074005127, 2.967099905014038, 2.9670000076293945, 2.966900110244751, 2.966900110244751, 2.9667000770568848, 2.9667000770568848, 2.966599941253662, 2.966599941253662, 2.966399908065796, 2.966399908065796, 2.966399908065796, 2.966200113296509, 2.966200113296509, 2.966200113296509, 2.966099977493286, 2.966099977493286, 2.9660000801086426, 2.9660000801086426, 2.9660000801086426, 2.96589994430542, 2.96589994430542, 2.9656999111175537, 2.9655001163482666, 2.965399980545044, 2.937000036239624, 2.937000036239624, 2.824399948120117, 2.8427000045776367, 2.637700080871582, 2.672300100326538, 2.626199960708618, 2.3984999656677246, 2.8397998809814453, 2.8150999546051025, 2.5971999168395996, 2.3345000743865967, 2.3468000888824463, 1.8245999813079834, 1.6572999954223633, 2.3129000663757324, 3.848599910736084, 3.8482000827789307, 3.8480000495910645, 3.847599983215332, 3.8473000526428223, 3.847100019454956, 3.8464999198913574, 3.8459999561309814, 3.8457000255584717, 3.8452999591827393, 3.8443000316619873, 3.8441998958587646, 3.8441998958587646, 3.843899965286255, 3.8434998989105225, 3.8413000106811523, 3.8406999111175537, 3.8399999141693115, 3.839900016784668, 3.8396999835968018, 3.83870005607605, 3.8376998901367188, 3.8369998931884766, 3.8357999324798584, 3.8355000019073486, 3.832900047302246, 3.8308000564575195, 3.829900026321411, 3.829200029373169, 3.827699899673462, 3.7876999378204346, 3.764899969100952, 3.2328999042510986, 3.311500072479248, 3.045099973678589, 3.329200029373169, 2.606300115585327, 3.021199941635132, 2.3652000427246094, 3.1387999057769775, 2.663800001144409, 2.0172998905181885, 3.1415998935699463, 2.289900064468384, 3.041599988937378, 1.760699987411499, 2.2878000736236572, 3.945499897003174, 3.9453999996185303, 3.945199966430664, 3.944999933242798, 3.944000005722046, 3.9437999725341797, 3.9437999725341797, 3.943700075149536, 3.9435999393463135, 3.9433000087738037, 3.9433000087738037, 3.942699909210205, 3.942500114440918, 3.9419000148773193, 3.9416000843048096, 3.941499948501587, 3.9407999515533447, 3.940500020980835, 3.9402999877929688, 3.940200090408325, 3.9398000240325928, 3.93969988822937, 3.937999963760376, 3.9377999305725098, 3.937299966812134, 3.9361000061035156, 3.9351000785827637, 3.9347000122070312, 3.9346001148223877, 3.934499979019165, 3.8176000118255615, 3.7816998958587646, 3.552799940109253, 3.760499954223633, 3.451900005340576, 3.5058000087738037, 3.4124999046325684, 2.9142000675201416, 3.352400064468384, 2.9375998973846436, 2.8443000316619873, 0.8349000215530396, 1.806399941444397, 1.805799961090088, 3.950700044631958, 3.9505999088287354, 3.9504001140594482, 3.950000047683716, 3.949899911880493, 3.94950008392334, 3.948899984359741, 3.948899984359741, 3.9488000869750977, 3.9481000900268555, 3.947499990463257, 3.9463999271392822, 3.9458000659942627, 3.9453001022338867, 3.945199966430664, 3.9430999755859375, 3.941999912261963, 3.9416000843048096, 3.938800096511841, 3.937999963760376, 3.937000036239624, 3.936800003051758, 3.9351000785827637, 3.9344000816345215, 3.933799982070923, 3.932300090789795, 3.931299924850464, 3.930299997329712, 3.928999900817871, 3.9279000759124756, 3.8582000732421875, 3.7058000564575195, 3.7755000591278076, 3.5181000232696533, 3.386399984359741, 3.2383999824523926, 3.453000068664551, 3.169300079345703, 3.78439998626709, 2.6135001182556152, 2.5687999725341797, 2.565200090408325, 2.877500057220459, 2.4693000316619873, 1.8279000520706177, 2.283600091934204, 1.6583000421524048, 1.6378999948501587, 4.250999927520752, 4.250500202178955, 4.248899936676025, 4.248799800872803, 4.248700141906738, 4.248600006103516, 4.2484002113342285, 4.248300075531006, 4.248000144958496, 4.247900009155273, 4.247900009155273, 4.247900009155273, 4.247499942779541, 4.247499942779541, 4.247000217437744, 4.246799945831299, 4.246600151062012, 4.246399879455566, 4.246099948883057, 4.2453999519348145, 4.244800090789795, 4.244500160217285, 4.24429988861084, 4.24429988861084, 4.24370002746582, 4.2434000968933105, 4.243199825286865, 4.243000030517578, 4.242300033569336, 4.242199897766113, 3.6273000240325928, 3.5964999198913574, 3.146899938583374, 3.5016000270843506, 2.9149999618530273, 1.4113999605178833, 4.462800025939941, 4.462100028991699, 4.4618000984191895, 4.461699962615967, 4.4604997634887695, 4.459799766540527, 4.459000110626221, 4.458899974822998, 4.4583001136779785, 4.457499980926514, 4.457099914550781, 4.456900119781494, 4.456699848175049, 4.456600189208984, 4.456399917602539, 4.456299781799316, 4.455599784851074, 4.4552001953125, 4.454100131988525, 4.45389986038208, 4.453499794006348, 4.452400207519531, 4.452400207519531, 4.450799942016602, 4.44980001449585, 4.44950008392334, 4.4456000328063965, 4.441999912261963, 4.438199996948242, 4.436600208282471, 3.5023999214172363, 3.4921000003814697, 2.915299892425537, 4.565800189971924, 4.565700054168701, 4.5644001960754395, 4.563799858093262, 4.5625, 4.560500144958496, 4.560299873352051, 4.558000087738037, 4.553400039672852, 4.5528998374938965, 4.552700042724609, 4.543399810791016, 4.541600227355957, 4.538000106811523, 4.534200191497803, 4.525400161743164, 4.52269983291626, 4.511000156402588, 4.503900051116943, 4.459199905395508, 4.4532999992370605, 4.448599815368652, 4.442999839782715, 4.416600227355957, 4.407299995422363, 4.373700141906738, 4.352200031280518, 4.069399833679199, 3.900099992752075, 3.680500030517578, 3.321700096130371, 3.2337000370025635, 3.210599899291992, 3.050600051879883, 2.790800094604492, 2.0966999530792236, 2.8647000789642334, 3.4574999809265137, 2.550299882888794, 1.6059999465942383, 4.632900238037109, 4.6315999031066895, 4.63129997253418, 4.63070011138916, 4.6296000480651855, 4.6269001960754395, 4.626800060272217, 4.626399993896484, 4.626399993896484, 4.626100063323975, 4.624899864196777, 4.624899864196777, 4.621500015258789, 4.620999813079834, 4.620500087738037, 4.61959981918335, 4.618599891662598, 4.618299961090088, 4.614299774169922, 4.610400199890137, 4.610199928283691, 4.604899883270264, 4.603499889373779, 4.601900100708008, 4.5991997718811035, 4.598100185394287, 4.594099998474121, 4.592299938201904, 4.5833001136779785, 4.580699920654297, 2.7181999683380127, 3.5420000553131104, 3.123500108718872, 3.364500045776367, 2.4361000061035156, 3.10479998588562, 2.63700008392334, 3.55049991607666, 1.8868999481201172, 2.4512999057769775, 0.7416999936103821, 4.726900100708008, 4.726200103759766, 4.725900173187256, 4.725900173187256, 4.725599765777588, 4.724999904632568, 4.724800109863281, 4.724699974060059, 4.723299980163574, 4.721399784088135, 4.720300197601318, 4.717800140380859, 4.71619987487793, 4.714200019836426, 4.714099884033203, 4.713900089263916, 4.710599899291992, 4.70989990234375, 4.709499835968018, 4.709199905395508, 4.708700180053711, 4.703700065612793, 4.689300060272217, 4.686100006103516, 4.652400016784668, 4.6367998123168945, 4.576900005340576, 4.486000061035156, 3.8838999271392822, 3.7190001010894775, 3.410099983215332, 3.421799898147583, 2.8559999465942383, 1.0953999757766724, 4.964000225067139, 4.964000225067139, 4.963900089263916, 4.9633002281188965, 4.9629998207092285, 4.962100028991699, 4.9618000984191895, 4.961400032043457, 4.960100173950195, 4.958399772644043, 4.957699775695801, 4.957600116729736, 4.957399845123291, 4.956999778747559, 4.956900119781494, 4.954500198364258, 4.95419979095459, 4.953700065612793, 4.953000068664551, 4.951300144195557, 4.951099872589111, 4.940700054168701, 4.9359002113342285, 4.932400226593018, 4.930300235748291, 4.9274001121521, 4.922399997711182, 4.912600040435791, 4.904099941253662, 4.899799823760986, 4.345099925994873, 5.402400016784668, 5.402100086212158, 5.400000095367432, 5.399600028991699, 5.399400234222412, 5.398799896240234, 5.397600173950195, 5.397200107574463, 5.395599842071533, 5.392899990081787, 5.390900135040283, 5.389200210571289, 5.388800144195557, 5.388599872589111, 5.387800216674805, 5.381999969482422, 5.3780999183654785, 5.376200199127197, 5.373199939727783, 5.367599964141846, 5.363800048828125, 5.35830020904541, 5.355199813842773, 5.338799953460693, 3.422600030899048, 1.9973000288009644, 1.9972000122070312, 1.9972000122070312, 1.9972000122070312, 1.9970999956130981, 5.582300186157227, 5.581500053405762, 5.58050012588501, 5.57919979095459, 5.577000141143799, 5.575500011444092, 5.575300216674805, 5.57480001449585, 5.574399948120117, 5.57390022277832, 5.572000026702881, 5.565999984741211, 5.562399864196777, 5.55210018157959, 5.548999786376953, 5.548600196838379, 5.546299934387207, 5.534800052642822, 5.500800132751465, 5.499599933624268, 5.499599933624268, 5.497399806976318, 5.47790002822876, 5.4721999168396, 2.4514999389648438, 2.359299898147583, 2.3592000007629395, 2.3592000007629395, 2.3592000007629395, 2.3592000007629395, 2.3592000007629395, 2.359100103378296, 5.696899890899658, 5.696199893951416, 5.696100234985352, 5.694699764251709, 5.69189977645874, 5.691400051116943, 5.690999984741211, 5.688799858093262, 5.688700199127197, 5.677700042724609, 5.676300048828125, 5.660399913787842, 5.656899929046631, 5.655200004577637, 5.654399871826172, 5.6529998779296875, 5.645899772644043, 5.642899990081787, 5.616799831390381, 5.592700004577637, 5.5524001121521, 3.6473000049591064, 2.7630999088287354, 2.3965001106262207, 2.3965001106262207, 2.3965001106262207, 2.3965001106262207, 2.3965001106262207, 2.3965001106262207, 2.3965001106262207, 2.3965001106262207, 2.396399974822998, 2.396399974822998, 6.586900234222412, 6.582399845123291, 6.577899932861328, 6.56689977645874, 6.5578999519348145, 6.556600093841553, 6.555099964141846, 6.548399925231934, 6.46150016784668, 6.448599815368652, 6.409999847412109, 6.387599945068359, 6.382299900054932, 5.973999977111816, 2.721299886703491, 2.721299886703491, 2.7211999893188477, 2.7211999893188477, 2.7211999893188477, 2.7211999893188477, 2.7211999893188477, 2.7211999893188477, 2.7211999893188477, 2.7211999893188477, 2.7211999893188477, 2.7211999893188477, 2.7211999893188477, 2.7211999893188477, 2.721100091934204, 2.721100091934204, 2.721100091934204, 2.721100091934204, 2.721100091934204, 2.721100091934204]}, \"token.table\": {\"Topic\": [1, 15, 17, 7, 2, 7, 10, 17, 19, 2, 3, 4, 1, 11, 12, 1, 4, 6, 7, 13, 1, 2, 3, 4, 6, 7, 10, 12, 18, 13, 1, 2, 8, 2, 6, 8, 6, 6, 9, 18, 2, 3, 9, 1, 8, 4, 9, 13, 9, 1, 2, 16, 16, 4, 9, 4, 10, 5, 20, 2, 4, 6, 10, 7, 5, 15, 1, 2, 1, 3, 6, 1, 2, 16, 1, 8, 8, 2, 20, 2, 4, 6, 10, 15, 7, 4, 14, 6, 9, 8, 8, 13, 16, 11, 2, 6, 7, 15, 2, 7, 14, 1, 2, 3, 4, 6, 7, 1, 2, 6, 19, 14, 5, 6, 8, 3, 4, 9, 13, 18, 1, 3, 4, 7, 1, 3, 1, 8, 19, 2, 1, 9, 15, 8, 8, 8, 4, 9, 9, 1, 8, 9, 8, 5, 8, 4, 1, 3, 9, 14, 13, 2, 4, 10, 10, 13, 10, 5, 1, 2, 7, 7, 3, 15, 10, 10, 19, 19, 19, 2, 6, 1, 3, 11, 12, 11, 13, 15, 4, 10, 8, 6, 17, 12, 13, 12, 16, 8, 3, 6, 1, 2, 3, 4, 7, 1, 4, 9, 3, 13, 4, 3, 9, 5, 7, 12, 1, 7, 12, 12, 17, 4, 9, 4, 14, 16, 19, 7, 12, 1, 2, 5, 2, 7, 4, 6, 11, 15, 5, 1, 14, 19, 1, 13, 20, 17, 4, 8, 18, 11, 15, 14, 16, 1, 1, 3, 11, 15, 19, 9, 17, 2, 12, 16, 2, 3, 5, 1, 12, 4, 10, 6, 6, 1, 4, 15, 5, 12, 10, 1, 11, 16, 2, 12, 3, 20, 12, 8, 2, 10, 17, 4, 1, 2, 3, 5, 7, 14, 5, 8, 12, 12, 12, 19, 9, 15, 1, 3, 4, 19, 8, 8, 1, 7, 8, 19, 5, 11, 10, 11, 1, 5, 16, 16, 7, 5, 3, 11, 11, 8, 4, 3, 14, 10, 15, 2, 6, 15, 10, 6, 1, 1, 4, 11, 12, 3, 10, 14, 1, 2, 3, 10, 5, 14, 9, 13, 4, 1, 2, 3, 14, 16, 11, 5, 14, 1, 2, 3, 4, 7, 8, 10, 10, 1, 3, 4, 9, 3, 10, 5, 4, 10, 7, 10, 13, 5, 10, 9, 8, 8, 1, 2, 5, 9, 1, 2, 3, 4, 17, 13, 17, 1, 2, 18, 17, 1, 2, 3, 14, 4, 9, 3, 6, 16, 9, 12, 3, 1, 2, 4, 16, 13, 1, 1, 6, 1, 2, 3, 17, 5, 2, 3, 6, 5, 16, 7, 3, 6, 13, 19, 2, 9, 13, 2, 7, 4, 5, 1, 12, 15, 7, 10, 18, 12, 16, 18, 19, 2, 6, 7, 10, 3, 1, 8, 1, 4, 4, 2, 10, 2, 4, 10, 9, 7, 6, 15, 5, 16, 2, 16, 7, 16, 9, 11, 9, 1, 4, 8, 9, 3, 18, 4, 1, 9, 13, 13, 1, 2, 1, 10, 6, 3, 9, 8, 16, 3, 6, 8, 1, 2, 3, 9, 14, 11, 4, 1, 3, 13, 8, 14, 14, 10, 8, 4, 14, 1, 3, 4, 1, 2, 3, 6, 17, 19, 1, 9, 2, 2, 18, 2, 10, 6, 8, 1, 2, 3, 1, 2, 14, 1, 3, 6, 11, 6, 2, 10, 7, 3, 1, 2, 3, 4, 1, 9, 6, 1, 3, 4, 7, 10, 10, 9, 4, 15, 1, 2, 3, 4, 7, 10, 1, 4, 15, 17, 17, 7, 1, 7, 9, 6, 10, 2, 4, 6, 15, 14, 5, 4, 9, 1, 4, 11, 10, 15, 16, 16, 3, 6, 11, 18, 18, 20, 20, 19, 1, 2, 3, 16, 4, 9, 9, 1, 3, 4, 7, 8, 1, 7, 4, 1, 18, 3, 2, 3, 4, 6, 2, 2, 1, 2, 3, 4, 7, 2, 1, 2, 14, 2, 2, 19, 19, 9, 7, 12, 2, 3, 4, 7, 10, 10, 10, 1, 9, 2, 7, 1, 3, 5, 14, 13, 19, 20, 1, 7, 12, 4, 11, 14, 11, 2, 3, 4, 8, 12, 5, 6, 18, 6, 12, 1, 2, 3, 4, 5, 7, 8, 16, 7, 2, 17, 3, 6, 8, 9, 14, 14, 14, 1, 4, 9, 18, 6, 7, 14, 1, 4, 16, 14, 2, 17, 1, 2, 14, 13, 13, 11, 4, 14, 5, 1, 3, 10, 4, 13, 19, 1, 2, 10, 3, 7, 17, 13, 1, 7, 4, 2, 16, 4, 1, 3, 6, 4, 5, 6, 10, 11, 12, 3, 11, 7, 4, 1, 4, 8, 4, 7, 4, 11, 17, 3, 3, 13, 3, 15, 1, 2, 3, 4, 8, 16, 1, 8, 11, 9, 4, 6, 20, 12, 1, 1, 1, 8, 7, 16, 3, 5, 8, 18, 8, 4, 9, 16, 1, 2, 3, 2, 9, 7, 9, 11, 2, 3, 11, 6, 1, 15, 3, 6, 14, 10, 7, 9, 1, 11, 13, 2, 1, 2, 4, 3, 9, 11, 10, 4, 16, 18, 20, 2, 6, 13, 6, 9, 1, 2, 14, 2, 11, 5, 3, 1, 18, 10, 18, 11, 11, 11, 6, 14, 6, 8, 15, 14, 1, 2, 3, 6, 14, 4, 7, 4, 4, 1, 2, 3, 1, 2, 6, 2, 2, 10, 1, 3, 10, 20, 1, 3, 6, 7, 10, 1, 2, 3, 7, 15, 3, 20, 9, 13, 11, 7, 15, 2, 12, 11, 9, 15, 2, 3, 6, 9, 12, 2, 3, 8, 9, 10, 11, 15, 3, 7, 5, 15, 1, 3, 13, 15, 3, 4, 6, 10, 4, 9, 3, 13, 9, 1, 12, 17, 10, 10, 3, 11, 2, 17, 7, 14, 2, 12, 8, 1, 3, 4, 6, 7, 18, 2, 19, 15, 4, 6, 11, 1, 2, 3, 3, 8, 9, 13, 4, 15, 4, 14, 9, 4, 11, 2, 4, 11, 1, 2, 12, 4, 9, 6, 20, 4, 8, 10, 2, 12, 18, 18, 1, 2, 1, 16, 6, 8, 1, 13, 14, 17, 3, 13, 14, 1, 2, 3, 6, 15, 2, 6, 14, 9, 14, 17, 18, 1, 17, 17, 4, 13, 13, 8, 9, 1, 4, 8, 10, 1, 1, 2, 6, 9, 9, 13, 17, 3, 20, 10, 2, 3, 4, 6, 7, 4, 6, 7, 3, 10, 11, 10, 15, 20, 2, 12, 15, 1, 13, 7, 9, 19, 14, 14, 1, 2, 9, 18, 2, 13, 12, 1, 2, 3, 9, 13, 13, 7, 1, 2, 3, 3, 2, 3, 15, 16, 18, 4, 6, 13, 6, 16, 10, 7, 9, 1, 9, 2, 1, 4, 6, 8, 2, 3, 6, 1, 9, 4, 19, 18, 1, 2, 3, 4, 1, 2, 8, 1, 1, 3, 14, 13, 1], \"Freq\": [0.999082088470459, 0.914017379283905, 0.9433242082595825, 0.9981257319450378, 0.39979976415634155, 0.5300883054733276, 0.0692390650510788, 0.9501360654830933, 0.9449101686477661, 0.9984827637672424, 0.9970192313194275, 0.9973136186599731, 0.9994062781333923, 0.9963017106056213, 0.981706440448761, 0.10672466456890106, 0.45162755250930786, 0.2739700376987457, 0.16659460961818695, 0.8798802495002747, 0.1290770024061203, 0.17763207852840424, 0.5100874304771423, 0.00708454754203558, 0.12302921712398529, 0.052874915301799774, 0.0001727938506519422, 0.9860413670539856, 0.9966233968734741, 0.9632120728492737, 0.2859611511230469, 0.5029935836791992, 0.20958064496517181, 0.99725341796875, 0.9966161251068115, 0.9882036447525024, 0.9989510774612427, 0.9980548620223999, 0.9943476915359497, 0.9707239270210266, 0.08661673218011856, 0.8466361165046692, 0.06623632460832596, 0.4144556522369385, 0.5842185616493225, 0.21065036952495575, 0.2744838297367096, 0.5138592720031738, 0.9956541657447815, 0.18172545731067657, 0.8180906772613525, 0.9960449934005737, 0.9975302219390869, 0.38910382986068726, 0.609671413898468, 0.34979957342147827, 0.6486232876777649, 0.9964641332626343, 0.8832494020462036, 0.19947730004787445, 0.054106585681438446, 0.2881338596343994, 0.45697250962257385, 0.9981323480606079, 0.9999781847000122, 0.992500364780426, 0.9719191193580627, 0.02728193998336792, 0.0030782173853367567, 0.7867923378944397, 0.20931877195835114, 0.4551127851009369, 0.5447788238525391, 0.9981063604354858, 0.7727708220481873, 0.2268363982439041, 0.9938029646873474, 0.9987443685531616, 0.8230020999908447, 0.47240033745765686, 0.019730323925614357, 0.023112665861845016, 0.05468118190765381, 0.4301210641860962, 0.9953089356422424, 0.998710036277771, 0.9946212768554688, 0.9960901141166687, 0.995366096496582, 0.9989923238754272, 0.9175851941108704, 0.07360309362411499, 0.9610676765441895, 0.9949368238449097, 0.15240496397018433, 0.10434934496879578, 0.7428025603294373, 0.9961506128311157, 0.9993550181388855, 0.9970142841339111, 0.9880943298339844, 0.1885027289390564, 0.502562940120697, 0.2271357923746109, 0.06427743285894394, 0.007326961029320955, 0.010324354283511639, 0.8910861015319824, 0.04378661513328552, 0.06482693552970886, 0.9887710809707642, 0.9859237670898438, 0.9997841715812683, 0.9995875954627991, 0.9895324110984802, 0.5261842012405396, 0.17232532799243927, 0.035517431795597076, 0.2630921006202698, 0.9424031972885132, 0.0781598836183548, 0.5520870089530945, 0.3123083710670471, 0.05696398392319679, 0.21056944131851196, 0.7887431383132935, 0.9981775879859924, 0.9974858164787292, 0.970224916934967, 0.9980472922325134, 0.6433094143867493, 0.35585859417915344, 0.9990260004997253, 0.9988695383071899, 0.9964673519134521, 0.9982768297195435, 0.9736856818199158, 0.025671562179923058, 0.9948287010192871, 0.5322125554084778, 0.447391152381897, 0.019957970827817917, 0.9878151416778564, 0.9983673691749573, 0.9966622591018677, 0.9970489740371704, 0.013440195471048355, 0.8920930027961731, 0.08232119679450989, 0.011760171502828598, 0.856497049331665, 0.0061562638729810715, 0.08208352327346802, 0.9111270904541016, 0.9985013604164124, 0.9685450792312622, 0.9982537627220154, 0.9945369362831116, 0.9862751364707947, 0.01345020905137062, 0.9965837001800537, 0.9971965551376343, 0.9890380501747131, 0.009853430092334747, 0.9947618246078491, 0.9760874509811401, 0.9260970950126648, 0.9717714190483093, 0.9847754240036011, 0.23874446749687195, 0.7604453563690186, 0.9978237748146057, 0.9972965717315674, 0.9899646043777466, 0.9935122728347778, 0.9926756024360657, 0.8672354817390442, 0.9597269296646118, 0.43040698766708374, 0.5676718950271606, 0.9971646070480347, 0.9966519474983215, 0.9851016402244568, 0.9979112148284912, 0.9954622387886047, 0.45440027117729187, 0.5381056070327759, 0.9902911186218262, 0.9929406046867371, 0.00567858200520277, 0.7615799903869629, 0.23383265733718872, 0.0008119189296849072, 0.003450655611231923, 0.9972476959228516, 0.2152324616909027, 0.5750742554664612, 0.20850645005702972, 0.9872511029243469, 0.011206028051674366, 0.9953747391700745, 0.9877031445503235, 0.011252314783632755, 0.9972513914108276, 0.9960159063339233, 0.9964500665664673, 0.4717295467853546, 0.5186154842376709, 0.00861169584095478, 0.9892687797546387, 0.9835792779922485, 0.971464991569519, 0.02770957164466381, 0.997829258441925, 0.9901067614555359, 0.9618663191795349, 0.9715735912322998, 0.9974575638771057, 0.9909729957580566, 0.21585041284561157, 0.7825078368186951, 0.0016018584137782454, 0.11963120102882385, 0.8791943788528442, 0.17094548046588898, 0.6989290118217468, 0.12875007092952728, 0.9896514415740967, 0.9976282715797424, 0.999293863773346, 0.9918800592422485, 0.9887418746948242, 0.3862903118133545, 0.6095589995384216, 0.37735456228256226, 0.9855618476867676, 0.4030093252658844, 0.5942331552505493, 0.9872124791145325, 0.9962201714515686, 0.9977344870567322, 0.9957889318466187, 0.9754171371459961, 0.9992936849594116, 0.02577199414372444, 0.9728928208351135, 0.9966699481010437, 0.9957883358001709, 0.9560835957527161, 0.9871653914451599, 0.9946482181549072, 0.9986127614974976, 0.998283326625824, 0.9976818561553955, 0.9986081123352051, 0.9975526332855225, 0.9979501366615295, 0.9973911643028259, 0.9839386343955994, 0.656683087348938, 0.34158673882484436, 0.9997096657752991, 0.998940646648407, 0.04432163015007973, 0.9543001055717468, 0.9741169810295105, 0.9971998333930969, 0.9896877408027649, 0.9903641939163208, 0.46249303221702576, 0.5354414582252502, 0.9594144225120544, 0.9969644546508789, 0.9883477091789246, 0.9988524913787842, 0.7608778476715088, 0.9941095113754272, 0.9868100881576538, 0.8107048273086548, 0.18901994824409485, 0.9617927074432373, 0.9985828399658203, 0.22176086902618408, 0.1027904525399208, 0.6300674080848694, 0.003807053668424487, 0.03569112718105316, 0.005710580386221409, 0.9983343482017517, 0.9929892420768738, 0.9922466278076172, 0.9991868734359741, 0.9985270500183105, 0.9139363765716553, 0.9951018691062927, 0.822012722492218, 0.9872921109199524, 0.0076199546456336975, 0.004825971554964781, 0.9332582950592041, 0.9994824528694153, 0.9944803714752197, 0.29987767338752747, 0.15971747040748596, 0.5397798418998718, 0.9899445176124573, 0.9973016977310181, 0.990805447101593, 0.8423292636871338, 0.14578776061534882, 0.9988119006156921, 0.997310221195221, 0.9838378429412842, 0.992064893245697, 0.9968923926353455, 0.9978011250495911, 0.998301088809967, 0.9949392676353455, 0.9932287931442261, 0.9990134835243225, 0.9971276521682739, 0.9980871081352234, 0.9976351261138916, 0.9973838329315186, 0.5324865579605103, 0.1395835131406784, 0.591177225112915, 0.2678771913051605, 0.9836626052856445, 0.998046875, 0.9987063407897949, 0.5548002123832703, 0.18063262104988098, 0.2628849744796753, 0.9995582103729248, 0.6470105051994324, 0.015046755783259869, 0.33604422211647034, 0.3447810113430023, 0.4856366813182831, 0.15084169805049896, 0.018658118322491646, 0.9955028891563416, 0.9930382370948792, 0.10890468955039978, 0.8881100416183472, 0.9963839054107666, 0.23454289138317108, 0.014822413213551044, 0.7300764918327332, 0.020344488322734833, 0.9904199242591858, 0.9945911765098572, 0.9953238368034363, 0.9827110767364502, 0.07378605008125305, 0.1910289227962494, 0.011769554577767849, 0.03395063802599907, 0.5649386048316956, 0.12403299659490585, 0.0004526751581579447, 0.9965164661407471, 0.011175780557096004, 0.4754786491394043, 0.1483330875635147, 0.3647368252277374, 0.9982916116714478, 0.9978281259536743, 0.9972578883171082, 0.2169894427061081, 0.7814282774925232, 0.9959421753883362, 0.9839230179786682, 0.9990714192390442, 0.9967133402824402, 0.9844979047775269, 0.9938507080078125, 0.9721269607543945, 0.9895906448364258, 0.30353641510009766, 0.6962746977806091, 0.998137891292572, 0.9919421076774597, 0.7664501070976257, 0.07577262818813324, 0.12512454390525818, 0.03240276873111725, 0.9817577600479126, 0.9795467853546143, 0.9527847766876221, 0.9395129084587097, 0.06035235524177551, 0.9975260496139526, 0.998896598815918, 0.5655046105384827, 0.42429715394973755, 0.006242144852876663, 0.003880252130329609, 0.8816863894462585, 0.11749501526355743, 0.9987335801124573, 0.9977307319641113, 0.9942326545715332, 0.996671736240387, 0.9665730595588684, 0.997778594493866, 0.4084680378437042, 0.2659885585308075, 0.3249177634716034, 0.994663417339325, 0.999358594417572, 0.9977237582206726, 0.9993278980255127, 0.9977214932441711, 0.4276432693004608, 0.5721370577812195, 0.9984572529792786, 0.9922659993171692, 0.9973057508468628, 0.8628246188163757, 0.025688298046588898, 0.111064113676548, 0.9979187846183777, 0.9923496842384338, 0.996769905090332, 0.8809281587600708, 0.11882508546113968, 0.9987080693244934, 0.9941820502281189, 0.7886654138565063, 0.04126737639307976, 0.16965477168560028, 0.9996851086616516, 0.9960695505142212, 0.99740070104599, 0.9968322515487671, 0.9982261657714844, 0.991891622543335, 0.9967108964920044, 0.9965165257453918, 0.9993023872375488, 0.9816800355911255, 0.9948113560676575, 0.9577788710594177, 0.9390747547149658, 0.9293162226676941, 0.013510049320757389, 0.0012665671529248357, 0.865065336227417, 0.11947949975728989, 0.9986706972122192, 0.5070646405220032, 0.4915224015712738, 0.09999270737171173, 0.8982951045036316, 0.9963301420211792, 0.7720333337783813, 0.22728514671325684, 0.3696173429489136, 0.36769476532936096, 0.26243311166763306, 0.9945794939994812, 0.9980917572975159, 0.9979254603385925, 0.988106369972229, 0.9969044923782349, 0.9505520462989807, 0.9990853667259216, 0.9972441792488098, 0.9967610836029053, 0.9987534880638123, 0.995556652545929, 0.9870560169219971, 0.998903751373291, 0.10566098988056183, 0.8937796354293823, 0.445892870426178, 0.5515546798706055, 0.9979292154312134, 0.8869422078132629, 0.9996531009674072, 0.27334001660346985, 0.6743388175964355, 0.051814451813697815, 0.9840996265411377, 0.7213064432144165, 0.27861034870147705, 0.9977580904960632, 0.9887118935585022, 0.9972751140594482, 0.4111323654651642, 0.5849943161010742, 0.9422462582588196, 0.05342633277177811, 0.9834691286087036, 0.0156864020973444, 0.9747056365013123, 0.33342382311820984, 0.17465056478977203, 0.37825390696525574, 0.002334900666028261, 0.11114127188920975, 0.997965395450592, 0.9994617104530334, 0.07150798290967941, 0.9138054847717285, 0.014135298319160938, 0.984491765499115, 0.9864935874938965, 0.9802433252334595, 0.9879076480865479, 0.9897745847702026, 0.9978850483894348, 0.962562620639801, 0.0012712342431768775, 0.962324321269989, 0.03559456020593643, 0.9392578601837158, 0.060120388865470886, 0.9983164668083191, 0.9964346885681152, 0.9964621067047119, 0.9558146595954895, 0.9792518019676208, 0.02017689123749733, 0.9987543821334839, 0.9999154210090637, 0.9950794577598572, 0.7496188879013062, 0.2500917613506317, 0.9955524802207947, 0.9961336851119995, 0.2599063515663147, 0.733548104763031, 0.00648468965664506, 0.621692955493927, 0.15649808943271637, 0.22098906338214874, 0.9984530806541443, 0.9720662832260132, 0.02695353701710701, 0.9926317930221558, 0.9989765286445618, 0.9004979729652405, 0.09900052845478058, 0.9970375299453735, 0.998222291469574, 0.6836224794387817, 0.09729459136724472, 0.21392007172107697, 0.005120767746120691, 0.8818140029907227, 0.11741674691438675, 0.9978510737419128, 0.7594695687294006, 0.15163949131965637, 0.06284388154745102, 0.007124002557247877, 0.01857329159975052, 0.9954243302345276, 0.983382523059845, 0.9971725344657898, 0.9883567094802856, 0.4672618806362152, 0.06598736345767975, 0.3543562591075897, 0.032925087958574295, 0.05844203010201454, 0.020852556452155113, 0.8430268168449402, 0.15651921927928925, 0.9944683909416199, 0.9907949566841125, 0.9838725328445435, 0.9966983199119568, 0.18485547602176666, 0.6895595788955688, 0.12526391446590424, 0.999053418636322, 0.9941948056221008, 0.6365830898284912, 0.34194254875183105, 0.02051655389368534, 0.9848928451538086, 0.9784025549888611, 0.997788667678833, 0.35407254099845886, 0.6435904502868652, 0.9873666763305664, 0.012027722783386707, 0.9972833395004272, 0.21343441307544708, 0.7846853733062744, 0.9881608486175537, 0.9524263739585876, 0.9991146326065063, 0.9974921941757202, 0.9947016835212708, 0.997806191444397, 0.9946162700653076, 0.973072350025177, 0.9911536574363708, 0.9945432543754578, 0.4832976758480072, 0.22117485105991364, 0.29527121782302856, 0.9933681488037109, 0.12013182044029236, 0.8791465163230896, 0.9867590069770813, 0.5423418879508972, 0.0004318008723203093, 0.10751841962337494, 0.3182372450828552, 0.03065786138176918, 0.28962239623069763, 0.7093733549118042, 0.9966762661933899, 0.997543215751648, 0.8871254920959473, 0.9977014064788818, 0.821398913860321, 0.030002202838659286, 0.07465115189552307, 0.07370620220899582, 0.9989144802093506, 0.9981624484062195, 0.9996996521949768, 0.7373911738395691, 0.04883810877799988, 0.13591131567955017, 0.077755406498909, 0.9979315400123596, 0.2589336037635803, 0.6049160957336426, 0.13573727011680603, 0.9983664751052856, 0.9996908903121948, 0.9892968535423279, 0.9964063763618469, 0.9932469725608826, 0.9968003034591675, 0.9933157563209534, 0.2830231487751007, 0.44218042492866516, 0.0020759643521159887, 0.2691833972930908, 0.003113946644589305, 0.9982395768165588, 0.9821947813034058, 0.9977427124977112, 0.9976649880409241, 0.9977133870124817, 0.997443675994873, 0.09886772930622101, 0.899607241153717, 0.9980276823043823, 0.9713847637176514, 0.9413484930992126, 0.054178331047296524, 0.9413450956344604, 0.1179783046245575, 0.8814801573753357, 0.9821279644966125, 0.9964199662208557, 0.6546282768249512, 0.33840951323509216, 0.997097373008728, 0.9997482299804688, 0.8087198734283447, 0.10918108373880386, 0.08110594749450684, 0.997204065322876, 0.9976614117622375, 0.9542317986488342, 0.043800801038742065, 0.9984155297279358, 0.9824817776679993, 0.08654610067605972, 0.07722575217485428, 0.5237148404121399, 0.17397984862327576, 0.006657392252236605, 0.04438261315226555, 0.08654610067605972, 0.9736461043357849, 0.9958953261375427, 0.9986906051635742, 0.9986777305603027, 0.999276876449585, 0.9975011944770813, 0.14752693474292755, 0.8482798337936401, 0.9947857856750488, 0.9907498955726624, 0.9922103881835938, 0.918666422367096, 0.03667408600449562, 0.04444951191544533, 0.9867549538612366, 0.9967333674430847, 0.7158251404762268, 0.28113266825675964, 0.5821579098701477, 0.417272686958313, 0.9850698709487915, 0.9451074004173279, 0.9986618757247925, 0.9906592965126038, 0.2967323660850525, 0.4844951927661896, 0.2162625640630722, 0.8203467726707458, 0.9935606718063354, 0.9967963695526123, 0.030578818172216415, 0.9686047434806824, 0.9993212223052979, 0.74721360206604, 0.2526490390300751, 0.991411566734314, 0.8157364726066589, 0.18192684650421143, 0.9960430860519409, 0.11893916130065918, 0.8808931708335876, 0.989404559135437, 0.9212221503257751, 0.07854009419679642, 0.9871836304664612, 0.9746701121330261, 0.14048346877098083, 0.8578856587409973, 0.9978010058403015, 0.9993295669555664, 0.9950358867645264, 0.997502863407135, 0.28514236211776733, 0.1170085072517395, 0.597428560256958, 0.9977706670761108, 0.9964017868041992, 0.6276168823242188, 0.10073348879814148, 0.05823655053973198, 0.2124847024679184, 0.4789930582046509, 0.51991206407547, 0.9972147345542908, 0.9986927509307861, 0.42516833543777466, 0.13758762180805206, 0.43644601106643677, 0.28170621395111084, 0.7178139686584473, 0.9991111159324646, 0.9930402636528015, 0.9646900296211243, 0.9981938004493713, 0.7400722503662109, 0.2571030259132385, 0.9984123110771179, 0.9821657538414001, 0.20260412991046906, 0.5349698066711426, 0.04573839157819748, 0.05624128133058548, 0.16025377810001373, 0.9834030270576477, 0.5043415427207947, 0.4924466907978058, 0.9942125082015991, 0.9877933859825134, 0.7176547050476074, 0.2813124358654022, 0.9616398215293884, 0.983319103717804, 0.9979252219200134, 0.9983879923820496, 0.7109925746917725, 0.28857749700546265, 0.9987515211105347, 0.9599087238311768, 0.9978368878364563, 0.9941568374633789, 0.9932217001914978, 0.9873327016830444, 0.9978821873664856, 0.9390539526939392, 0.03826865553855896, 0.02060619927942753, 0.9843205213546753, 0.014752514660358429, 0.9981294274330139, 0.9667584896087646, 0.03263320028781891, 0.9684252738952637, 0.030709650367498398, 0.9953039288520813, 0.28471601009368896, 0.38359227776527405, 0.33117592334747314, 0.9955752491950989, 0.9968032240867615, 0.9881725907325745, 0.9884427785873413, 0.01078301202505827, 0.9694669246673584, 0.9848357439041138, 0.9682953357696533, 0.030548514798283577, 0.9966004490852356, 0.9964231848716736, 0.9880080819129944, 0.9972226619720459, 0.632134199142456, 0.0002804499526973814, 0.3676699101924896, 0.9976734519004822, 0.9966087341308594, 0.994739830493927, 0.9861555695533752, 0.9960492849349976, 0.989176869392395, 0.8888859748840332, 0.9507869482040405, 0.002519997302442789, 0.9125990271568298, 0.08459991216659546, 0.9972903728485107, 0.993429958820343, 0.9654021859169006, 0.03420007973909378, 0.9634079337120056, 0.9987054467201233, 0.9970032572746277, 0.9976310729980469, 0.997631847858429, 0.9999133348464966, 0.9889782071113586, 0.9943563938140869, 0.9739333391189575, 0.9944081902503967, 0.9985100030899048, 0.996707558631897, 0.998439371585846, 0.9493082761764526, 0.9988788962364197, 0.9964245557785034, 0.996030867099762, 0.9983063340187073, 0.09097440540790558, 0.02531461790204048, 0.7404525279998779, 0.07831709831953049, 0.06407762318849564, 0.9957046508789062, 0.9978243112564087, 0.9977959990501404, 0.9980972409248352, 0.9491725564002991, 0.04351045936346054, 0.007341270800679922, 0.9106751084327698, 0.08567091822624207, 0.0033728706184774637, 0.9993192553520203, 0.7484464049339294, 0.2509439289569855, 0.9995017051696777, 0.9987401366233826, 0.9976990818977356, 0.9885161519050598, 0.18542087078094482, 0.10260649770498276, 0.6338685750961304, 0.008854367770254612, 0.06875155866146088, 0.0443960465490818, 0.07029373943805695, 0.34869393706321716, 0.5364522337913513, 0.9831235408782959, 0.9978266358375549, 0.7785573601722717, 0.10411456972360611, 0.8924105763435364, 0.9923996329307556, 0.9956716895103455, 0.9777873158454895, 0.6200211644172668, 0.37813636660575867, 0.9883604049682617, 0.9860812425613403, 0.9982638955116272, 0.01447775587439537, 0.9844874143600464, 0.998923122882843, 0.9978930950164795, 0.995586633682251, 0.9989449381828308, 0.4380703568458557, 0.050857771188020706, 0.020227523520588875, 0.4900839924812317, 0.9989227056503296, 0.9895128607749939, 0.9990704655647278, 0.996831476688385, 0.9979304075241089, 0.9982966184616089, 0.9987035989761353, 0.6611889600753784, 0.32732126116752625, 0.9484537243843079, 0.9984697699546814, 0.5820164680480957, 0.41587531566619873, 0.002089825691655278, 0.9958418607711792, 0.003877888899296522, 0.7106355428695679, 0.28758856654167175, 0.9891268014907837, 0.9987182021141052, 0.9913919568061829, 0.9514632821083069, 0.9861412048339844, 0.9844751954078674, 0.9851773381233215, 0.0135801387950778, 0.999002993106842, 0.9818475842475891, 0.9982097744941711, 0.9840036034584045, 0.9979391694068909, 0.9975331425666809, 0.9874135255813599, 0.06308012455701828, 0.06308012455701828, 0.2742858827114105, 0.5519511103630066, 0.04731009155511856, 0.9515965580940247, 0.8684264421463013, 0.12950219213962555, 0.9517933130264282, 0.22661982476711273, 0.7583387494087219, 0.014769969508051872, 0.8051905035972595, 0.012414831668138504, 0.18201029300689697, 0.9746540188789368, 0.024533625692129135, 0.047398511320352554, 0.9479702115058899, 0.9964523315429688, 0.9972396492958069, 0.9967688918113708, 0.9992080926895142, 0.9838231801986694, 0.5238416790962219, 0.47357404232025146, 0.409292608499527, 0.500246524810791, 0.08923780173063278, 0.9847564697265625, 0.014754082076251507, 0.9893903136253357, 0.16717872023582458, 0.8279327154159546, 0.9990991950035095, 0.9541690945625305, 0.19027788937091827, 0.19998595118522644, 0.6077243089675903, 0.999548077583313, 0.9882009029388428, 0.9313493967056274, 0.9750158190727234, 0.9986386299133301, 0.0011431302409619093, 0.9998714923858643, 0.9923359751701355, 0.9957393407821655, 0.9962410926818848, 0.8651465177536011, 0.13292615115642548, 0.9698607325553894, 0.9942702054977417, 0.1706167459487915, 0.823667049407959, 0.9494578838348389, 0.6636131405830383, 0.13633635640144348, 0.18315064907073975, 0.0169188492000103, 0.9751210808753967, 0.6883753538131714, 0.19718167185783386, 0.112675242125988, 0.9951942563056946, 0.9967415928840637, 0.9842774868011475, 0.9782655835151672, 0.8594248294830322, 0.13685108721256256, 0.9955610036849976, 0.998100757598877, 0.9821256399154663, 0.994280219078064, 0.990190327167511, 0.9954770803451538, 0.7708292007446289, 0.018368156626820564, 0.21028371155261993, 0.997154712677002, 0.9990202188491821, 0.5539611577987671, 0.3908979594707489, 0.05494245886802673, 0.9967411756515503, 0.996515154838562, 0.9488088488578796, 0.995056688785553, 0.9984123706817627, 0.9786427021026611, 0.997575044631958, 0.2392038255929947, 0.07278630882501602, 0.21067023277282715, 0.4655931890010834, 0.011618471704423428, 0.09124211221933365, 0.8613690137863159, 0.045621056109666824, 0.9980102777481079, 0.9918641448020935, 0.9946921467781067, 0.838897705078125, 0.15252685546875, 0.9105644822120667, 0.5903434157371521, 0.3830472528934479, 0.025912020355463028, 0.5660104751586914, 0.40092408657073975, 0.9983652830123901, 0.9971960186958313, 0.9333532452583313, 0.9829908609390259, 0.9740288257598877, 0.44395309686660767, 0.555793821811676, 0.9978888630867004, 0.9888591766357422, 0.7782022953033447, 0.2202107161283493, 0.994921863079071, 0.8360010385513306, 0.022058729082345963, 0.13656583428382874, 0.0052048685029149055, 0.9966620802879333, 0.9741215109825134, 0.9973433017730713, 0.7421092391014099, 0.04860460013151169, 0.20923687517642975, 0.9989407062530518, 0.02772074192762375, 0.6999487280845642, 0.2702772319316864, 0.9902282357215881, 0.9085420966148376, 0.9974396228790283, 0.19200995564460754, 0.8068201541900635, 0.9995759725570679, 0.9965657591819763, 0.9776393175125122, 0.9985000491142273, 0.9977996349334717, 0.6671255826950073, 0.3313537538051605, 0.998906135559082, 0.6842317581176758, 0.006328154820948839, 0.0023730581160634756, 0.3053334951400757, 0.3317420184612274, 0.4557492434978485, 0.21226057410240173, 0.9459673166275024, 0.05292593315243721, 0.9963376522064209, 0.9626674652099609, 0.954215407371521, 0.8241270780563354, 0.1656758338212967, 0.007165637332946062, 0.002992244204506278, 0.23494192957878113, 0.7649502158164978, 0.9928846955299377, 0.9992505311965942, 0.028243597596883774, 0.8243189454078674, 0.14734838902950287, 0.99212646484375, 0.9984382390975952], \"Term\": [\"accept\", \"acceptance\", \"accidentally\", \"addition\", \"address\", \"address\", \"address\", \"adequately\", \"adjust\", \"advance\", \"advice\", \"agency\", \"agree\", \"air\", \"allocate\", \"allow\", \"allow\", \"allow\", \"allow\", \"along\", \"also\", \"also\", \"also\", \"also\", \"also\", \"also\", \"also\", \"angel\", \"animal\", \"annoy\", \"answer\", \"answer\", \"answer\", \"anyway\", \"apple\", \"applicable\", \"application\", \"appreciate\", \"arab\", \"arbitrary\", \"area\", \"area\", \"area\", \"argument\", \"argument\", \"arm\", \"arm\", \"arm\", \"armenian\", \"article\", \"article\", \"atheism\", \"atheist\", \"attack\", \"attack\", \"author\", \"author\", \"auto\", \"automate\", \"available\", \"available\", \"available\", \"available\", \"avoid\", \"ax\", \"backup\", \"bad\", \"bad\", \"base\", \"base\", \"base\", \"be\", \"be\", \"belief\", \"believe\", \"believe\", \"biblical\", \"bike\", \"birthday\", \"bit\", \"bit\", \"bit\", \"bit\", \"bit\", \"blank\", \"block\", \"blue\", \"board\", \"bomb\", \"book\", \"bother\", \"bother\", \"boundary\", \"boy\", \"build\", \"build\", \"build\", \"bus\", \"buy\", \"cable\", \"cage\", \"call\", \"call\", \"call\", \"call\", \"call\", \"call\", \"can\", \"can\", \"can\", \"cap\", \"captain\", \"car\", \"card\", \"careful\", \"carry\", \"carry\", \"carry\", \"carry\", \"cart\", \"case\", \"case\", \"case\", \"case\", \"cause\", \"cause\", \"certainly\", \"character\", \"characteristic\", \"cheap\", \"child\", \"child\", \"chip\", \"christian\", \"christianity\", \"church\", \"citizen\", \"citizen\", \"civilian\", \"claim\", \"claim\", \"claim\", \"classic\", \"clean\", \"clearly\", \"clipper\", \"close\", \"close\", \"close\", \"close\", \"cock\", \"code\", \"code\", \"code\", \"color\", \"colt\", \"com\", \"combine\", \"come\", \"come\", \"communication\", \"community\", \"compare\", \"compare\", \"compile\", \"compiler\", \"complexity\", \"compress\", \"compute\", \"computer\", \"computer\", \"conclusion\", \"condition\", \"conference\", \"configuration\", \"confirm\", \"confrontation\", \"consent\", \"contain\", \"contain\", \"context\", \"convert\", \"conviction\", \"cool\", \"cop\", \"core\", \"core\", \"corner\", \"cost\", \"cost\", \"could\", \"could\", \"could\", \"could\", \"count\", \"country\", \"country\", \"country\", \"couple\", \"couple\", \"court\", \"cover\", \"cover\", \"coverage\", \"cpu\", \"crash\", \"create\", \"create\", \"create\", \"creator\", \"creature\", \"crime\", \"crime\", \"criminal\", \"cross\", \"cubic\", \"curve\", \"cycle\", \"cylinder\", \"d\", \"d\", \"d\", \"date\", \"date\", \"datum\", \"datum\", \"datum\", \"daughter\", \"dealer\", \"death\", \"decent\", \"default\", \"defense\", \"defense\", \"defenseless\", \"deliver\", \"deny\", \"deny\", \"depth\", \"development\", \"device\", \"devil\", \"dialog\", \"die\", \"difference\", \"difference\", \"digital\", \"direct\", \"disable\", \"disarm\", \"disease\", \"disk\", \"display\", \"distribution\", \"distribution_usa\", \"division\", \"door\", \"doubt\", \"download\", \"draw\", \"draw\", \"drive\", \"driver\", \"drug\", \"drug\", \"dry\", \"dual\", \"dump\", \"duo\", \"earth\", \"earth\", \"ease\", \"eat\", \"edit\", \"effect\", \"elderly\", \"electrical\", \"elsewhere\", \"email\", \"email\", \"emphasis\", \"encryption\", \"end\", \"end\", \"end\", \"end\", \"end\", \"end\", \"engine\", \"enjoy\", \"entity\", \"entry\", \"error\", \"escalate\", \"escape\", \"esdi\", \"even\", \"even\", \"even\", \"everytime\", \"evidence\", \"excuse\", \"exist\", \"exist\", \"exist\", \"expansion\", \"expensive\", \"experiment\", \"expire\", \"expire\", \"explain\", \"export\", \"exposure\", \"extension\", \"external\", \"extra\", \"face\", \"facility\", \"factory\", \"faith\", \"false\", \"family\", \"fan\", \"faq\", \"fasst\", \"fast\", \"fast\", \"fast\", \"fate\", \"feature\", \"feel\", \"field\", \"field\", \"field\", \"file\", \"final\", \"final\", \"final\", \"find\", \"find\", \"find\", \"find\", \"finger\", \"finish\", \"fire\", \"fire\", \"firearm\", \"first\", \"first\", \"first\", \"first\", \"fish\", \"flight\", \"floor\", \"flyer\", \"follow\", \"follow\", \"follow\", \"follow\", \"follow\", \"follow\", \"follow\", \"font\", \"force\", \"force\", \"force\", \"force\", \"forget\", \"format\", \"fuel\", \"function\", \"function\", \"future\", \"fuzzy\", \"game\", \"gas\", \"generic\", \"genocide\", \"gentile\", \"german\", \"get\", \"get\", \"gift\", \"girl\", \"give\", \"give\", \"give\", \"give\", \"glad\", \"glass\", \"glory\", \"go\", \"go\", \"goal\", \"god\", \"good\", \"good\", \"good\", \"good\", \"government\", \"government\", \"grant\", \"graphic\", \"greatly_appreciate\", \"greek\", \"grip\", \"ground\", \"group\", \"group\", \"group\", \"guilty\", \"gun\", \"guy\", \"happen\", \"hardware\", \"have\", \"have\", \"head\", \"health\", \"heat\", \"help\", \"help\", \"help\", \"here\", \"hi\", \"hide\", \"high\", \"high\", \"hit\", \"hole\", \"home\", \"home\", \"home\", \"host\", \"hot\", \"house\", \"huge\", \"human\", \"icon\", \"ide\", \"ignore\", \"image\", \"imho\", \"implementation\", \"inappropriate\", \"incidentally\", \"incline\", \"include\", \"include\", \"include\", \"include\", \"increase\", \"indeed\", \"indeed\", \"individual\", \"individual\", \"industry\", \"info\", \"info\", \"information\", \"information\", \"information\", \"inhabitant\", \"input\", \"instal\", \"installation\", \"insurance\", \"integration\", \"interested\", \"interface\", \"internal\", \"internet\", \"invasion\", \"investigation\", \"israeli\", \"issue\", \"issue\", \"jewish\", \"jewish\", \"job\", \"jubilees_re\", \"key\", \"kill\", \"kill\", \"kill\", \"knock\", \"know\", \"know\", \"knowledge\", \"label\", \"laboratory\", \"land\", \"land\", \"language\", \"language\", \"large\", \"large\", \"largely\", \"last\", \"last\", \"last\", \"last\", \"last\", \"launch\", \"law\", \"lead\", \"lead\", \"lead\", \"leadership\", \"leafs\", \"leak\", \"leather\", \"left\", \"legal\", \"lemieux\", \"less\", \"less\", \"less\", \"let\", \"let\", \"level\", \"library\", \"license\", \"licensing\", \"life\", \"life\", \"light\", \"line\", \"link\", \"list\", \"list\", \"load\", \"logic\", \"look\", \"look\", \"look\", \"lose\", \"lose\", \"lose\", \"love\", \"low\", \"low\", \"lunar\", \"machine\", \"mail\", \"mail\", \"main\", \"major\", \"make\", \"make\", \"make\", \"make\", \"man\", \"man\", \"manager\", \"many\", \"many\", \"many\", \"many\", \"many\", \"map\", \"massacre\", \"master\", \"maximum\", \"may\", \"may\", \"may\", \"may\", \"may\", \"may\", \"mean\", \"mean\", \"meaning\", \"medical\", \"medicine\", \"meet\", \"member\", \"member\", \"member\", \"memory\", \"mercy\", \"message\", \"message\", \"message\", \"meter\", \"mid\", \"mile\", \"military\", \"military\", \"mind\", \"mind\", \"mission\", \"mode\", \"mode\", \"modem\", \"module\", \"money\", \"monitor\", \"moon\", \"moral\", \"morality\", \"moslem\", \"motif\", \"mouse\", \"much\", \"much\", \"much\", \"multiple\", \"murder\", \"murder\", \"muslim\", \"must\", \"must\", \"must\", \"must\", \"must\", \"name\", \"name\", \"national\", \"nature\", \"nec_zx\", \"necessary\", \"need\", \"need\", \"need\", \"need\", \"net\", \"network\", \"never\", \"new\", \"new\", \"new\", \"new\", \"news\", \"next\", \"next\", \"next\", \"nice\", \"nntp_poste\", \"noise\", \"normal\", \"northern\", \"notice\", \"nuclear\", \"number\", \"number\", \"number\", \"number\", \"number\", \"object\", \"observer\", \"obviously\", \"occupy\", \"office\", \"official\", \"often\", \"often\", \"oil\", \"oiler\", \"ok\", \"ok\", \"okay\", \"open\", \"open\", \"openwindow\", \"operate\", \"opportunity\", \"opportunity\", \"orbit\", \"organization\", \"other\", \"other\", \"other\", \"output\", \"own\", \"pack\", \"pack\", \"package\", \"parameter\", \"part\", \"part\", \"part\", \"part\", \"part\", \"part\", \"part\", \"partially\", \"particularly\", \"pass\", \"patient\", \"pay\", \"pc\", \"peace\", \"peace\", \"pen\", \"penalty\", \"penguin\", \"people\", \"people\", \"people\", \"percentage\", \"performance\", \"period\", \"period\", \"person\", \"person\", \"phase\", \"philly\", \"phone\", \"physician\", \"pick\", \"pick\", \"pick\", \"pistol\", \"pitch\", \"plane\", \"play\", \"play\", \"player\", \"point\", \"point\", \"pointer\", \"police\", \"police\", \"port\", \"post\", \"post\", \"postscript\", \"power\", \"power\", \"preach\", \"prescription\", \"press\", \"press\", \"prevent\", \"price\", \"printer\", \"private\", \"problem\", \"problem\", \"problem\", \"processor\", \"production\", \"program\", \"program\", \"program\", \"program\", \"project\", \"project\", \"proper\", \"protect\", \"prove\", \"prove\", \"prove\", \"provide\", \"provide\", \"public\", \"publication\", \"publicly\", \"publish\", \"pull\", \"pull\", \"purpose\", \"quadra\", \"question\", \"question\", \"question\", \"question\", \"question\", \"quit\", \"quote\", \"quote\", \"radiation\", \"rape\", \"rate\", \"rate\", \"ratio\", \"reactor\", \"reality\", \"realize\", \"reason\", \"reason\", \"receive\", \"redesign\", \"reduce\", \"reflect\", \"reject\", \"relationship\", \"religion\", \"religious\", \"religious\", \"religious\", \"remember\", \"remember\", \"replace\", \"reply\", \"reply\", \"report\", \"report\", \"requirement\", \"research\", \"research\", \"research\", \"resolution\", \"respect\", \"restore\", \"result\", \"result\", \"retire\", \"retrieve\", \"return\", \"return\", \"revelation\", \"review\", \"revolver\", \"ride\", \"right\", \"right\", \"right\", \"risk\", \"rocket\", \"role\", \"roman\", \"room\", \"routine\", \"rude\", \"ruin\", \"run\", \"run\", \"run\", \"running\", \"russian\", \"s\", \"s\", \"sabre\", \"sale\", \"satellite\", \"saturn\", \"save\", \"say\", \"scale\", \"scare\", \"scene\", \"schedule\", \"science\", \"scientific\", \"score\", \"scorer\", \"screen\", \"scripture\", \"scsi\", \"season\", \"second\", \"second\", \"second\", \"second\", \"second\", \"secret\", \"section\", \"secure\", \"security\", \"see\", \"see\", \"see\", \"seem\", \"seem\", \"seem\", \"sell\", \"send\", \"send\", \"sense\", \"serious\", \"server\", \"session\", \"set\", \"set\", \"set\", \"set\", \"set\", \"several\", \"several\", \"several\", \"several\", \"sgi\", \"shall\", \"sharing\", \"shoot\", \"shoot\", \"shuttle\", \"significant\", \"sister\", \"size\", \"size\", \"sky\", \"slaughter\", \"slow\", \"small\", \"small\", \"software\", \"soldier\", \"solid\", \"soon\", \"source\", \"source\", \"source\", \"source\", \"space\", \"spacecraft\", \"speak\", \"special\", \"specify\", \"speed\", \"spend\", \"spot\", \"spot\", \"stall\", \"stand\", \"standard\", \"standard\", \"standard\", \"state\", \"state\", \"steal\", \"steal\", \"stone\", \"story\", \"stream\", \"strictly\", \"stroke\", \"stuck\", \"study\", \"study\", \"stuff\", \"subjective\", \"suggest\", \"suitable\", \"summary\", \"sun\", \"superior\", \"support\", \"support\", \"support\", \"support\", \"support\", \"swear\", \"switch\", \"switch\", \"synchronous\", \"system\", \"system\", \"system\", \"take\", \"take\", \"take\", \"talk\", \"talk\", \"tank\", \"tank\", \"tap\", \"tape\", \"teach\", \"team\", \"tear\", \"technical\", \"technical\", \"technology\", \"technology\", \"technology\", \"tell\", \"tell\", \"terminal\", \"terrorism\", \"terrorism\", \"test\", \"testing\", \"text\", \"text\", \"text\", \"thank\", \"thermal\", \"thesis\", \"thick\", \"thing\", \"thing\", \"think\", \"thinking\", \"though\", \"thread\", \"throw\", \"throw\", \"thumb\", \"ticket\", \"tie\", \"tie\", \"tighten\", \"time\", \"time\", \"time\", \"time\", \"tip\", \"top\", \"top\", \"top\", \"town\", \"trade\", \"traditional\", \"translate\", \"treat\", \"treat\", \"treatment\", \"trial\", \"trigger\", \"trip\", \"trivial\", \"troop\", \"true\", \"true\", \"true\", \"trust\", \"truth\", \"try\", \"try\", \"try\", \"turk\", \"turkish\", \"turning\", \"univ\", \"university\", \"unknown\", \"update\", \"use\", \"use\", \"use\", \"use\", \"use\", \"user\", \"user\", \"user\", \"usually\", \"utility\", \"vehicle\", \"vendor\", \"vendor\", \"verification\", \"version\", \"version\", \"version\", \"victory\", \"victory\", \"video\", \"village\", \"vitamin\", \"volt\", \"voting\", \"want\", \"want\", \"war\", \"warrant\", \"watch\", \"watch\", \"water\", \"way\", \"way\", \"way\", \"way\", \"weapon\", \"weeks_ago\", \"weight\", \"well\", \"well\", \"well\", \"whole\", \"wide\", \"wide\", \"wide\", \"widget\", \"wild_corn\", \"willing\", \"win\", \"win\", \"window\", \"wing\", \"winter\", \"wire\", \"withdraw\", \"woman\", \"woman\", \"wonder\", \"word\", \"word\", \"word\", \"word\", \"work\", \"work\", \"work\", \"world\", \"world\", \"worry\", \"worse\", \"worthwhile\", \"would\", \"would\", \"would\", \"would\", \"write\", \"write\", \"writing\", \"wrong\", \"year\", \"year\", \"year\", \"yesterday\", \"young\"]}, \"R\": 30, \"lambda.step\": 0.01, \"plot.opts\": {\"xlab\": \"PC1\", \"ylab\": \"PC2\"}, \"topic.order\": [2, 19, 10, 20, 4, 11, 7, 3, 15, 17, 12, 1, 13, 9, 8, 5, 14, 16, 6, 18]};\n",
       "\n",
       "function LDAvis_load_lib(url, callback){\n",
       "  var s = document.createElement('script');\n",
       "  s.src = url;\n",
       "  s.async = true;\n",
       "  s.onreadystatechange = s.onload = callback;\n",
       "  s.onerror = function(){console.warn(\"failed to load library \" + url);};\n",
       "  document.getElementsByTagName(\"head\")[0].appendChild(s);\n",
       "}\n",
       "\n",
       "if(typeof(LDAvis) !== \"undefined\"){\n",
       "   // already loaded: just create the visualization\n",
       "   !function(LDAvis){\n",
       "       new LDAvis(\"#\" + \"ldavis_el146561404175445607043384183435\", ldavis_el146561404175445607043384183435_data);\n",
       "   }(LDAvis);\n",
       "}else if(typeof define === \"function\" && define.amd){\n",
       "   // require.js is available: use it to load d3/LDAvis\n",
       "   require.config({paths: {d3: \"https://cdnjs.cloudflare.com/ajax/libs/d3/3.5.5/d3.min\"}});\n",
       "   require([\"d3\"], function(d3){\n",
       "      window.d3 = d3;\n",
       "      LDAvis_load_lib(\"https://cdn.rawgit.com/bmabey/pyLDAvis/files/ldavis.v1.0.0.js\", function(){\n",
       "        new LDAvis(\"#\" + \"ldavis_el146561404175445607043384183435\", ldavis_el146561404175445607043384183435_data);\n",
       "      });\n",
       "    });\n",
       "}else{\n",
       "    // require.js not available: dynamically load d3 & LDAvis\n",
       "    LDAvis_load_lib(\"https://cdnjs.cloudflare.com/ajax/libs/d3/3.5.5/d3.min.js\", function(){\n",
       "         LDAvis_load_lib(\"https://cdn.rawgit.com/bmabey/pyLDAvis/files/ldavis.v1.0.0.js\", function(){\n",
       "                 new LDAvis(\"#\" + \"ldavis_el146561404175445607043384183435\", ldavis_el146561404175445607043384183435_data);\n",
       "            })\n",
       "         });\n",
       "}\n",
       "</script>"
      ],
      "text/plain": [
       "PreparedData(topic_coordinates=              x         y  topics  cluster       Freq\n",
       "topic                                                \n",
       "1     -0.335627 -0.217745       1        1  28.085217\n",
       "18    -0.302093 -0.145063       2        1  18.153990\n",
       "9     -0.271870 -0.004537       3        1  15.586853\n",
       "19    -0.213916  0.101545       4        1   8.162782\n",
       "3      0.014729  0.121688       5        1   5.748532\n",
       "10    -0.144864  0.268438       6        1   5.679879\n",
       "6     -0.129660  0.185644       7        1   5.134195\n",
       "2     -0.061842 -0.076502       8        1   2.129767\n",
       "14    -0.018008 -0.093220       9        1   1.930819\n",
       "16     0.000212  0.059319      10        1   1.922101\n",
       "11     0.069658  0.074444      11        1   1.423860\n",
       "0      0.119144  0.020978      12        1   1.152387\n",
       "12     0.109095 -0.008046      13        1   1.039408\n",
       "8      0.085481 -0.055229      14        1   0.971931\n",
       "7      0.131145 -0.010047      15        1   0.884551\n",
       "4      0.160738 -0.037304      16        1   0.697291\n",
       "13     0.172285 -0.042792      17        1   0.449756\n",
       "15     0.198402 -0.044230      18        1   0.375347\n",
       "5      0.200337 -0.048561      19        1   0.334445\n",
       "17     0.216654 -0.048779      20        1   0.136887, topic_info=              Term          Freq         Total Category  logprob  loglift\n",
       "3718            ax  36366.000000  36366.000000  Default  30.0000  30.0000\n",
       "18            line  15682.000000  15682.000000  Default  29.0000  29.0000\n",
       "197          write  13139.000000  13139.000000  Default  28.0000  28.0000\n",
       "39            year   4567.000000   4567.000000  Default  27.0000  27.0000\n",
       "140         people   7716.000000   7716.000000  Default  26.0000  26.0000\n",
       "...            ...           ...           ...      ...      ...      ...\n",
       "6226  redistribute      0.026008      1.250146  Topic20 -11.0266   2.7211\n",
       "6951     judgement      0.026008      1.250164  Topic20 -11.0266   2.7211\n",
       "9115      tomorrow      0.026008      1.250169  Topic20 -11.0266   2.7211\n",
       "5664  announcement      0.026008      1.250197  Topic20 -11.0266   2.7211\n",
       "4072          baby      0.026008      1.250174  Topic20 -11.0266   2.7211\n",
       "\n",
       "[866 rows x 6 columns], token_table=      Topic      Freq          Term\n",
       "term                               \n",
       "1227      1  0.999082        accept\n",
       "345      15  0.914017    acceptance\n",
       "326      17  0.943324  accidentally\n",
       "0         7  0.998126      addition\n",
       "175       2  0.399800       address\n",
       "...     ...       ...           ...\n",
       "39        1  0.028244          year\n",
       "39        3  0.824319          year\n",
       "39       14  0.147348          year\n",
       "722      13  0.992126     yesterday\n",
       "570       1  0.998438         young\n",
       "\n",
       "[1113 rows x 3 columns], R=30, lambda_step=0.01, plot_opts={'xlab': 'PC1', 'ylab': 'PC2'}, topic_order=[2, 19, 10, 20, 4, 11, 7, 3, 15, 17, 12, 1, 13, 9, 8, 5, 14, 16, 6, 18])"
      ]
     },
     "execution_count": 35,
     "metadata": {},
     "output_type": "execute_result"
    }
   ],
   "source": [
    "# Visualize the topics\n",
    "pyLDAvis.enable_notebook()\n",
    "vis = pyLDAvis.gensim.prepare(lda_model, corpus, id2word)\n",
    "vis"
   ]
  },
  {
   "cell_type": "markdown",
   "metadata": {},
   "source": [
    "16. LDA mallet (improvement) (below takes time to run)"
   ]
  },
  {
   "cell_type": "code",
   "execution_count": 36,
   "metadata": {},
   "outputs": [],
   "source": [
    "mallet_path = '~/mallet-2.0.8/bin/mallet' # update this path\n",
    "ldamallet = gensim.models.wrappers.LdaMallet(mallet_path, corpus=corpus, num_topics=20, id2word=id2word)\n",
    "\n"
   ]
  },
  {
   "cell_type": "code",
   "execution_count": 37,
   "metadata": {},
   "outputs": [
    {
     "name": "stdout",
     "output_type": "stream",
     "text": [
      "[(11,\n",
      "  [('space', 0.023034339406537003),\n",
      "   ('system', 0.01177169279063355),\n",
      "   ('design', 0.008568943941290008),\n",
      "   ('launch', 0.007975056737438225),\n",
      "   ('project', 0.007720533650073176),\n",
      "   ('year', 0.007105436188940972),\n",
      "   ('technology', 0.006850913101575922),\n",
      "   ('earth', 0.006638810528771714),\n",
      "   ('time', 0.006214605383163298),\n",
      "   ('high', 0.006044923324919931)]),\n",
      " (12,\n",
      "  [('people', 0.017638816913303008),\n",
      "   ('book', 0.01128577186618299),\n",
      "   ('man', 0.010997869522657914),\n",
      "   ('church', 0.00923206848237078),\n",
      "   ('turkish', 0.008425941920500566),\n",
      "   ('history', 0.00836836145179555),\n",
      "   ('world', 0.008272394003953859),\n",
      "   ('armenian', 0.008234007024817183),\n",
      "   ('today', 0.00777336327517706),\n",
      "   ('find', 0.0071399781194218925)]),\n",
      " (4,\n",
      "  [('gun', 0.023727382831137372),\n",
      "   ('law', 0.0175065144786582),\n",
      "   ('state', 0.0159283590854039),\n",
      "   ('kill', 0.015653099423789774),\n",
      "   ('crime', 0.009615737512386684),\n",
      "   ('people', 0.009579036224171469),\n",
      "   ('attack', 0.009505633647741036),\n",
      "   ('israeli', 0.009138620765588872),\n",
      "   ('weapon', 0.008588101442360626),\n",
      "   ('government', 0.008221088560208463)]),\n",
      " (1,\n",
      "  [('question', 0.015080142897790142),\n",
      "   ('true', 0.01305681135594828),\n",
      "   ('exist', 0.012835509468559325),\n",
      "   ('claim', 0.010496032373304669),\n",
      "   ('religion', 0.010053428598526763),\n",
      "   ('life', 0.009342101103347981),\n",
      "   ('argument', 0.009152413771300306),\n",
      "   ('reason', 0.009120799215959027),\n",
      "   ('evidence', 0.008741424551863677),\n",
      "   ('faith', 0.008599159052827921)]),\n",
      " (16,\n",
      "  [('ax', 0.9714166699726267),\n",
      "   ('tq', 0.0012893243940175349),\n",
      "   ('tg', 0.000535565517514976),\n",
      "   ('wwiz', 0.0004958939976990518),\n",
      "   ('ei_ei', 0.0004562224778831277),\n",
      "   ('tm', 0.00043638671797516563),\n",
      "   ('mb', 0.00039671519815924147),\n",
      "   ('eqtm', 0.0003768794382512794),\n",
      "   ('mh', 0.0003768794382512794),\n",
      "   ('part', 0.0003768794382512794)]),\n",
      " (17,\n",
      "  [('drive', 0.03507162823200559),\n",
      "   ('problem', 0.02664220824598183),\n",
      "   ('card', 0.026554856743535988),\n",
      "   ('system', 0.02413085255066387),\n",
      "   ('work', 0.01937019566736548),\n",
      "   ('driver', 0.017972571628232004),\n",
      "   ('bit', 0.01570143256464011),\n",
      "   ('disk', 0.013888888888888888),\n",
      "   ('run', 0.013648672257162823),\n",
      "   ('memory', 0.013364779874213837)]),\n",
      " (2,\n",
      "  [('make', 0.020643820577164365),\n",
      "   ('work', 0.017448243412797992),\n",
      "   ('money', 0.016173933500627354),\n",
      "   ('year', 0.01584065244667503),\n",
      "   ('job', 0.011743255959849435),\n",
      "   ('people', 0.011606022584692597),\n",
      "   ('pay', 0.011488393977415308),\n",
      "   ('time', 0.008861355081555835),\n",
      "   ('talk', 0.008351631116687578),\n",
      "   ('support', 0.008116373902132998)]),\n",
      " (9,\n",
      "  [('car', 0.039602358108889145),\n",
      "   ('bike', 0.012576580742110738),\n",
      "   ('ride', 0.010634608715755405),\n",
      "   ('engine', 0.009178129695988904),\n",
      "   ('light', 0.009108773552190499),\n",
      "   ('turn', 0.008299618541209109),\n",
      "   ('drive', 0.008230262397410704),\n",
      "   ('back', 0.007767888105421339),\n",
      "   ('side', 0.007282395098832505),\n",
      "   ('front', 0.007166801525835163)]),\n",
      " (5,\n",
      "  [('high', 0.015055079559363525),\n",
      "   ('rate', 0.013659730722154222),\n",
      "   ('number', 0.013512851897184822),\n",
      "   ('article', 0.012607099143206854),\n",
      "   ('drug', 0.012288861689106487),\n",
      "   ('show', 0.010379436964504284),\n",
      "   ('report', 0.009400244798041616),\n",
      "   ('line', 0.009326805385556915),\n",
      "   ('time', 0.009008567931456548),\n",
      "   ('level', 0.008959608323133415)]),\n",
      " (8,\n",
      "  [('people', 0.02089111115609628),\n",
      "   ('time', 0.015486143444199275),\n",
      "   ('leave', 0.013846434138342882),\n",
      "   ('day', 0.012915241199214559),\n",
      "   ('start', 0.011437478491467439),\n",
      "   ('happen', 0.01137674851717646),\n",
      "   ('live', 0.011356505192412802),\n",
      "   ('back', 0.01113382862001255),\n",
      "   ('woman', 0.009069009494119314),\n",
      "   ('call', 0.008360493127391243)])]\n"
     ]
    }
   ],
   "source": [
    "# Show Topics\n",
    "pprint(ldamallet.show_topics(formatted=False))"
   ]
  },
  {
   "cell_type": "code",
   "execution_count": 38,
   "metadata": {},
   "outputs": [
    {
     "name": "stdout",
     "output_type": "stream",
     "text": [
      "\n",
      "Coherence Score:  0.5721462097501041\n"
     ]
    }
   ],
   "source": [
    "# Compute Coherence Score\n",
    "coherence_model_ldamallet = CoherenceModel(model=ldamallet, #actually works somehow?\n",
    "                                           texts=data_lemmatized, \n",
    "                                           dictionary=id2word, \n",
    "                                           coherence='c_v')\n",
    "coherence_ldamallet = coherence_model_ldamallet.get_coherence()\n",
    "print('\\nCoherence Score: ', coherence_ldamallet) ## .49 --> .57 (pretty good improvement). "
   ]
  },
  {
   "cell_type": "markdown",
   "metadata": {},
   "source": [
    "17. Find optimal number of topics for LDA :\n",
    "\n",
    "My approach to finding the optimal number of topics is to build many LDA models with different values of number of topics (k) and pick the one that gives the highest coherence value.\n",
    "\n",
    "Choosing a ‘k’ that marks the end of a rapid growth of topic coherence usually offers meaningful and interpretable topics. Picking an even higher value can sometimes provide more granular sub-topics.\n",
    "\n",
    "If you see the same keywords being repeated in multiple topics, it’s probably a sign that the ‘k’ is too large.\n",
    "\n",
    "The compute_coherence_values() (see below) trains multiple LDA models and provides the models and their corresponding coherence scores."
   ]
  },
  {
   "cell_type": "code",
   "execution_count": 39,
   "metadata": {},
   "outputs": [],
   "source": [
    "def compute_coherence_values(dictionary, corpus, texts, limit, start=2, step=3):\n",
    "    \"\"\"\n",
    "    Compute c_v coherence for various number of topics\n",
    "\n",
    "    Parameters:\n",
    "    ----------\n",
    "    dictionary : Gensim dictionary\n",
    "    corpus : Gensim corpus\n",
    "    texts : List of input texts\n",
    "    limit : Max num of topics\n",
    "\n",
    "    Returns:\n",
    "    -------\n",
    "    model_list : List of LDA topic models\n",
    "    coherence_values : Coherence values corresponding to the LDA model with respective number of topics\n",
    "    \"\"\"\n",
    "    coherence_values = []\n",
    "    model_list = []\n",
    "    for num_topics in range(start, limit, step):\n",
    "        model = gensim.models.wrappers.LdaMallet(mallet_path, corpus=corpus, num_topics=num_topics, id2word=id2word)\n",
    "        model_list.append(model)\n",
    "        coherencemodel = CoherenceModel(model=model, texts=texts, dictionary=dictionary, coherence='c_v')\n",
    "        coherence_values.append(coherencemodel.get_coherence())\n",
    "\n",
    "    return model_list, coherence_values"
   ]
  },
  {
   "cell_type": "code",
   "execution_count": 41,
   "metadata": {},
   "outputs": [],
   "source": [
    "# Can take a long time to run.\n",
    "model_list, coherence_values = compute_coherence_values(dictionary=id2word, \n",
    "                                                        corpus=corpus, \n",
    "                                                        texts=data_lemmatized, \n",
    "                                                        start=2,  ## starts with 2 topics. \n",
    "                                                        limit=40,  ## maximum of 40 topics. \n",
    "                                                        step=6) ## 2 --> 8 --> 14 --> etc. "
   ]
  },
  {
   "cell_type": "code",
   "execution_count": 42,
   "metadata": {},
   "outputs": [
    {
     "data": {
      "image/png": "[encoded data removed]",
      "text/plain": [
       "<Figure size 432x288 with 1 Axes>"
      ]
     },
     "metadata": {
      "needs_background": "light"
     },
     "output_type": "display_data"
    }
   ],
   "source": [
    "# Show graph --> looks like 20 topics is pretty good. \n",
    "limit=40; start=2; step=6;\n",
    "x = range(start, limit, step)\n",
    "plt.plot(x, coherence_values)\n",
    "plt.xlabel(\"Num Topics\")\n",
    "plt.ylabel(\"Coherence score\")\n",
    "plt.legend((\"coherence_values\"), loc='best')\n",
    "plt.show() "
   ]
  },
  {
   "cell_type": "code",
   "execution_count": 44,
   "metadata": {},
   "outputs": [
    {
     "name": "stdout",
     "output_type": "stream",
     "text": [
      "Num Topics = 2  has Coherence Value of 0.4752\n",
      "Num Topics = 8  has Coherence Value of 0.5008\n",
      "Num Topics = 14  has Coherence Value of 0.5539\n",
      "Num Topics = 20  has Coherence Value of 0.5762\n",
      "Num Topics = 26  has Coherence Value of 0.5737\n",
      "Num Topics = 32  has Coherence Value of 0.5776\n",
      "Num Topics = 38  has Coherence Value of 0.5844\n"
     ]
    }
   ],
   "source": [
    "# Print the coherence scores\n",
    "for m, cv in zip(x, coherence_values):\n",
    "    print(\"Num Topics =\", m, \" has Coherence Value of\", round(cv, 4))"
   ]
  },
  {
   "cell_type": "code",
   "execution_count": 46,
   "metadata": {},
   "outputs": [
    {
     "name": "stdout",
     "output_type": "stream",
     "text": [
      "[(0,\n",
      "  '0.018*\"people\" + 0.017*\"happen\" + 0.016*\"day\" + 0.014*\"start\" + '\n",
      "  '0.013*\"time\" + 0.012*\"leave\" + 0.012*\"hear\" + 0.010*\"fire\" + 0.010*\"child\" '\n",
      "  '+ 0.009*\"back\"'),\n",
      " (1,\n",
      "  '0.022*\"include\" + 0.018*\"list\" + 0.015*\"send\" + 0.015*\"software\" + '\n",
      "  '0.013*\"mail\" + 0.012*\"information\" + 0.012*\"version\" + 0.012*\"system\" + '\n",
      "  '0.011*\"base\" + 0.011*\"support\"'),\n",
      " (2,\n",
      "  '0.035*\"drive\" + 0.029*\"problem\" + 0.027*\"card\" + 0.022*\"system\" + '\n",
      "  '0.018*\"work\" + 0.017*\"driver\" + 0.015*\"run\" + 0.014*\"disk\" + 0.014*\"bit\" + '\n",
      "  '0.014*\"memory\"'),\n",
      " (3,\n",
      "  '0.972*\"ax\" + 0.001*\"tq\" + 0.001*\"tg\" + 0.000*\"wwiz\" + 0.000*\"ei_ei\" + '\n",
      "  '0.000*\"mb\" + 0.000*\"eqtm\" + 0.000*\"tm\" + 0.000*\"end\" + 0.000*\"part\"'),\n",
      " (4,\n",
      "  '0.020*\"power\" + 0.015*\"line\" + 0.012*\"current\" + 0.012*\"work\" + '\n",
      "  '0.011*\"ground\" + 0.009*\"high\" + 0.009*\"wire\" + 0.008*\"water\" + 0.007*\"low\" '\n",
      "  '+ 0.007*\"hot\"'),\n",
      " (5,\n",
      "  '0.017*\"system\" + 0.016*\"information\" + 0.016*\"encryption\" + '\n",
      "  '0.015*\"government\" + 0.014*\"technology\" + 0.010*\"security\" + 0.010*\"key\" + '\n",
      "  '0.010*\"public\" + 0.009*\"provide\" + 0.009*\"network\"'),\n",
      " (6,\n",
      "  '0.014*\"word\" + 0.013*\"man\" + 0.013*\"people\" + 0.012*\"christian\" + '\n",
      "  '0.010*\"church\" + 0.009*\"life\" + 0.009*\"religion\" + 0.008*\"book\" + '\n",
      "  '0.008*\"faith\" + 0.008*\"love\"'),\n",
      " (7,\n",
      "  '0.032*\"game\" + 0.030*\"year\" + 0.029*\"team\" + 0.025*\"play\" + 0.020*\"player\" '\n",
      "  '+ 0.017*\"good\" + 0.015*\"win\" + 0.013*\"season\" + 0.010*\"run\" + '\n",
      "  '0.010*\"score\"'),\n",
      " (8,\n",
      "  '0.026*\"gun\" + 0.022*\"law\" + 0.020*\"state\" + 0.017*\"people\" + 0.011*\"case\" + '\n",
      "  '0.010*\"crime\" + 0.010*\"person\" + 0.009*\"weapon\" + 0.007*\"kill\" + '\n",
      "  '0.007*\"firearm\"'),\n",
      " (9,\n",
      "  '0.041*\"car\" + 0.013*\"bike\" + 0.011*\"ride\" + 0.009*\"drive\" + 0.009*\"engine\" '\n",
      "  '+ 0.008*\"back\" + 0.008*\"turn\" + 0.008*\"good\" + 0.008*\"speed\" + '\n",
      "  '0.008*\"front\"'),\n",
      " (10,\n",
      "  '0.037*\"key\" + 0.030*\"line\" + 0.026*\"bit\" + 0.023*\"number\" + 0.018*\"call\" + '\n",
      "  '0.018*\"time\" + 0.017*\"message\" + 0.017*\"point\" + 0.016*\"give\" + '\n",
      "  '0.015*\"part\"'),\n",
      " (11,\n",
      "  '0.045*\"file\" + 0.027*\"window\" + 0.022*\"program\" + 0.014*\"line\" + '\n",
      "  '0.014*\"set\" + 0.013*\"display\" + 0.011*\"color\" + 0.011*\"application\" + '\n",
      "  '0.009*\"entry\" + 0.009*\"image\"'),\n",
      " (12,\n",
      "  '0.041*\"good\" + 0.036*\"make\" + 0.036*\"thing\" + 0.031*\"people\" + 0.030*\"post\" '\n",
      "  '+ 0.022*\"read\" + 0.018*\"bad\" + 0.015*\"write\" + 0.014*\"feel\" + 0.013*\"give\"'),\n",
      " (13,\n",
      "  '0.104*\"line\" + 0.041*\"host\" + 0.032*\"nntp_poste\" + 0.026*\"price\" + '\n",
      "  '0.023*\"sell\" + 0.022*\"buy\" + 0.021*\"sale\" + 0.021*\"mail\" + '\n",
      "  '0.019*\"organization\" + 0.016*\"interested\"'),\n",
      " (14,\n",
      "  '0.023*\"space\" + 0.010*\"system\" + 0.008*\"launch\" + 0.008*\"year\" + '\n",
      "  '0.008*\"project\" + 0.007*\"earth\" + 0.007*\"high\" + 0.007*\"time\" + '\n",
      "  '0.007*\"design\" + 0.007*\"research\"'),\n",
      " (15,\n",
      "  '0.218*\"write\" + 0.141*\"article\" + 0.137*\"line\" + 0.061*\"nntp_poste\" + '\n",
      "  '0.060*\"organization\" + 0.057*\"host\" + 0.021*\"reply\" + 0.017*\"hear\" + '\n",
      "  '0.011*\"opinion\" + 0.007*\"news\"'),\n",
      " (16,\n",
      "  '0.020*\"question\" + 0.016*\"exist\" + 0.015*\"claim\" + 0.014*\"true\" + '\n",
      "  '0.013*\"reason\" + 0.012*\"evidence\" + 0.012*\"argument\" + 0.009*\"human\" + '\n",
      "  '0.009*\"wrong\" + 0.008*\"science\"'),\n",
      " (17,\n",
      "  '0.020*\"make\" + 0.016*\"work\" + 0.016*\"money\" + 0.015*\"year\" + 0.013*\"people\" '\n",
      "  '+ 0.012*\"pay\" + 0.011*\"job\" + 0.009*\"time\" + 0.008*\"spend\" + '\n",
      "  '0.007*\"government\"'),\n",
      " (18,\n",
      "  '0.012*\"study\" + 0.012*\"drug\" + 0.010*\"problem\" + 0.009*\"food\" + '\n",
      "  '0.008*\"doctor\" + 0.007*\"effect\" + 0.007*\"find\" + 0.007*\"patient\" + '\n",
      "  '0.007*\"eat\" + 0.006*\"day\"'),\n",
      " (19,\n",
      "  '0.017*\"people\" + 0.010*\"israeli\" + 0.009*\"war\" + 0.009*\"attack\" + '\n",
      "  '0.009*\"armenian\" + 0.008*\"turkish\" + 0.008*\"land\" + 0.008*\"kill\" + '\n",
      "  '0.008*\"government\" + 0.007*\"force\"')]\n"
     ]
    }
   ],
   "source": [
    "# Select the model and print the topics\n",
    "optimal_model = model_list[3]\n",
    "model_topics = optimal_model.show_topics(formatted=False)\n",
    "pprint(optimal_model.print_topics(num_words=10))"
   ]
  },
  {
   "cell_type": "markdown",
   "metadata": {},
   "source": [
    "18. Finding dominant topic in each sentence (takes time). "
   ]
  },
  {
   "cell_type": "code",
   "execution_count": 47,
   "metadata": {},
   "outputs": [
    {
     "data": {
      "text/html": [
       "<div>\n",
       "<style scoped>\n",
       "    .dataframe tbody tr th:only-of-type {\n",
       "        vertical-align: middle;\n",
       "    }\n",
       "\n",
       "    .dataframe tbody tr th {\n",
       "        vertical-align: top;\n",
       "    }\n",
       "\n",
       "    .dataframe thead th {\n",
       "        text-align: right;\n",
       "    }\n",
       "</style>\n",
       "<table border=\"1\" class=\"dataframe\">\n",
       "  <thead>\n",
       "    <tr style=\"text-align: right;\">\n",
       "      <th></th>\n",
       "      <th>Document_No</th>\n",
       "      <th>Dominant_Topic</th>\n",
       "      <th>Topic_Perc_Contrib</th>\n",
       "      <th>Keywords</th>\n",
       "      <th>Text</th>\n",
       "    </tr>\n",
       "  </thead>\n",
       "  <tbody>\n",
       "    <tr>\n",
       "      <th>0</th>\n",
       "      <td>0</td>\n",
       "      <td>9.0</td>\n",
       "      <td>0.1673</td>\n",
       "      <td>car, bike, ride, drive, engine, back, turn, go...</td>\n",
       "      <td>From: (wheres my thing) Subject: WHAT car is t...</td>\n",
       "    </tr>\n",
       "    <tr>\n",
       "      <th>1</th>\n",
       "      <td>1</td>\n",
       "      <td>2.0</td>\n",
       "      <td>0.1747</td>\n",
       "      <td>drive, problem, card, system, work, driver, ru...</td>\n",
       "      <td>From: (Guy Kuo) Subject: SI Clock Poll - Final...</td>\n",
       "    </tr>\n",
       "    <tr>\n",
       "      <th>2</th>\n",
       "      <td>2</td>\n",
       "      <td>12.0</td>\n",
       "      <td>0.1349</td>\n",
       "      <td>good, make, thing, people, post, read, bad, wr...</td>\n",
       "      <td>From: (Thomas E Willis) Subject: PB questions....</td>\n",
       "    </tr>\n",
       "    <tr>\n",
       "      <th>3</th>\n",
       "      <td>3</td>\n",
       "      <td>15.0</td>\n",
       "      <td>0.1146</td>\n",
       "      <td>write, article, line, nntp_poste, organization...</td>\n",
       "      <td>From: (Joe Green) Subject: Re: Weitek P9000 ? ...</td>\n",
       "    </tr>\n",
       "    <tr>\n",
       "      <th>4</th>\n",
       "      <td>4</td>\n",
       "      <td>11.0</td>\n",
       "      <td>0.1186</td>\n",
       "      <td>file, window, program, line, set, display, col...</td>\n",
       "      <td>From: (Jonathan McDowell) Subject: Re: Shuttle...</td>\n",
       "    </tr>\n",
       "    <tr>\n",
       "      <th>5</th>\n",
       "      <td>5</td>\n",
       "      <td>8.0</td>\n",
       "      <td>0.3416</td>\n",
       "      <td>gun, law, state, people, case, crime, person, ...</td>\n",
       "      <td>From: (Foxvog Douglas) Subject: Re: Rewording ...</td>\n",
       "    </tr>\n",
       "    <tr>\n",
       "      <th>6</th>\n",
       "      <td>6</td>\n",
       "      <td>12.0</td>\n",
       "      <td>0.1009</td>\n",
       "      <td>good, make, thing, people, post, read, bad, wr...</td>\n",
       "      <td>From: (brian manning delaney) Subject: Brain T...</td>\n",
       "    </tr>\n",
       "    <tr>\n",
       "      <th>7</th>\n",
       "      <td>7</td>\n",
       "      <td>2.0</td>\n",
       "      <td>0.4644</td>\n",
       "      <td>drive, problem, card, system, work, driver, ru...</td>\n",
       "      <td>From: (GRUBB) Subject: Re: IDE vs SCSI Organiz...</td>\n",
       "    </tr>\n",
       "    <tr>\n",
       "      <th>8</th>\n",
       "      <td>8</td>\n",
       "      <td>11.0</td>\n",
       "      <td>0.1380</td>\n",
       "      <td>file, window, program, line, set, display, col...</td>\n",
       "      <td>From: Subject: WIn 3.0 ICON HELP PLEASE! Organ...</td>\n",
       "    </tr>\n",
       "    <tr>\n",
       "      <th>9</th>\n",
       "      <td>9</td>\n",
       "      <td>2.0</td>\n",
       "      <td>0.2330</td>\n",
       "      <td>drive, problem, card, system, work, driver, ru...</td>\n",
       "      <td>From: (Stan Kerr) Subject: Re: Sigma Designs D...</td>\n",
       "    </tr>\n",
       "  </tbody>\n",
       "</table>\n",
       "</div>"
      ],
      "text/plain": [
       "   Document_No  Dominant_Topic  Topic_Perc_Contrib  \\\n",
       "0            0             9.0              0.1673   \n",
       "1            1             2.0              0.1747   \n",
       "2            2            12.0              0.1349   \n",
       "3            3            15.0              0.1146   \n",
       "4            4            11.0              0.1186   \n",
       "5            5             8.0              0.3416   \n",
       "6            6            12.0              0.1009   \n",
       "7            7             2.0              0.4644   \n",
       "8            8            11.0              0.1380   \n",
       "9            9             2.0              0.2330   \n",
       "\n",
       "                                            Keywords  \\\n",
       "0  car, bike, ride, drive, engine, back, turn, go...   \n",
       "1  drive, problem, card, system, work, driver, ru...   \n",
       "2  good, make, thing, people, post, read, bad, wr...   \n",
       "3  write, article, line, nntp_poste, organization...   \n",
       "4  file, window, program, line, set, display, col...   \n",
       "5  gun, law, state, people, case, crime, person, ...   \n",
       "6  good, make, thing, people, post, read, bad, wr...   \n",
       "7  drive, problem, card, system, work, driver, ru...   \n",
       "8  file, window, program, line, set, display, col...   \n",
       "9  drive, problem, card, system, work, driver, ru...   \n",
       "\n",
       "                                                Text  \n",
       "0  From: (wheres my thing) Subject: WHAT car is t...  \n",
       "1  From: (Guy Kuo) Subject: SI Clock Poll - Final...  \n",
       "2  From: (Thomas E Willis) Subject: PB questions....  \n",
       "3  From: (Joe Green) Subject: Re: Weitek P9000 ? ...  \n",
       "4  From: (Jonathan McDowell) Subject: Re: Shuttle...  \n",
       "5  From: (Foxvog Douglas) Subject: Re: Rewording ...  \n",
       "6  From: (brian manning delaney) Subject: Brain T...  \n",
       "7  From: (GRUBB) Subject: Re: IDE vs SCSI Organiz...  \n",
       "8  From: Subject: WIn 3.0 ICON HELP PLEASE! Organ...  \n",
       "9  From: (Stan Kerr) Subject: Re: Sigma Designs D...  "
      ]
     },
     "execution_count": 47,
     "metadata": {},
     "output_type": "execute_result"
    }
   ],
   "source": [
    "def format_topics_sentences(ldamodel=lda_model, corpus=corpus, texts=data):\n",
    "    # Init output\n",
    "    sent_topics_df = pd.DataFrame()\n",
    "\n",
    "    # Get main topic in each document\n",
    "    for i, row in enumerate(ldamodel[corpus]):\n",
    "        row = sorted(row, key=lambda x: (x[1]), reverse=True)\n",
    "        # Get the Dominant topic, Perc Contribution and Keywords for each document\n",
    "        for j, (topic_num, prop_topic) in enumerate(row):\n",
    "            if j == 0:  # => dominant topic\n",
    "                wp = ldamodel.show_topic(topic_num)\n",
    "                topic_keywords = \", \".join([word for word, prop in wp])\n",
    "                sent_topics_df = sent_topics_df.append(pd.Series([int(topic_num), round(prop_topic,4), topic_keywords]), ignore_index=True)\n",
    "            else:\n",
    "                break\n",
    "    sent_topics_df.columns = ['Dominant_Topic', 'Perc_Contribution', 'Topic_Keywords']\n",
    "\n",
    "    # Add original text to the end of the output\n",
    "    contents = pd.Series(texts)\n",
    "    sent_topics_df = pd.concat([sent_topics_df, contents], axis=1)\n",
    "    return(sent_topics_df)\n",
    "\n",
    "\n",
    "df_topic_sents_keywords = format_topics_sentences(ldamodel=optimal_model, corpus=corpus, texts=data)\n",
    "\n",
    "# Format\n",
    "df_dominant_topic = df_topic_sents_keywords.reset_index()\n",
    "df_dominant_topic.columns = ['Document_No', 'Dominant_Topic', 'Topic_Perc_Contrib', 'Keywords', 'Text']\n",
    "\n",
    "# Show\n",
    "df_dominant_topic.head(10)"
   ]
  },
  {
   "cell_type": "markdown",
   "metadata": {},
   "source": [
    "19. Most representative document for each topic (reverse idea)."
   ]
  },
  {
   "cell_type": "code",
   "execution_count": 48,
   "metadata": {},
   "outputs": [
    {
     "data": {
      "text/html": [
       "<div>\n",
       "<style scoped>\n",
       "    .dataframe tbody tr th:only-of-type {\n",
       "        vertical-align: middle;\n",
       "    }\n",
       "\n",
       "    .dataframe tbody tr th {\n",
       "        vertical-align: top;\n",
       "    }\n",
       "\n",
       "    .dataframe thead th {\n",
       "        text-align: right;\n",
       "    }\n",
       "</style>\n",
       "<table border=\"1\" class=\"dataframe\">\n",
       "  <thead>\n",
       "    <tr style=\"text-align: right;\">\n",
       "      <th></th>\n",
       "      <th>Topic_Num</th>\n",
       "      <th>Topic_Perc_Contrib</th>\n",
       "      <th>Keywords</th>\n",
       "      <th>Text</th>\n",
       "    </tr>\n",
       "  </thead>\n",
       "  <tbody>\n",
       "    <tr>\n",
       "      <th>0</th>\n",
       "      <td>0.0</td>\n",
       "      <td>0.8367</td>\n",
       "      <td>people, happen, day, start, time, leave, hear,...</td>\n",
       "      <td>From: (David Davidian) Subject: Accounts of An...</td>\n",
       "    </tr>\n",
       "    <tr>\n",
       "      <th>1</th>\n",
       "      <td>1.0</td>\n",
       "      <td>0.7222</td>\n",
       "      <td>include, list, send, software, mail, informati...</td>\n",
       "      <td>From: (Marc Conrad) Subject: Re: List of large...</td>\n",
       "    </tr>\n",
       "    <tr>\n",
       "      <th>2</th>\n",
       "      <td>2.0</td>\n",
       "      <td>0.7719</td>\n",
       "      <td>drive, problem, card, system, work, driver, ru...</td>\n",
       "      <td>From: (D. Keith Rice) Subject: Re: Drive/Contr...</td>\n",
       "    </tr>\n",
       "    <tr>\n",
       "      <th>3</th>\n",
       "      <td>3.0</td>\n",
       "      <td>0.9949</td>\n",
       "      <td>ax, tq, tg, wwiz, ei_ei, mb, eqtm, tm, end, part</td>\n",
       "      <td>Subject: roman.bmp 12/14 From: (Cliff) Reply-T...</td>\n",
       "    </tr>\n",
       "    <tr>\n",
       "      <th>4</th>\n",
       "      <td>4.0</td>\n",
       "      <td>0.7297</td>\n",
       "      <td>power, line, current, work, ground, high, wire...</td>\n",
       "      <td>From: Subject: Grounding power wiring, was Re:...</td>\n",
       "    </tr>\n",
       "  </tbody>\n",
       "</table>\n",
       "</div>"
      ],
      "text/plain": [
       "   Topic_Num  Topic_Perc_Contrib  \\\n",
       "0        0.0              0.8367   \n",
       "1        1.0              0.7222   \n",
       "2        2.0              0.7719   \n",
       "3        3.0              0.9949   \n",
       "4        4.0              0.7297   \n",
       "\n",
       "                                            Keywords  \\\n",
       "0  people, happen, day, start, time, leave, hear,...   \n",
       "1  include, list, send, software, mail, informati...   \n",
       "2  drive, problem, card, system, work, driver, ru...   \n",
       "3   ax, tq, tg, wwiz, ei_ei, mb, eqtm, tm, end, part   \n",
       "4  power, line, current, work, ground, high, wire...   \n",
       "\n",
       "                                                Text  \n",
       "0  From: (David Davidian) Subject: Accounts of An...  \n",
       "1  From: (Marc Conrad) Subject: Re: List of large...  \n",
       "2  From: (D. Keith Rice) Subject: Re: Drive/Contr...  \n",
       "3  Subject: roman.bmp 12/14 From: (Cliff) Reply-T...  \n",
       "4  From: Subject: Grounding power wiring, was Re:...  "
      ]
     },
     "execution_count": 48,
     "metadata": {},
     "output_type": "execute_result"
    }
   ],
   "source": [
    "# Group top 5 sentences under each topic\n",
    "sent_topics_sorteddf_mallet = pd.DataFrame()\n",
    "\n",
    "sent_topics_outdf_grpd = df_topic_sents_keywords.groupby('Dominant_Topic')\n",
    "\n",
    "for i, grp in sent_topics_outdf_grpd:\n",
    "    sent_topics_sorteddf_mallet = pd.concat([sent_topics_sorteddf_mallet, \n",
    "                                             grp.sort_values(['Perc_Contribution'], ascending=[0]).head(1)], \n",
    "                                            axis=0)\n",
    "\n",
    "# Reset Index    \n",
    "sent_topics_sorteddf_mallet.reset_index(drop=True, inplace=True)\n",
    "\n",
    "# Format\n",
    "sent_topics_sorteddf_mallet.columns = ['Topic_Num', \"Topic_Perc_Contrib\", \"Keywords\", \"Text\"]\n",
    "\n",
    "# Show\n",
    "sent_topics_sorteddf_mallet.head()"
   ]
  },
  {
   "cell_type": "markdown",
   "metadata": {},
   "source": [
    "20. Topic distribution across documents: "
   ]
  },
  {
   "cell_type": "code",
   "execution_count": 49,
   "metadata": {},
   "outputs": [
    {
     "data": {
      "text/html": [
       "<div>\n",
       "<style scoped>\n",
       "    .dataframe tbody tr th:only-of-type {\n",
       "        vertical-align: middle;\n",
       "    }\n",
       "\n",
       "    .dataframe tbody tr th {\n",
       "        vertical-align: top;\n",
       "    }\n",
       "\n",
       "    .dataframe thead th {\n",
       "        text-align: right;\n",
       "    }\n",
       "</style>\n",
       "<table border=\"1\" class=\"dataframe\">\n",
       "  <thead>\n",
       "    <tr style=\"text-align: right;\">\n",
       "      <th></th>\n",
       "      <th>Dominant_Topic</th>\n",
       "      <th>Topic_Keywords</th>\n",
       "      <th>Num_Documents</th>\n",
       "      <th>Perc_Documents</th>\n",
       "    </tr>\n",
       "  </thead>\n",
       "  <tbody>\n",
       "    <tr>\n",
       "      <th>0.0</th>\n",
       "      <td>9.0</td>\n",
       "      <td>car, bike, ride, drive, engine, back, turn, go...</td>\n",
       "      <td>341.0</td>\n",
       "      <td>0.0301</td>\n",
       "    </tr>\n",
       "    <tr>\n",
       "      <th>1.0</th>\n",
       "      <td>2.0</td>\n",
       "      <td>drive, problem, card, system, work, driver, ru...</td>\n",
       "      <td>564.0</td>\n",
       "      <td>0.0498</td>\n",
       "    </tr>\n",
       "    <tr>\n",
       "      <th>2.0</th>\n",
       "      <td>12.0</td>\n",
       "      <td>good, make, thing, people, post, read, bad, wr...</td>\n",
       "      <td>1218.0</td>\n",
       "      <td>0.1077</td>\n",
       "    </tr>\n",
       "    <tr>\n",
       "      <th>3.0</th>\n",
       "      <td>15.0</td>\n",
       "      <td>write, article, line, nntp_poste, organization...</td>\n",
       "      <td>10.0</td>\n",
       "      <td>0.0009</td>\n",
       "    </tr>\n",
       "    <tr>\n",
       "      <th>4.0</th>\n",
       "      <td>11.0</td>\n",
       "      <td>file, window, program, line, set, display, col...</td>\n",
       "      <td>502.0</td>\n",
       "      <td>0.0444</td>\n",
       "    </tr>\n",
       "    <tr>\n",
       "      <th>...</th>\n",
       "      <td>...</td>\n",
       "      <td>...</td>\n",
       "      <td>...</td>\n",
       "      <td>...</td>\n",
       "    </tr>\n",
       "    <tr>\n",
       "      <th>11309.0</th>\n",
       "      <td>18.0</td>\n",
       "      <td>study, drug, problem, food, doctor, effect, fi...</td>\n",
       "      <td>NaN</td>\n",
       "      <td>NaN</td>\n",
       "    </tr>\n",
       "    <tr>\n",
       "      <th>11310.0</th>\n",
       "      <td>2.0</td>\n",
       "      <td>drive, problem, card, system, work, driver, ru...</td>\n",
       "      <td>NaN</td>\n",
       "      <td>NaN</td>\n",
       "    </tr>\n",
       "    <tr>\n",
       "      <th>11311.0</th>\n",
       "      <td>2.0</td>\n",
       "      <td>drive, problem, card, system, work, driver, ru...</td>\n",
       "      <td>NaN</td>\n",
       "      <td>NaN</td>\n",
       "    </tr>\n",
       "    <tr>\n",
       "      <th>11312.0</th>\n",
       "      <td>10.0</td>\n",
       "      <td>key, line, bit, number, call, time, message, p...</td>\n",
       "      <td>NaN</td>\n",
       "      <td>NaN</td>\n",
       "    </tr>\n",
       "    <tr>\n",
       "      <th>11313.0</th>\n",
       "      <td>9.0</td>\n",
       "      <td>car, bike, ride, drive, engine, back, turn, go...</td>\n",
       "      <td>NaN</td>\n",
       "      <td>NaN</td>\n",
       "    </tr>\n",
       "  </tbody>\n",
       "</table>\n",
       "<p>11314 rows × 4 columns</p>\n",
       "</div>"
      ],
      "text/plain": [
       "         Dominant_Topic                                     Topic_Keywords  \\\n",
       "0.0                 9.0  car, bike, ride, drive, engine, back, turn, go...   \n",
       "1.0                 2.0  drive, problem, card, system, work, driver, ru...   \n",
       "2.0                12.0  good, make, thing, people, post, read, bad, wr...   \n",
       "3.0                15.0  write, article, line, nntp_poste, organization...   \n",
       "4.0                11.0  file, window, program, line, set, display, col...   \n",
       "...                 ...                                                ...   \n",
       "11309.0            18.0  study, drug, problem, food, doctor, effect, fi...   \n",
       "11310.0             2.0  drive, problem, card, system, work, driver, ru...   \n",
       "11311.0             2.0  drive, problem, card, system, work, driver, ru...   \n",
       "11312.0            10.0  key, line, bit, number, call, time, message, p...   \n",
       "11313.0             9.0  car, bike, ride, drive, engine, back, turn, go...   \n",
       "\n",
       "         Num_Documents  Perc_Documents  \n",
       "0.0              341.0          0.0301  \n",
       "1.0              564.0          0.0498  \n",
       "2.0             1218.0          0.1077  \n",
       "3.0               10.0          0.0009  \n",
       "4.0              502.0          0.0444  \n",
       "...                ...             ...  \n",
       "11309.0            NaN             NaN  \n",
       "11310.0            NaN             NaN  \n",
       "11311.0            NaN             NaN  \n",
       "11312.0            NaN             NaN  \n",
       "11313.0            NaN             NaN  \n",
       "\n",
       "[11314 rows x 4 columns]"
      ]
     },
     "execution_count": 49,
     "metadata": {},
     "output_type": "execute_result"
    }
   ],
   "source": [
    "# Number of Documents for Each Topic\n",
    "topic_counts = df_topic_sents_keywords['Dominant_Topic'].value_counts()\n",
    "\n",
    "# Percentage of Documents for Each Topic\n",
    "topic_contribution = round(topic_counts/topic_counts.sum(), 4)\n",
    "\n",
    "# Topic Number and Keywords\n",
    "topic_num_keywords = df_topic_sents_keywords[['Dominant_Topic', 'Topic_Keywords']]\n",
    "\n",
    "# Concatenate Column wise\n",
    "df_dominant_topics = pd.concat([topic_num_keywords, topic_counts, topic_contribution], axis=1)\n",
    "\n",
    "# Change Column names\n",
    "df_dominant_topics.columns = ['Dominant_Topic', 'Topic_Keywords', 'Num_Documents', 'Perc_Documents']\n",
    "\n",
    "# Show\n",
    "df_dominant_topics"
   ]
  },
  {
   "cell_type": "code",
   "execution_count": null,
   "metadata": {},
   "outputs": [],
   "source": []
  }
 ],
 "metadata": {
  "kernelspec": {
   "display_name": "Python 3",
   "language": "python",
   "name": "python3"
  },
  "language_info": {
   "codemirror_mode": {
    "name": "ipython",
    "version": 3
   },
   "file_extension": ".py",
   "mimetype": "text/x-python",
   "name": "python",
   "nbconvert_exporter": "python",
   "pygments_lexer": "ipython3",
   "version": "3.8.5"
  }
 },
 "nbformat": 4,
 "nbformat_minor": 4
}
